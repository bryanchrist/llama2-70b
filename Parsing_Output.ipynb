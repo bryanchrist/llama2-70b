{
 "cells": [
  {
   "cell_type": "markdown",
   "id": "faeb9bc9-ca82-49f1-be45-a7d8dd2ea42e",
   "metadata": {},
   "source": [
    "# Parsing LLM Output\n",
    "This notebook takes output from finetuned Llama 65B and parses it to prepare a dataset that will be used for RLHF. "
   ]
  },
  {
   "cell_type": "markdown",
   "id": "413c0b10-e5e0-4757-b155-82967d9a26b6",
   "metadata": {},
   "source": [
    "## Load in output and parse it\n",
    "This block loads in the output, parses it for solution and question, and executes the solution block. It inlcudes Try and Except blocks for cases when the model creates an incomplete output."
   ]
  },
  {
   "cell_type": "code",
   "execution_count": 6,
   "id": "f4d1f7c0-8c9e-449b-a331-1ca86f2b8cea",
   "metadata": {},
   "outputs": [],
   "source": [
    "file_path = 'questions_5shot.txt'\n",
    "data = []\n",
    "\n",
    "with open(file_path, 'r') as file:\n",
    "    text = file.read()\n",
    "    sections = text.split(\"Prompting Approach: few shot. Generated Text: ### Response:\")\n",
    "    del sections[0]  # Remove the initial part before the question\n",
    "    total_gens = len(sections)\n",
    "    for section in sections:\n",
    "        try:\n",
    "            question = section.split(\"Question:\")[1].strip()\n",
    "            question = question.split(\"Solution:\")[0].strip()\n",
    "            solution = section.split(\"Solution:\")[1].strip()\n",
    "            solution = solution.split('\\n    return result')[0]\n",
    "            solution = solution + '\\n    return result'\n",
    "            solution_text = solution\n",
    "            try:\n",
    "                # Execute the Python code\n",
    "                exec(solution)\n",
    "                answer = solution()\n",
    "                data.append({\"question\": question, \"solution\": solution_text, 'answer': answer})\n",
    "            except: \n",
    "                try: #pick up questions that did not indent the code block\n",
    "                    solution_new = \"\"\n",
    "                    lines = solution.split('\\n')\n",
    "                    indent = False\n",
    "                    for line in lines:\n",
    "                        if line.startswith('def solution():'):\n",
    "                            solution_new += line + '\\n'\n",
    "                            \n",
    "                        if not line.startswith('def solution():') and not line.startswith('    return result'):\n",
    "                            solution_new += '    ' + line + '\\n'\n",
    "                            \n",
    "                        if line.startswith('    return result'):\n",
    "                            solution_new += line\n",
    "                    solution_text = solution_new\n",
    "                    # Execute the Python code\n",
    "                    exec(solution_new)\n",
    "                    answer = solution()\n",
    "                    data.append({\"question\": question, \"solution\": solution_text, 'answer': answer})\n",
    "                \n",
    "                except: \n",
    "                    pass\n",
    "                    #pass if code doesn't execute\n",
    "        except IndexError:\n",
    "            pass\n",
    "            #pass if there is no solution"
   ]
  },
  {
   "cell_type": "code",
   "execution_count": 7,
   "id": "ad66420f-0d04-490c-94d1-c75770abacac",
   "metadata": {
    "tags": []
   },
   "outputs": [],
   "source": [
    "for i in range(0, len(data)):\n",
    "    data[i]['question_number'] = f\"question{i}\""
   ]
  },
  {
   "cell_type": "code",
   "execution_count": 9,
   "id": "c76177f1-a494-4ffc-a420-fabd3541adb6",
   "metadata": {},
   "outputs": [
    {
     "data": {
      "text/plain": [
       "3222"
      ]
     },
     "execution_count": 9,
     "metadata": {},
     "output_type": "execute_result"
    }
   ],
   "source": [
    "len(data)"
   ]
  },
  {
   "cell_type": "code",
   "execution_count": 15,
   "id": "bd2068b6-ea4b-4023-bced-6cdc0e707217",
   "metadata": {},
   "outputs": [],
   "source": [
    "data_toloka = []\n",
    "for i in range(0, len(data)):\n",
    "    data_toloka.append({'question_number': data[i]['question_number'], 'question': data[i]['question'], 'answer': data[i]['answer']})"
   ]
  },
  {
   "cell_type": "markdown",
   "id": "d1ab087d-c2ab-49e9-ab8c-87b181cd00d9",
   "metadata": {},
   "source": [
    "## Export as CSV"
   ]
  },
  {
   "cell_type": "code",
   "execution_count": 30,
   "id": "ece876ba-24f1-4f59-95f6-1e1eb992208e",
   "metadata": {},
   "outputs": [
    {
     "name": "stdout",
     "output_type": "stream",
     "text": [
      "Full data saved to JSON successfully.\n",
      "Toloka data saved to JSON successfully.\n",
      "Data saved to CSV successfully.\n"
     ]
    }
   ],
   "source": [
    "import pandas as pd\n",
    "import json\n",
    "data_path = 'data/questions_run1.json'\n",
    "\n",
    "# Save data as a JSON file\n",
    "with open(data_path, 'w') as json_file:\n",
    "    json.dump(data, json_file, indent=4)\n",
    "\n",
    "print(\"Full data saved to JSON successfully.\")\n",
    "\n",
    "data_path = 'data/questions_run1_toloka.json'\n",
    "\n",
    "# Save data as a JSON file\n",
    "with open(data_path, 'w') as json_file:\n",
    "    json.dump(data_toloka, json_file, indent=4)\n",
    "    \n",
    "print(\"Toloka data saved to JSON successfully.\")\n",
    "\n",
    "import pandas as pd\n",
    "df = pd.read_json(data_path)\n",
    "df.dropna(subset = ['answer'], inplace=True)\n",
    "df = df[:2000]\n",
    "df.to_csv('data/questions_run1.csv')\n",
    "print(\"Data saved to CSV successfully.\")"
   ]
  },
  {
   "cell_type": "code",
   "execution_count": 21,
   "id": "bd8533ba-f654-43c6-b681-6b4155e3bb9b",
   "metadata": {},
   "outputs": [
    {
     "data": {
      "text/plain": [
       "{'question': 'A cake of soap weighs 4 ounces.  A box of soap powder weighs 16 ounces.  A bottle of detergent weighs 20 ounces.  A tote bag can hold 100 ounces of laundry supplies.  How many tote bags are needed to carry 12 cakes of soap, 8 boxes of soap powder, and 6 bottles of detergent?',\n",
       " 'solution': 'def solution():\\n    #A cake of soap weighs 4 ounces\\n    soap_cake_weight = 4\\n    #A box of soap powder weighs 16 ounces\\n    soap_powder_weight = 16\\n    #A bottle of detergent weighs 20 ounces\\n    detergent_weight = 20\\n    #A tote bag can hold 100 ounces\\n    tote_bag_capacity = 100\\n    #12 cakes of soap weigh\\n    soap_cake_total_weight = soap_cake_weight * 12\\n    #8 boxes of soap powder weigh\\n    soap_powder_total_weight = soap_powder_weight * 8\\n    #6 bottles of detergent weigh\\n    detergent_total_weight = detergent_weight * 6\\n    #The total weight of all the laundry supplies is\\n    total_weight = soap_cake_total_weight + soap_powder_total_weight + detergent_total_weight\\n    #The answer is\\n    result = total_weight / tote_bag_capacity\\n    return result',\n",
       " 'answer': 2.96,\n",
       " 'question_number': 'question3200'}"
      ]
     },
     "execution_count": 21,
     "metadata": {},
     "output_type": "execute_result"
    }
   ],
   "source": [
    "data[3200]"
   ]
  },
  {
   "cell_type": "code",
   "execution_count": 22,
   "id": "e1863e05-4cf7-46c1-a043-d9ae341dda25",
   "metadata": {},
   "outputs": [
    {
     "data": {
      "text/plain": [
       "{'question': 'A cake of soap weighs 4 ounces.  A box of soap powder weighs 16 ounces.  A bottle of detergent weighs 20 ounces.  A tote bag full of laundry weighs 40 pounds.  How many ounces of soap and detergent, in total, does a load of laundry weigh?',\n",
       " 'solution': 'def solution():\\n    #A cake of soap weighs 4 ounces\\n    soap_cake_weight = 4\\n    #A box of soap powder weighs 16 ounces\\n    soap_powder_weight = 16\\n    #A bottle of detergent weighs 20 ounces\\n    detergent_weight = 20\\n    #A tote bag full of laundry weighs 40 pounds\\n    laundry_weight = 40\\n    #A pound is 16 ounces\\n    pound_to_ounces = 16\\n    #The laundry weighs 40 * 16 = <<40*16=640>>640 ounces\\n    laundry_ounces = laundry_weight * pound_to_ounces\\n    #The soap and detergent weigh 4 + 16 + 20 = <<4+16+20=40>>40 ounces\\n    soap_and_detergent_weight = soap_cake_weight + soap_powder_weight + detergent_weight\\n    #The answer is\\n    result = laundry_ounces + soap_and_detergent_weight\\n    return result',\n",
       " 'answer': 680,\n",
       " 'question_number': 'question3206'}"
      ]
     },
     "execution_count": 22,
     "metadata": {},
     "output_type": "execute_result"
    }
   ],
   "source": [
    "data[3206]"
   ]
  },
  {
   "cell_type": "code",
   "execution_count": 26,
   "id": "d45ad4b9-8e8a-4e72-8994-5b73e058d5fb",
   "metadata": {},
   "outputs": [
    {
     "data": {
      "text/plain": [
       "{'question': 'A 20-ounce soda has 12 ounces of sugar. A 12-ounce soda has 8 ounces of sugar. How much more sugar is in a 20-ounce soda than in a 12-ounce soda?',\n",
       " 'solution': 'def solution():\\n    #A 20-ounce soda has 12 ounces of sugar\\n    sugar_20_oz = 12\\n    #A 12-ounce soda has 8 ounces of sugar\\n    sugar_12_oz = 8\\n    #The answer is\\n    result = sugar_20_oz - sugar_12_oz\\n    return result',\n",
       " 'answer': 4,\n",
       " 'question_number': 'question3185'}"
      ]
     },
     "execution_count": 26,
     "metadata": {},
     "output_type": "execute_result"
    }
   ],
   "source": [
    "data[3185]"
   ]
  },
  {
   "cell_type": "code",
   "execution_count": 25,
   "id": "54a69a62-08a0-4c19-9198-1fda6223e9bd",
   "metadata": {},
   "outputs": [
    {
     "data": {
      "text/plain": [
       "{'question': 'A 20-ounce soda has 10 ounces of sugar. How much sugar is in a 6-pack of soda?',\n",
       " 'solution': 'def solution():\\n    #A soda has 10 ounces of sugar\\n    sugar_per_soda = 10\\n    #A 6-pack has 6 sodas\\n    sodas_in_6_pack = 6\\n    #The answer is\\n    result = sugar_per_soda * sodas_in_6_pack\\n    return result',\n",
       " 'answer': 60,\n",
       " 'question_number': 'question3186'}"
      ]
     },
     "execution_count": 25,
     "metadata": {},
     "output_type": "execute_result"
    }
   ],
   "source": [
    "data[3186]"
   ]
  },
  {
   "cell_type": "code",
   "execution_count": null,
   "id": "6f5cf82f-5e71-4884-a4b5-efac121bd30c",
   "metadata": {},
   "outputs": [],
   "source": []
  }
 ],
 "metadata": {
  "kernelspec": {
   "display_name": "Python 3",
   "language": "python",
   "name": "python3"
  },
  "language_info": {
   "codemirror_mode": {
    "name": "ipython",
    "version": 3
   },
   "file_extension": ".py",
   "mimetype": "text/x-python",
   "name": "python",
   "nbconvert_exporter": "python",
   "pygments_lexer": "ipython3",
   "version": "3.8.8"
  }
 },
 "nbformat": 4,
 "nbformat_minor": 5
}
