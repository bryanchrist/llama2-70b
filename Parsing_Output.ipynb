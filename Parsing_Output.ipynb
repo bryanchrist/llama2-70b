{
 "cells": [
  {
   "cell_type": "markdown",
   "id": "faeb9bc9-ca82-49f1-be45-a7d8dd2ea42e",
   "metadata": {},
   "source": [
    "# Parsing LLM Output\n",
    "This notebook takes output from finetuned Llama 65B and parses it to prepare a dataset that will be used for RLHF. "
   ]
  },
  {
   "cell_type": "markdown",
   "id": "413c0b10-e5e0-4757-b155-82967d9a26b6",
   "metadata": {},
   "source": [
    "## Load in output and parse it\n",
    "This block loads in the output, parses it for solution and question, and executes the solution block. It inlcudes Try and Except blocks for cases when the model creates an incomplete output."
   ]
  },
  {
   "cell_type": "code",
   "execution_count": 80,
   "id": "e2c3a9e8-0ac4-451a-8cc6-d805863c8538",
   "metadata": {},
   "outputs": [],
   "source": [
    "file_path = 'testing_output.txt'\n",
    "data = []\n",
    "\n",
    "with open(file_path, 'r') as file:\n",
    "    text = file.read()\n",
    "    sections = text.split(\"Question:\")\n",
    "    del sections[0]  # Remove the initial part before the first question\n",
    "\n",
    "    for section in sections:\n",
    "        try:\n",
    "            question = section.split(\"Solution:\")[0].strip()\n",
    "            solution = section.split(\"Solution:\")[1].strip()\n",
    "            solution = solution.split('return result')[0]\n",
    "            solution = solution + '\\n    return result'\n",
    "            solution_text = solution\n",
    "            try:\n",
    "                # Execute the Python code\n",
    "                exec(solution)\n",
    "                answer = solution()\n",
    "                data.append({\"question\": question, \"solution\": solution_text, 'answer': answer})\n",
    "            except: \n",
    "                try: #pick up questions that did not indent the code block\n",
    "                    solution_new = \"\"\n",
    "                    lines = solution.split('\\n')\n",
    "                    indent = False\n",
    "                    for line in lines:\n",
    "                        if line.startswith('def solution():') or line.startswith('    return result'):\n",
    "                            solution_new += line + '\\n'\n",
    "\n",
    "                        indent= True\n",
    "                        if indent and not line.startswith('def solution():') and not line.startswith('    return result'):\n",
    "                            solution_new += '    ' + line + '\\n'\n",
    "                    solution_text = solution_new\n",
    "                    # Execute the Python code\n",
    "                    exec(solution_new)\n",
    "                    answer = solution()\n",
    "                    data.append({\"question\": question, \"solution\": solution_text, 'answer': answer})\n",
    "                \n",
    "                except: \n",
    "                    pass\n",
    "                    #pass if code doesn't execute\n",
    "        except IndexError:\n",
    "            pass\n",
    "            #pass if there is no solution"
   ]
  },
  {
   "cell_type": "markdown",
   "id": "d1ab087d-c2ab-49e9-ab8c-87b181cd00d9",
   "metadata": {},
   "source": [
    "## Export as JSON"
   ]
  },
  {
   "cell_type": "code",
   "execution_count": 82,
   "id": "ece876ba-24f1-4f59-95f6-1e1eb992208e",
   "metadata": {},
   "outputs": [
    {
     "name": "stdout",
     "output_type": "stream",
     "text": [
      "Data saved as JSON successfully.\n"
     ]
    }
   ],
   "source": [
    "import json\n",
    "data_path = 'app/questions.json'\n",
    "\n",
    "# Save data as a JSON file\n",
    "with open(data_path, 'a') as json_file:\n",
    "    json.dump(data, json_file, indent=4)\n",
    "\n",
    "print(\"Data saved as JSON successfully.\")"
   ]
  },
  {
   "cell_type": "code",
   "execution_count": null,
   "id": "eec0bfd7-056e-4411-9542-06113386a3e2",
   "metadata": {},
   "outputs": [],
   "source": []
  }
 ],
 "metadata": {
  "kernelspec": {
   "display_name": "Python 3",
   "language": "python",
   "name": "python3"
  },
  "language_info": {
   "codemirror_mode": {
    "name": "ipython",
    "version": 3
   },
   "file_extension": ".py",
   "mimetype": "text/x-python",
   "name": "python",
   "nbconvert_exporter": "python",
   "pygments_lexer": "ipython3",
   "version": "3.8.8"
  }
 },
 "nbformat": 4,
 "nbformat_minor": 5
}
