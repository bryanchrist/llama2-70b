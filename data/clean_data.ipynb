{
 "cells": [
  {
   "cell_type": "markdown",
   "id": "8ba590af-65f1-4611-9ff1-dc264bf7032a",
   "metadata": {},
   "source": [
    "# Clean GSM Hard Data"
   ]
  },
  {
   "cell_type": "code",
   "execution_count": 1,
   "id": "e2c17b62-0bd0-4501-b9aa-ac0654d2aa4c",
   "metadata": {},
   "outputs": [],
   "source": [
    "import jsonlines\n",
    "import json\n",
    "file_path = 'gsmhardv2.jsonl'\n",
    "data = []\n",
    "\n",
    "with jsonlines.open(file_path) as reader:\n",
    "    for line in reader:\n",
    "        data.append(line)"
   ]
  },
  {
   "cell_type": "code",
   "execution_count": 2,
   "id": "e15feb6d-df4f-475f-8911-ded9b1a80c37",
   "metadata": {},
   "outputs": [],
   "source": [
    "for item in data:\n",
    "    item[\"output\"] = \"Question: \" + item['input'] + \" Solution: \" + item['code']\n",
    "    item[\"instruction\"] = \"Write a math word problem and Python code to solve the word problem.\"\n",
    "    del item['input']\n",
    "    del item['code']\n",
    "    del item['target']\n",
    "    item['input'] = \"\"\n",
    "# Write the data to a new JSON file\n",
    "output_file = \"gsmhard_clean.json\"\n",
    "with open(output_file, 'w') as json_file:\n",
    "    json.dump(data, json_file)"
   ]
  },
  {
   "cell_type": "markdown",
   "id": "544b1a5e-02ba-4bc4-bc0e-d0e0fc7abd41",
   "metadata": {},
   "source": [
    "# Clean GSM Training Data"
   ]
  },
  {
   "cell_type": "code",
   "execution_count": 3,
   "id": "a80014c0-06b1-4a8f-b3f3-3aa2d62ca87b",
   "metadata": {},
   "outputs": [],
   "source": [
    "import jsonlines\n",
    "import json\n",
    "file_path = 'train.jsonl'\n",
    "data = []\n",
    "\n",
    "with jsonlines.open(file_path) as reader:\n",
    "    for line in reader:\n",
    "        data.append(line)"
   ]
  },
  {
   "cell_type": "code",
   "execution_count": 4,
   "id": "b5468ee1-862a-44fd-b715-b68eb51ddb59",
   "metadata": {},
   "outputs": [],
   "source": [
    "for item in data:\n",
    "    item[\"output\"] = \"Question: \" + item['question'] + \" Solution: \" + item['answer']\n",
    "    item[\"instruction\"] = \"Write a math word problem and step-by-step solution to solve the word problem.\"\n",
    "    del item['question']\n",
    "    del item['answer']\n",
    "    item['input'] = \"\"\n",
    "data\n",
    "# Write the data to a new JSON file\n",
    "output_file = \"gsm_clean.json\"\n",
    "with open(output_file, 'w') as json_file:\n",
    "    json.dump(data, json_file)"
   ]
  },
  {
   "cell_type": "markdown",
   "id": "8d4cec8a-5c50-445a-ba0b-ef870fce2b53",
   "metadata": {},
   "source": [
    "# Combine JSON Files to One Training Dataset"
   ]
  },
  {
   "cell_type": "code",
   "execution_count": 5,
   "id": "51aa40e3-3c7e-46a7-8cd6-e6d52f9a76c4",
   "metadata": {},
   "outputs": [],
   "source": [
    "import json\n",
    "\n",
    "# Read the first JSON file\n",
    "file1 = 'gsmhard_clean.json'\n",
    "with open(file1, 'r') as json_file:\n",
    "    data1 = json.load(json_file)\n",
    "\n",
    "# Read the second JSON file\n",
    "file2 = 'gsm_clean.json'\n",
    "with open(file2, 'r') as json_file:\n",
    "    data2 = json.load(json_file)\n",
    "\n",
    "# Combine the data from both files\n",
    "combined_data = data1 + data2\n",
    "\n",
    "# Write the combined data to a new JSON file\n",
    "output_file = 'train.json'\n",
    "with open(output_file, 'w') as json_file:\n",
    "    json.dump(combined_data, json_file)"
   ]
  }
 ],
 "metadata": {
  "kernelspec": {
   "display_name": "Python 3",
   "language": "python",
   "name": "python3"
  },
  "language_info": {
   "codemirror_mode": {
    "name": "ipython",
    "version": 3
   },
   "file_extension": ".py",
   "mimetype": "text/x-python",
   "name": "python",
   "nbconvert_exporter": "python",
   "pygments_lexer": "ipython3",
   "version": "3.8.8"
  }
 },
 "nbformat": 4,
 "nbformat_minor": 5
}
