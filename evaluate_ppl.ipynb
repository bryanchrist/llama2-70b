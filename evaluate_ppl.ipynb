{
 "cells": [
  {
   "cell_type": "code",
   "execution_count": 2,
   "id": "9413064e-2c0c-4295-b247-421c49b62a0c",
   "metadata": {},
   "outputs": [],
   "source": [
    "import pandas as pd\n",
    "import numpy as np\n",
    "import scipy.stats as st"
   ]
  },
  {
   "cell_type": "code",
   "execution_count": 3,
   "id": "f24feb62-c30e-46bb-8467-4e2cbd8552e6",
   "metadata": {},
   "outputs": [],
   "source": [
    "sgsm_unan_ppl = np.load('sgsm_unan_ppl.npy')\n",
    "sgsm_train_ppl = np.load('sgsm_train_ppl.npy')\n",
    "gsm8k_ppl = np.load('gsm8k_ppl.npy')\n",
    "mathwell_ppl = np.load('mathwell_ppl.npy')\n",
    "llama_ppl = np.load('llama_ppl.npy')\n",
    "llema_ppl = np.load('llema_ppl.npy')\n",
    "mammoth_ppl = np.load('mammoth_ppl.npy')\n",
    "mathwell_mac_ppl = np.load('mathwell_mac_ppl.npy')\n",
    "llama_mac_ppl = np.load('llama_mac_ppl.npy')\n",
    "llema_mac_ppl = np.load('llema_mac_ppl.npy')\n",
    "mammoth_mac_ppl = np.load('mammoth_mac_ppl.npy')\n",
    "gpt35_mac_ppl = np.load('gpt35_mac_ppl.npy')\n",
    "gpt35_ppl = np.load('gpt35_ppl.npy')\n",
    "gpt4_mac_ppl = np.load('gpt4_mac_ppl.npy')\n",
    "gpt4_ppl = np.load('gpt4_ppl.npy')\n",
    "\n",
    "sgsm_unan_ppl = np.load('sgsm_unan_ppl_gpt2.npy')\n",
    "sgsm_train_ppl = np.load('sgsm_train_ppl_gpt2.npy')\n",
    "gsm8k_ppl = np.load('gsm8k_ppl_gpt2.npy')\n",
    "mathwell_ppl = np.load('mathwell_ppl_gpt2.npy')\n",
    "llama_ppl = np.load('llama_ppl_gpt2.npy')\n",
    "llema_ppl = np.load('llema_ppl_gpt2.npy')\n",
    "mammoth_ppl = np.load('mammoth_ppl_gpt2.npy')\n",
    "mathwell_mac_ppl = np.load('mathwell_mac_ppl_gpt2.npy')\n",
    "llama_mac_ppl = np.load('llama_mac_ppl_gpt2.npy')\n",
    "llema_mac_ppl = np.load('llema_mac_ppl_gpt2.npy')\n",
    "mammoth_mac_ppl = np.load('mammoth_mac_ppl_gpt2.npy')\n",
    "gpt35_mac_ppl = np.load('gpt35_mac_ppl_gpt2.npy')\n",
    "gpt35_ppl = np.load('gpt35_ppl_gpt2.npy')\n",
    "gpt4_mac_ppl = np.load('gpt4_mac_ppl_gpt2.npy')\n",
    "gpt4_ppl = np.load('gpt4_ppl_gpt2.npy')"
   ]
  },
  {
   "cell_type": "code",
   "execution_count": 4,
   "id": "74d1faad-35bc-4e22-8f81-7e399368f7b7",
   "metadata": {},
   "outputs": [
    {
     "name": "stdout",
     "output_type": "stream",
     "text": [
      "SGSM Unnotated: PPL: 9.317339897155762 SE: 4.6590423583984375\n"
     ]
    }
   ],
   "source": [
    "print(f\"SGSM Unnotated: PPL: {np.mean(sgsm_unan_ppl)} SE: {np.std(sgsm_unan_ppl)}\")"
   ]
  },
  {
   "cell_type": "code",
   "execution_count": 5,
   "id": "c4eada85-9cdf-40db-b5b6-ed943169ae39",
   "metadata": {},
   "outputs": [
    {
     "name": "stdout",
     "output_type": "stream",
     "text": [
      "SGSM Train: PPL: 10.113408088684082 SE: 3.9667115211486816\n"
     ]
    }
   ],
   "source": [
    "print(f\"SGSM Train: PPL: {np.mean(sgsm_train_ppl)} SE: {np.std(sgsm_train_ppl)}\")"
   ]
  },
  {
   "cell_type": "code",
   "execution_count": 6,
   "id": "83c2e3b9-8e3b-4fae-9962-92a52e30e467",
   "metadata": {},
   "outputs": [
    {
     "name": "stdout",
     "output_type": "stream",
     "text": [
      "gsm8k: PPL: 22.587533950805664 SE: 10.59752082824707\n"
     ]
    }
   ],
   "source": [
    "print(f\"gsm8k: PPL: {np.mean(gsm8k_ppl)} SE: {np.std(gsm8k_ppl)}\")"
   ]
  },
  {
   "cell_type": "code",
   "execution_count": 7,
   "id": "2849f33b-a39e-477f-8a37-1acd02eeac49",
   "metadata": {},
   "outputs": [
    {
     "name": "stdout",
     "output_type": "stream",
     "text": [
      "llema: PPL: 15.201240539550781 SE: 0.5324813610022647\n",
      "mammoth: PPL: 11.957990646362305 SE: 0.2698149864959592\n",
      "llama: PPL: 9.965535163879395 SE: 0.26099445457678133\n",
      "mathwell: PPL: 9.904624938964844 SE: 0.24320427534869027\n",
      "gpt35: PPL: 10.565058708190918 SE: 0.22781033172874945\n",
      "gpt4: PPL: 10.6853609085083 SE: 0.18361121231405766\n"
     ]
    }
   ],
   "source": [
    "print(f\"llema: PPL: {np.mean(llema_ppl)} SE: {st.sem(llema_ppl)}\")\n",
    "print(f\"mammoth: PPL: {np.mean(mammoth_ppl)} SE: {st.sem(mammoth_ppl)}\")\n",
    "print(f\"llama: PPL: {np.mean(llama_ppl)} SE: {st.sem(llama_ppl)}\")\n",
    "print(f\"mathwell: PPL: {np.mean(mathwell_ppl)} SE: {st.sem(mathwell_ppl)}\")\n",
    "print(f\"gpt35: PPL: {np.mean(gpt35_ppl)} SE: {st.sem(gpt35_ppl)}\")\n",
    "print(f\"gpt4: PPL: {np.mean(gpt4_ppl)} SE: {st.sem(gpt4_ppl)}\")"
   ]
  },
  {
   "cell_type": "code",
   "execution_count": 8,
   "id": "bd418656-fdb6-46d0-aeba-88fbac06b181",
   "metadata": {},
   "outputs": [
    {
     "name": "stdout",
     "output_type": "stream",
     "text": [
      "llema_mac: PPL: 13.252544403076172 SE: 0.9751714668091612\n",
      "mammoth_mac: PPL: 12.064146995544434 SE: 0.3411373508166473\n",
      "llama_mac: PPL: 10.295722961425781 SE: 0.3375482839361299\n",
      "mathwell_mac: PPL: 9.939600944519043 SE: 0.29613790319745903\n",
      "gpt35_mac: PPL: 11.059847831726074 SE: 0.2955513677874516\n",
      "gpt4_mac: PPL: 10.632719993591309 SE: 0.19749402507394126\n"
     ]
    }
   ],
   "source": [
    "print(f\"llema_mac: PPL: {np.mean(llema_mac_ppl)} SE: {st.sem(llema_mac_ppl)}\")\n",
    "print(f\"mammoth_mac: PPL: {np.mean(mammoth_mac_ppl)} SE: {st.sem(mammoth_mac_ppl)}\")\n",
    "print(f\"llama_mac: PPL: {np.mean(llama_mac_ppl)} SE: {st.sem(llama_mac_ppl)}\")\n",
    "print(f\"mathwell_mac: PPL: {np.mean(mathwell_mac_ppl)} SE: {st.sem(mathwell_mac_ppl)}\")\n",
    "print(f\"gpt35_mac: PPL: {np.mean(gpt35_mac_ppl)} SE: {st.sem(gpt35_mac_ppl)}\")\n",
    "print(f\"gpt4_mac: PPL: {np.mean(gpt4_mac_ppl)} SE: {st.sem(gpt4_mac_ppl)}\")"
   ]
  },
  {
   "cell_type": "code",
   "execution_count": null,
   "id": "8d0138d3-a8fd-4a6b-9a95-874876cc3b43",
   "metadata": {},
   "outputs": [],
   "source": []
  },
  {
   "cell_type": "code",
   "execution_count": 9,
   "id": "4ea1f7b3-ccbc-4c0b-861c-78cb52fadf9a",
   "metadata": {},
   "outputs": [
    {
     "name": "stdout",
     "output_type": "stream",
     "text": [
      "T-statistic: -0.17073920798577177\n",
      "P-value: 0.8644981779950776\n"
     ]
    }
   ],
   "source": [
    "# Perform an independent two-sample t-test on PPL\n",
    "t_statistic, p_value = st.ttest_ind(mathwell_ppl, llama_ppl)\n",
    "\n",
    "# Print the results\n",
    "print(\"T-statistic:\", t_statistic)\n",
    "print(\"P-value:\", p_value)"
   ]
  },
  {
   "cell_type": "code",
   "execution_count": 10,
   "id": "5d641e0b-2214-4daf-afac-e2ed4f13d349",
   "metadata": {},
   "outputs": [
    {
     "name": "stdout",
     "output_type": "stream",
     "text": [
      "T-statistic: -7.5129294611592305\n",
      "P-value: 6.018850108349656e-14\n"
     ]
    }
   ],
   "source": [
    "# Perform an independent two-sample t-test on PPL\n",
    "t_statistic, p_value = st.ttest_ind(sgsm_unan_ppl, sgsm_train_ppl)\n",
    "\n",
    "# Print the results\n",
    "print(\"T-statistic:\", t_statistic)\n",
    "print(\"P-value:\", p_value)"
   ]
  },
  {
   "cell_type": "code",
   "execution_count": 11,
   "id": "dedfb065-9648-43bb-9ccd-ff43f491edb8",
   "metadata": {},
   "outputs": [
    {
     "data": {
      "text/plain": [
       "136.48286031167407"
      ]
     },
     "execution_count": 11,
     "metadata": {},
     "output_type": "execute_result"
    }
   ],
   "source": [
    "numglue = np.load('numglue_len.npy')\n",
    "np.mean(numglue)\n",
    "np.std(numglue)"
   ]
  },
  {
   "cell_type": "code",
   "execution_count": 12,
   "id": "345cc11e-bec2-4363-a80a-ceaa958b4d92",
   "metadata": {},
   "outputs": [
    {
     "data": {
      "text/plain": [
       "144.82678816224498"
      ]
     },
     "execution_count": 12,
     "metadata": {},
     "output_type": "execute_result"
    }
   ],
   "source": [
    "np.mean(numglue)"
   ]
  },
  {
   "cell_type": "code",
   "execution_count": 12,
   "id": "a2810c4b-5dfe-4e91-b76f-7bfd3cf609fd",
   "metadata": {},
   "outputs": [
    {
     "data": {
      "text/plain": [
       "3484"
      ]
     },
     "execution_count": 12,
     "metadata": {},
     "output_type": "execute_result"
    }
   ],
   "source": [
    "3234+250"
   ]
  },
  {
   "cell_type": "code",
   "execution_count": null,
   "id": "7231cb26-debe-4844-9e26-e3556882be6c",
   "metadata": {},
   "outputs": [],
   "source": []
  },
  {
   "cell_type": "code",
   "execution_count": 29,
   "id": "f0641e11-556f-484e-a3e8-d631099fec3d",
   "metadata": {},
   "outputs": [
    {
     "data": {
      "text/plain": [
       "False"
      ]
     },
     "execution_count": 29,
     "metadata": {},
     "output_type": "execute_result"
    }
   ],
   "source": []
  },
  {
   "cell_type": "code",
   "execution_count": null,
   "id": "1735b6a2-3a5e-4109-9196-611db824108f",
   "metadata": {},
   "outputs": [],
   "source": []
  }
 ],
 "metadata": {
  "kernelspec": {
   "display_name": "Python 3 (ipykernel)",
   "language": "python",
   "name": "python3"
  },
  "language_info": {
   "codemirror_mode": {
    "name": "ipython",
    "version": 3
   },
   "file_extension": ".py",
   "mimetype": "text/x-python",
   "name": "python",
   "nbconvert_exporter": "python",
   "pygments_lexer": "ipython3",
   "version": "3.11.5"
  }
 },
 "nbformat": 4,
 "nbformat_minor": 5
}
