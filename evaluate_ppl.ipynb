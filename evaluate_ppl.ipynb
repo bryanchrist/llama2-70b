{
 "cells": [
  {
   "cell_type": "code",
   "execution_count": 1,
   "id": "9413064e-2c0c-4295-b247-421c49b62a0c",
   "metadata": {},
   "outputs": [],
   "source": [
    "import pandas as pd\n",
    "import numpy as np\n",
    "import scipy.stats as st"
   ]
  },
  {
   "cell_type": "code",
   "execution_count": 3,
   "id": "f24feb62-c30e-46bb-8467-4e2cbd8552e6",
   "metadata": {},
   "outputs": [],
   "source": [
    "sgsm_unan_ppl = np.load('sgsm_unan_ppl.npy')\n",
    "sgsm_train_ppl = np.load('sgsm_train_ppl.npy')\n",
    "gsm8k_ppl = np.load('gsm8k_ppl.npy')"
   ]
  },
  {
   "cell_type": "code",
   "execution_count": 5,
   "id": "74d1faad-35bc-4e22-8f81-7e399368f7b7",
   "metadata": {},
   "outputs": [
    {
     "name": "stdout",
     "output_type": "stream",
     "text": [
      "SGSM Unnotated: PPL: 2.3302063941955566 SE: 0.005126298176686219\n"
     ]
    }
   ],
   "source": [
    "print(f\"SGSM Unnotated: PPL: {np.mean(sgsm_unan_ppl)} SE: {st.sem(sgsm_unan_ppl)}\")"
   ]
  },
  {
   "cell_type": "code",
   "execution_count": 6,
   "id": "c4eada85-9cdf-40db-b5b6-ed943169ae39",
   "metadata": {},
   "outputs": [
    {
     "name": "stdout",
     "output_type": "stream",
     "text": [
      "SGSM Train: PPL: 2.4399402141571045 SE: 0.009599276046557486\n"
     ]
    }
   ],
   "source": [
    "print(f\"SGSM Train: PPL: {np.mean(sgsm_train_ppl)} SE: {st.sem(sgsm_train_ppl)}\")"
   ]
  },
  {
   "cell_type": "code",
   "execution_count": 7,
   "id": "83c2e3b9-8e3b-4fae-9962-92a52e30e467",
   "metadata": {},
   "outputs": [
    {
     "name": "stdout",
     "output_type": "stream",
     "text": [
      "gsm8k: PPL: 3.0715551376342773 SE: 0.005718418433183449\n"
     ]
    }
   ],
   "source": [
    "print(f\"gsm8k: PPL: {np.mean(gsm8k_ppl)} SE: {st.sem(gsm8k_ppl)}\")"
   ]
  },
  {
   "cell_type": "code",
   "execution_count": 9,
   "id": "5d641e0b-2214-4daf-afac-e2ed4f13d349",
   "metadata": {},
   "outputs": [
    {
     "name": "stdout",
     "output_type": "stream",
     "text": [
      "T-statistic: -7.217411275129666\n",
      "P-value: 5.491791718704288e-13\n"
     ]
    }
   ],
   "source": [
    "# Perform an independent two-sample t-test on PPL\n",
    "t_statistic, p_value = st.ttest_ind(sgsm_unan_ppl, sgsm_train_ppl)\n",
    "\n",
    "# Print the results\n",
    "print(\"T-statistic:\", t_statistic)\n",
    "print(\"P-value:\", p_value)"
   ]
  },
  {
   "cell_type": "code",
   "execution_count": null,
   "id": "dedfb065-9648-43bb-9ccd-ff43f491edb8",
   "metadata": {},
   "outputs": [],
   "source": []
  }
 ],
 "metadata": {
  "kernelspec": {
   "display_name": "Python 3 (ipykernel)",
   "language": "python",
   "name": "python3"
  },
  "language_info": {
   "codemirror_mode": {
    "name": "ipython",
    "version": 3
   },
   "file_extension": ".py",
   "mimetype": "text/x-python",
   "name": "python",
   "nbconvert_exporter": "python",
   "pygments_lexer": "ipython3",
   "version": "3.11.5"
  }
 },
 "nbformat": 4,
 "nbformat_minor": 5
}
