{
 "cells": [
  {
   "cell_type": "code",
   "execution_count": 31,
   "id": "9413064e-2c0c-4295-b247-421c49b62a0c",
   "metadata": {},
   "outputs": [],
   "source": [
    "import pandas as pd\n",
    "import numpy as np\n",
    "import scipy.stats as st"
   ]
  },
  {
   "cell_type": "code",
   "execution_count": 38,
   "id": "f24feb62-c30e-46bb-8467-4e2cbd8552e6",
   "metadata": {},
   "outputs": [],
   "source": [
    "sgsm_unan_ppl = np.load('sgsm_unan_ppl.npy')\n",
    "sgsm_train_ppl = np.load('sgsm_train_ppl.npy')\n",
    "gsm8k_ppl = np.load('gsm8k_ppl.npy')\n",
    "mathwell_ppl = np.load('mathwell_ppl.npy')\n",
    "llama_ppl = np.load('llama_ppl.npy')\n",
    "llema_ppl = np.load('llema_ppl.npy')\n",
    "mammoth_ppl = np.load('mammoth_ppl.npy')\n",
    "mathwell_mac_ppl = np.load('mathwell_mac_ppl.npy')\n",
    "llama_mac_ppl = np.load('llama_mac_ppl.npy')\n",
    "llema_mac_ppl = np.load('llema_mac_ppl.npy')\n",
    "mammoth_mac_ppl = np.load('mammoth_mac_ppl.npy')\n",
    "gpt35_mac_ppl = np.load('gpt35_mac_ppl.npy')\n",
    "gpt35_ppl = np.load('gpt35_ppl.npy')\n",
    "gpt4_mac_ppl = np.load('gpt4_mac_ppl.npy')\n",
    "gpt4_ppl = np.load('gpt4_ppl.npy')"
   ]
  },
  {
   "cell_type": "code",
   "execution_count": 33,
   "id": "74d1faad-35bc-4e22-8f81-7e399368f7b7",
   "metadata": {},
   "outputs": [
    {
     "name": "stdout",
     "output_type": "stream",
     "text": [
      "SGSM Unnotated: PPL: 2.324692964553833 SE: 0.6657750010490417\n"
     ]
    }
   ],
   "source": [
    "print(f\"SGSM Unnotated: PPL: {np.mean(sgsm_unan_ppl)} SE: {np.std(sgsm_unan_ppl)}\")"
   ]
  },
  {
   "cell_type": "code",
   "execution_count": 34,
   "id": "c4eada85-9cdf-40db-b5b6-ed943169ae39",
   "metadata": {},
   "outputs": [
    {
     "name": "stdout",
     "output_type": "stream",
     "text": [
      "SGSM Train: PPL: 2.4377036094665527 SE: 0.43902337551116943\n"
     ]
    }
   ],
   "source": [
    "print(f\"SGSM Train: PPL: {np.mean(sgsm_train_ppl)} SE: {np.std(sgsm_train_ppl)}\")"
   ]
  },
  {
   "cell_type": "code",
   "execution_count": 35,
   "id": "83c2e3b9-8e3b-4fae-9962-92a52e30e467",
   "metadata": {},
   "outputs": [
    {
     "name": "stdout",
     "output_type": "stream",
     "text": [
      "gsm8k: PPL: 3.0715551376342773 SE: 0.6907224655151367\n"
     ]
    }
   ],
   "source": [
    "print(f\"gsm8k: PPL: {np.mean(gsm8k_ppl)} SE: {np.std(gsm8k_ppl)}\")"
   ]
  },
  {
   "cell_type": "code",
   "execution_count": 39,
   "id": "2849f33b-a39e-477f-8a37-1acd02eeac49",
   "metadata": {},
   "outputs": [
    {
     "name": "stdout",
     "output_type": "stream",
     "text": [
      "llema: PPL: 3.815603017807007 SE: 0.10063989004662219\n",
      "mammoth: PPL: 2.7554075717926025 SE: 0.03385223187125913\n",
      "llama: PPL: 2.5162270069122314 SE: 0.03480184915730036\n",
      "mathwell: PPL: 2.4397709369659424 SE: 0.02806725516513004\n",
      "gpt35: PPL: 2.638869047164917 SE: 0.03239354664747805\n",
      "gpt4: PPL: 2.503690004348755 SE: 0.026397695085792285\n"
     ]
    }
   ],
   "source": [
    "print(f\"llema: PPL: {np.mean(llema_ppl)} SE: {st.sem(llema_ppl)}\")\n",
    "print(f\"mammoth: PPL: {np.mean(mammoth_ppl)} SE: {st.sem(mammoth_ppl)}\")\n",
    "print(f\"llama: PPL: {np.mean(llama_ppl)} SE: {st.sem(llama_ppl)}\")\n",
    "print(f\"mathwell: PPL: {np.mean(mathwell_ppl)} SE: {st.sem(mathwell_ppl)}\")\n",
    "print(f\"gpt35: PPL: {np.mean(gpt35_ppl)} SE: {st.sem(gpt35_ppl)}\")\n",
    "print(f\"gpt4: PPL: {np.mean(gpt4_ppl)} SE: {st.sem(gpt4_ppl)}\")"
   ]
  },
  {
   "cell_type": "code",
   "execution_count": 40,
   "id": "bd418656-fdb6-46d0-aeba-88fbac06b181",
   "metadata": {},
   "outputs": [
    {
     "name": "stdout",
     "output_type": "stream",
     "text": [
      "llema_mac: PPL: 3.14117431640625 SE: 0.09955932341265106\n",
      "mammoth_mac: PPL: 2.7357773780822754 SE: 0.043786495972792716\n",
      "llama_mac: PPL: 2.5189008712768555 SE: 0.04282297792247023\n",
      "mathwell_mac: PPL: 2.432117462158203 SE: 0.03131497289304951\n",
      "gpt35_mac: PPL: 2.695779323577881 SE: 0.04174676094577576\n",
      "gpt4_mac: PPL: 2.4887821674346924 SE: 0.028904337762539596\n"
     ]
    }
   ],
   "source": [
    "print(f\"llema_mac: PPL: {np.mean(llema_mac_ppl)} SE: {st.sem(llema_mac_ppl)}\")\n",
    "print(f\"mammoth_mac: PPL: {np.mean(mammoth_mac_ppl)} SE: {st.sem(mammoth_mac_ppl)}\")\n",
    "print(f\"llama_mac: PPL: {np.mean(llama_mac_ppl)} SE: {st.sem(llama_mac_ppl)}\")\n",
    "print(f\"mathwell_mac: PPL: {np.mean(mathwell_mac_ppl)} SE: {st.sem(mathwell_mac_ppl)}\")\n",
    "print(f\"gpt35_mac: PPL: {np.mean(gpt35_mac_ppl)} SE: {st.sem(gpt35_mac_ppl)}\")\n",
    "print(f\"gpt4_mac: PPL: {np.mean(gpt4_mac_ppl)} SE: {st.sem(gpt4_mac_ppl)}\")"
   ]
  },
  {
   "cell_type": "code",
   "execution_count": null,
   "id": "8d0138d3-a8fd-4a6b-9a95-874876cc3b43",
   "metadata": {},
   "outputs": [],
   "source": []
  },
  {
   "cell_type": "code",
   "execution_count": 8,
   "id": "4ea1f7b3-ccbc-4c0b-861c-78cb52fadf9a",
   "metadata": {},
   "outputs": [
    {
     "name": "stdout",
     "output_type": "stream",
     "text": [
      "T-statistic: -1.7100631427364852\n",
      "P-value: 0.08787706531090918\n"
     ]
    }
   ],
   "source": [
    "# Perform an independent two-sample t-test on PPL\n",
    "t_statistic, p_value = st.ttest_ind(mathwell_ppl, llama_ppl)\n",
    "\n",
    "# Print the results\n",
    "print(\"T-statistic:\", t_statistic)\n",
    "print(\"P-value:\", p_value)"
   ]
  },
  {
   "cell_type": "code",
   "execution_count": 9,
   "id": "5d641e0b-2214-4daf-afac-e2ed4f13d349",
   "metadata": {},
   "outputs": [
    {
     "name": "stdout",
     "output_type": "stream",
     "text": [
      "T-statistic: -7.578292709145788\n",
      "P-value: 3.649906396917249e-14\n"
     ]
    }
   ],
   "source": [
    "# Perform an independent two-sample t-test on PPL\n",
    "t_statistic, p_value = st.ttest_ind(sgsm_unan_ppl, sgsm_train_ppl)\n",
    "\n",
    "# Print the results\n",
    "print(\"T-statistic:\", t_statistic)\n",
    "print(\"P-value:\", p_value)"
   ]
  },
  {
   "cell_type": "code",
   "execution_count": 10,
   "id": "dedfb065-9648-43bb-9ccd-ff43f491edb8",
   "metadata": {},
   "outputs": [
    {
     "data": {
      "text/plain": [
       "136.64416090041578"
      ]
     },
     "execution_count": 10,
     "metadata": {},
     "output_type": "execute_result"
    }
   ],
   "source": [
    "numglue = np.load('numglue_len.npy')\n",
    "np.mean(numglue)\n",
    "np.std(numglue)"
   ]
  },
  {
   "cell_type": "code",
   "execution_count": 11,
   "id": "345cc11e-bec2-4363-a80a-ceaa958b4d92",
   "metadata": {},
   "outputs": [
    {
     "data": {
      "text/plain": [
       "145.77979749661165"
      ]
     },
     "execution_count": 11,
     "metadata": {},
     "output_type": "execute_result"
    }
   ],
   "source": [
    "np.mean(numglue)"
   ]
  },
  {
   "cell_type": "code",
   "execution_count": 12,
   "id": "a2810c4b-5dfe-4e91-b76f-7bfd3cf609fd",
   "metadata": {},
   "outputs": [
    {
     "data": {
      "text/plain": [
       "3484"
      ]
     },
     "execution_count": 12,
     "metadata": {},
     "output_type": "execute_result"
    }
   ],
   "source": [
    "3234+250"
   ]
  },
  {
   "cell_type": "code",
   "execution_count": null,
   "id": "7231cb26-debe-4844-9e26-e3556882be6c",
   "metadata": {},
   "outputs": [],
   "source": []
  },
  {
   "cell_type": "code",
   "execution_count": 29,
   "id": "f0641e11-556f-484e-a3e8-d631099fec3d",
   "metadata": {},
   "outputs": [
    {
     "data": {
      "text/plain": [
       "False"
      ]
     },
     "execution_count": 29,
     "metadata": {},
     "output_type": "execute_result"
    }
   ],
   "source": []
  },
  {
   "cell_type": "code",
   "execution_count": null,
   "id": "1735b6a2-3a5e-4109-9196-611db824108f",
   "metadata": {},
   "outputs": [],
   "source": []
  }
 ],
 "metadata": {
  "kernelspec": {
   "display_name": "Python 3 (ipykernel)",
   "language": "python",
   "name": "python3"
  },
  "language_info": {
   "codemirror_mode": {
    "name": "ipython",
    "version": 3
   },
   "file_extension": ".py",
   "mimetype": "text/x-python",
   "name": "python",
   "nbconvert_exporter": "python",
   "pygments_lexer": "ipython3",
   "version": "3.11.5"
  }
 },
 "nbformat": 4,
 "nbformat_minor": 5
}
