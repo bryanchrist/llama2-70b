{
 "cells": [
  {
   "cell_type": "code",
   "execution_count": 1,
   "id": "9413064e-2c0c-4295-b247-421c49b62a0c",
   "metadata": {},
   "outputs": [],
   "source": [
    "import pandas as pd\n",
    "import numpy as np\n",
    "import scipy.stats as st"
   ]
  },
  {
   "cell_type": "code",
   "execution_count": 11,
   "id": "f24feb62-c30e-46bb-8467-4e2cbd8552e6",
   "metadata": {},
   "outputs": [],
   "source": [
    "sgsm_unan_ppl = np.load('sgsm_unan_ppl.npy')\n",
    "sgsm_train_ppl = np.load('sgsm_train_ppl.npy')\n",
    "gsm8k_ppl = np.load('gsm8k_ppl.npy')\n",
    "mathwell_ppl = np.load('mathwell_ppl.npy')\n",
    "llama_ppl = np.load('llama_ppl.npy')\n",
    "llema_ppl = np.load('llema_ppl.npy')\n",
    "mammoth_ppl = np.load('mammoth_ppl.npy')\n",
    "mathwell_mac_ppl = np.load('mathwell_mac_ppl.npy')\n",
    "llama_mac_ppl = np.load('llama_mac_ppl.npy')\n",
    "llema_mac_ppl = np.load('llema_mac_ppl.npy')\n",
    "mammoth_mac_ppl = np.load('mammoth_mac_ppl.npy')"
   ]
  },
  {
   "cell_type": "code",
   "execution_count": 5,
   "id": "74d1faad-35bc-4e22-8f81-7e399368f7b7",
   "metadata": {},
   "outputs": [
    {
     "name": "stdout",
     "output_type": "stream",
     "text": [
      "SGSM Unnotated: PPL: 2.3302063941955566 SE: 0.005126298176686219\n"
     ]
    }
   ],
   "source": [
    "print(f\"SGSM Unnotated: PPL: {np.mean(sgsm_unan_ppl)} SE: {st.sem(sgsm_unan_ppl)}\")"
   ]
  },
  {
   "cell_type": "code",
   "execution_count": 6,
   "id": "c4eada85-9cdf-40db-b5b6-ed943169ae39",
   "metadata": {},
   "outputs": [
    {
     "name": "stdout",
     "output_type": "stream",
     "text": [
      "SGSM Train: PPL: 2.4399402141571045 SE: 0.009599276046557486\n"
     ]
    }
   ],
   "source": [
    "print(f\"SGSM Train: PPL: {np.mean(sgsm_train_ppl)} SE: {st.sem(sgsm_train_ppl)}\")"
   ]
  },
  {
   "cell_type": "code",
   "execution_count": 7,
   "id": "83c2e3b9-8e3b-4fae-9962-92a52e30e467",
   "metadata": {},
   "outputs": [
    {
     "name": "stdout",
     "output_type": "stream",
     "text": [
      "gsm8k: PPL: 3.0715551376342773 SE: 0.005718418433183449\n"
     ]
    }
   ],
   "source": [
    "print(f\"gsm8k: PPL: {np.mean(gsm8k_ppl)} SE: {st.sem(gsm8k_ppl)}\")"
   ]
  },
  {
   "cell_type": "code",
   "execution_count": 15,
   "id": "2849f33b-a39e-477f-8a37-1acd02eeac49",
   "metadata": {},
   "outputs": [
    {
     "name": "stdout",
     "output_type": "stream",
     "text": [
      "llema: PPL: 3.7852232456207275 SE: 0.10135996855015307\n",
      "mammoth: PPL: 2.7457666397094727 SE: 0.03333815019430531\n",
      "llama: PPL: 2.4796459674835205 SE: 0.03339474136203475\n",
      "mathwell: PPL: 2.4522807598114014 SE: 0.02779862995025874\n"
     ]
    }
   ],
   "source": [
    "print(f\"llema: PPL: {np.mean(llema_ppl)} SE: {st.sem(llema_ppl)}\")\n",
    "print(f\"mammoth: PPL: {np.mean(mammoth_ppl)} SE: {st.sem(mammoth_ppl)}\")\n",
    "print(f\"llama: PPL: {np.mean(llama_ppl)} SE: {st.sem(llama_ppl)}\")\n",
    "print(f\"mathwell: PPL: {np.mean(mathwell_ppl)} SE: {st.sem(mathwell_ppl)}\")"
   ]
  },
  {
   "cell_type": "code",
   "execution_count": 21,
   "id": "bd418656-fdb6-46d0-aeba-88fbac06b181",
   "metadata": {},
   "outputs": [
    {
     "name": "stdout",
     "output_type": "stream",
     "text": [
      "llema_mac: PPL: 3.119190216064453 SE: 0.09717581264672179\n",
      "mammoth_mac: PPL: 2.744702100753784 SE: 0.04388465277152102\n",
      "llama_mac: PPL: 2.470595359802246 SE: 0.04100431708325837\n",
      "mathwell_mac: PPL: 2.457087278366089 SE: 0.031247437904585576\n"
     ]
    }
   ],
   "source": [
    "print(f\"llema_mac: PPL: {np.mean(llema_mac_ppl)} SE: {st.sem(llema_mac_ppl)}\")\n",
    "print(f\"mammoth_mac: PPL: {np.mean(mammoth_mac_ppl)} SE: {st.sem(mammoth_mac_ppl)}\")\n",
    "print(f\"llama_mac: PPL: {np.mean(llama_mac_ppl)} SE: {st.sem(llama_mac_ppl)}\")\n",
    "print(f\"mathwell_mac: PPL: {np.mean(mathwell_mac_ppl)} SE: {st.sem(mathwell_mac_ppl)}\")"
   ]
  },
  {
   "cell_type": "code",
   "execution_count": null,
   "id": "8d0138d3-a8fd-4a6b-9a95-874876cc3b43",
   "metadata": {},
   "outputs": [],
   "source": []
  },
  {
   "cell_type": "code",
   "execution_count": 16,
   "id": "4ea1f7b3-ccbc-4c0b-861c-78cb52fadf9a",
   "metadata": {},
   "outputs": [
    {
     "name": "stdout",
     "output_type": "stream",
     "text": [
      "T-statistic: -0.6297974541319789\n",
      "P-value: 0.5291159490846744\n"
     ]
    }
   ],
   "source": [
    "# Perform an independent two-sample t-test on PPL\n",
    "t_statistic, p_value = st.ttest_ind(mathwell_ppl, llama_ppl)\n",
    "\n",
    "# Print the results\n",
    "print(\"T-statistic:\", t_statistic)\n",
    "print(\"P-value:\", p_value)"
   ]
  },
  {
   "cell_type": "code",
   "execution_count": 9,
   "id": "5d641e0b-2214-4daf-afac-e2ed4f13d349",
   "metadata": {},
   "outputs": [
    {
     "name": "stdout",
     "output_type": "stream",
     "text": [
      "T-statistic: -7.217411275129666\n",
      "P-value: 5.491791718704288e-13\n"
     ]
    }
   ],
   "source": [
    "# Perform an independent two-sample t-test on PPL\n",
    "t_statistic, p_value = st.ttest_ind(sgsm_unan_ppl, sgsm_train_ppl)\n",
    "\n",
    "# Print the results\n",
    "print(\"T-statistic:\", t_statistic)\n",
    "print(\"P-value:\", p_value)"
   ]
  },
  {
   "cell_type": "code",
   "execution_count": 18,
   "id": "dedfb065-9648-43bb-9ccd-ff43f491edb8",
   "metadata": {},
   "outputs": [
    {
     "data": {
      "text/plain": [
       "136.64416090041578"
      ]
     },
     "execution_count": 18,
     "metadata": {},
     "output_type": "execute_result"
    }
   ],
   "source": [
    "numglue = np.load('numglue_len.npy')\n",
    "np.mean(numglue)\n",
    "np.std(numglue)"
   ]
  },
  {
   "cell_type": "code",
   "execution_count": 19,
   "id": "345cc11e-bec2-4363-a80a-ceaa958b4d92",
   "metadata": {},
   "outputs": [
    {
     "data": {
      "text/plain": [
       "145.77979749661165"
      ]
     },
     "execution_count": 19,
     "metadata": {},
     "output_type": "execute_result"
    }
   ],
   "source": [
    "np.mean(numglue)"
   ]
  },
  {
   "cell_type": "code",
   "execution_count": 20,
   "id": "a2810c4b-5dfe-4e91-b76f-7bfd3cf609fd",
   "metadata": {},
   "outputs": [
    {
     "data": {
      "text/plain": [
       "3484"
      ]
     },
     "execution_count": 20,
     "metadata": {},
     "output_type": "execute_result"
    }
   ],
   "source": [
    "3234+250"
   ]
  },
  {
   "cell_type": "code",
   "execution_count": null,
   "id": "7231cb26-debe-4844-9e26-e3556882be6c",
   "metadata": {},
   "outputs": [],
   "source": []
  },
  {
   "cell_type": "code",
   "execution_count": null,
   "id": "04bea82f-6a25-4e98-92f8-a03d3678cd2e",
   "metadata": {},
   "outputs": [],
   "source": []
  }
 ],
 "metadata": {
  "kernelspec": {
   "display_name": "Python 3 (ipykernel)",
   "language": "python",
   "name": "python3"
  },
  "language_info": {
   "codemirror_mode": {
    "name": "ipython",
    "version": 3
   },
   "file_extension": ".py",
   "mimetype": "text/x-python",
   "name": "python",
   "nbconvert_exporter": "python",
   "pygments_lexer": "ipython3",
   "version": "3.11.5"
  }
 },
 "nbformat": 4,
 "nbformat_minor": 5
}
