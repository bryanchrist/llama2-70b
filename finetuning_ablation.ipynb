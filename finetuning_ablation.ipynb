{
 "cells": [
  {
   "cell_type": "code",
   "execution_count": 1,
   "id": "bb348ed3-0425-4560-8fd5-41e2a210b529",
   "metadata": {},
   "outputs": [],
   "source": [
    "import pandas as pd\n",
    "import numpy as np\n",
    "import numpy as np\n",
    "from scipy import stats\n",
    "import scipy.stats as st"
   ]
  },
  {
   "cell_type": "code",
   "execution_count": 2,
   "id": "da3a6154-edde-4f3d-b3af-d516cf6baef0",
   "metadata": {},
   "outputs": [
    {
     "data": {
      "text/html": [
       "<div>\n",
       "<style scoped>\n",
       "    .dataframe tbody tr th:only-of-type {\n",
       "        vertical-align: middle;\n",
       "    }\n",
       "\n",
       "    .dataframe tbody tr th {\n",
       "        vertical-align: top;\n",
       "    }\n",
       "\n",
       "    .dataframe thead th {\n",
       "        text-align: right;\n",
       "    }\n",
       "</style>\n",
       "<table border=\"1\" class=\"dataframe\">\n",
       "  <thead>\n",
       "    <tr style=\"text-align: right;\">\n",
       "      <th></th>\n",
       "      <th>model</th>\n",
       "      <th>question</th>\n",
       "      <th>solution</th>\n",
       "      <th>answer</th>\n",
       "      <th>accuracy</th>\n",
       "      <th>solvability</th>\n",
       "      <th>appropriateness</th>\n",
       "      <th>good</th>\n",
       "    </tr>\n",
       "  </thead>\n",
       "  <tbody>\n",
       "    <tr>\n",
       "      <th>0</th>\n",
       "      <td>mathwell</td>\n",
       "      <td>LeBron James is 6'9\" tall. 1 inch is 2.54 cm. ...</td>\n",
       "      <td>def solution():\\n    #LeBron James is 6'9\" tal...</td>\n",
       "      <td>205.74</td>\n",
       "      <td>1.0</td>\n",
       "      <td>1</td>\n",
       "      <td>1.0</td>\n",
       "      <td>1</td>\n",
       "    </tr>\n",
       "    <tr>\n",
       "      <th>1</th>\n",
       "      <td>mathwell</td>\n",
       "      <td>Captain America has 1200 ryo. He spends 400 ry...</td>\n",
       "      <td>def solution():\\n    #Captain America started ...</td>\n",
       "      <td>300.0</td>\n",
       "      <td>1.0</td>\n",
       "      <td>1</td>\n",
       "      <td>1.0</td>\n",
       "      <td>1</td>\n",
       "    </tr>\n",
       "    <tr>\n",
       "      <th>2</th>\n",
       "      <td>mathwell</td>\n",
       "      <td>A 250-car train is 2.5 miles long. How many 25...</td>\n",
       "      <td>def solution():\\n    #1 train is 2.5 miles lon...</td>\n",
       "      <td>211200.0</td>\n",
       "      <td>0.0</td>\n",
       "      <td>1</td>\n",
       "      <td>1.0</td>\n",
       "      <td>0</td>\n",
       "    </tr>\n",
       "    <tr>\n",
       "      <th>3</th>\n",
       "      <td>mathwell</td>\n",
       "      <td>3 scoops of ice cream cost $4. \\nHow much does...</td>\n",
       "      <td>def solution():\\n    #3 scoops of ice cream co...</td>\n",
       "      <td>13.333333333333332</td>\n",
       "      <td>1.0</td>\n",
       "      <td>1</td>\n",
       "      <td>1.0</td>\n",
       "      <td>1</td>\n",
       "    </tr>\n",
       "    <tr>\n",
       "      <th>4</th>\n",
       "      <td>mathwell</td>\n",
       "      <td>Iron Man has 500 gold coins. He can use 10 gol...</td>\n",
       "      <td>def solution():\\n    #Iron Man has 500 gold co...</td>\n",
       "      <td>16.666666666666668</td>\n",
       "      <td>1.0</td>\n",
       "      <td>1</td>\n",
       "      <td>0.0</td>\n",
       "      <td>0</td>\n",
       "    </tr>\n",
       "    <tr>\n",
       "      <th>...</th>\n",
       "      <td>...</td>\n",
       "      <td>...</td>\n",
       "      <td>...</td>\n",
       "      <td>...</td>\n",
       "      <td>...</td>\n",
       "      <td>...</td>\n",
       "      <td>...</td>\n",
       "      <td>...</td>\n",
       "    </tr>\n",
       "    <tr>\n",
       "      <th>245</th>\n",
       "      <td>mathwell</td>\n",
       "      <td>The soccer team has 20 players. \\n\\n8 of the p...</td>\n",
       "      <td>def solution():\\n    #The soccer team has 20 p...</td>\n",
       "      <td>7.0</td>\n",
       "      <td>NaN</td>\n",
       "      <td>0</td>\n",
       "      <td>NaN</td>\n",
       "      <td>0</td>\n",
       "    </tr>\n",
       "    <tr>\n",
       "      <th>246</th>\n",
       "      <td>mathwell</td>\n",
       "      <td>LeBron James is 6'9\" tall. \\nHe's 36 years old...</td>\n",
       "      <td>def solution():\\n    #LeBron James is 6'9\" tal...</td>\n",
       "      <td>1.3799999999999997</td>\n",
       "      <td>NaN</td>\n",
       "      <td>0</td>\n",
       "      <td>NaN</td>\n",
       "      <td>0</td>\n",
       "    </tr>\n",
       "    <tr>\n",
       "      <th>247</th>\n",
       "      <td>mathwell</td>\n",
       "      <td>LeBron James is 6 feet 9 inches tall.  He wear...</td>\n",
       "      <td>def solution():\\n    #LeBron is 6 feet 9 inche...</td>\n",
       "      <td>84.80000000000001</td>\n",
       "      <td>NaN</td>\n",
       "      <td>0</td>\n",
       "      <td>NaN</td>\n",
       "      <td>0</td>\n",
       "    </tr>\n",
       "    <tr>\n",
       "      <th>248</th>\n",
       "      <td>mathwell</td>\n",
       "      <td>A pizza is cut into 12 slices. 3 of the slices...</td>\n",
       "      <td>def solution():\\n    #A pizza is cut into 12 s...</td>\n",
       "      <td>8.0</td>\n",
       "      <td>NaN</td>\n",
       "      <td>0</td>\n",
       "      <td>NaN</td>\n",
       "      <td>0</td>\n",
       "    </tr>\n",
       "    <tr>\n",
       "      <th>249</th>\n",
       "      <td>mathwell</td>\n",
       "      <td>A Fortnite player has 5000 V-Bucks. They buy 2...</td>\n",
       "      <td>def solution():\\n    #A Fortnite player has 50...</td>\n",
       "      <td>-1500.0</td>\n",
       "      <td>NaN</td>\n",
       "      <td>0</td>\n",
       "      <td>NaN</td>\n",
       "      <td>0</td>\n",
       "    </tr>\n",
       "  </tbody>\n",
       "</table>\n",
       "<p>250 rows × 8 columns</p>\n",
       "</div>"
      ],
      "text/plain": [
       "        model                                           question  \\\n",
       "0    mathwell  LeBron James is 6'9\" tall. 1 inch is 2.54 cm. ...   \n",
       "1    mathwell  Captain America has 1200 ryo. He spends 400 ry...   \n",
       "2    mathwell  A 250-car train is 2.5 miles long. How many 25...   \n",
       "3    mathwell  3 scoops of ice cream cost $4. \\nHow much does...   \n",
       "4    mathwell  Iron Man has 500 gold coins. He can use 10 gol...   \n",
       "..        ...                                                ...   \n",
       "245  mathwell  The soccer team has 20 players. \\n\\n8 of the p...   \n",
       "246  mathwell  LeBron James is 6'9\" tall. \\nHe's 36 years old...   \n",
       "247  mathwell  LeBron James is 6 feet 9 inches tall.  He wear...   \n",
       "248  mathwell  A pizza is cut into 12 slices. 3 of the slices...   \n",
       "249  mathwell  A Fortnite player has 5000 V-Bucks. They buy 2...   \n",
       "\n",
       "                                              solution              answer  \\\n",
       "0    def solution():\\n    #LeBron James is 6'9\" tal...              205.74   \n",
       "1    def solution():\\n    #Captain America started ...               300.0   \n",
       "2    def solution():\\n    #1 train is 2.5 miles lon...            211200.0   \n",
       "3    def solution():\\n    #3 scoops of ice cream co...  13.333333333333332   \n",
       "4    def solution():\\n    #Iron Man has 500 gold co...  16.666666666666668   \n",
       "..                                                 ...                 ...   \n",
       "245  def solution():\\n    #The soccer team has 20 p...                 7.0   \n",
       "246  def solution():\\n    #LeBron James is 6'9\" tal...  1.3799999999999997   \n",
       "247  def solution():\\n    #LeBron is 6 feet 9 inche...   84.80000000000001   \n",
       "248  def solution():\\n    #A pizza is cut into 12 s...                 8.0   \n",
       "249  def solution():\\n    #A Fortnite player has 50...             -1500.0   \n",
       "\n",
       "     accuracy  solvability  appropriateness  good  \n",
       "0         1.0            1              1.0     1  \n",
       "1         1.0            1              1.0     1  \n",
       "2         0.0            1              1.0     0  \n",
       "3         1.0            1              1.0     1  \n",
       "4         1.0            1              0.0     0  \n",
       "..        ...          ...              ...   ...  \n",
       "245       NaN            0              NaN     0  \n",
       "246       NaN            0              NaN     0  \n",
       "247       NaN            0              NaN     0  \n",
       "248       NaN            0              NaN     0  \n",
       "249       NaN            0              NaN     0  \n",
       "\n",
       "[250 rows x 8 columns]"
      ]
     },
     "execution_count": 2,
     "metadata": {},
     "output_type": "execute_result"
    }
   ],
   "source": [
    "mathwell= pd.read_csv('data/mathwell_annotations_final.csv')\n",
    "stage_two = mathwell[mathwell['model']=='mathwell']\n",
    "stage_one = mathwell[mathwell['model']=='finetuned_llama']\n",
    "stage_two"
   ]
  },
  {
   "cell_type": "code",
   "execution_count": 3,
   "id": "25e30d74-a119-4f9c-b220-b8bd973d41e8",
   "metadata": {},
   "outputs": [
    {
     "data": {
      "text/html": [
       "<div>\n",
       "<style scoped>\n",
       "    .dataframe tbody tr th:only-of-type {\n",
       "        vertical-align: middle;\n",
       "    }\n",
       "\n",
       "    .dataframe tbody tr th {\n",
       "        vertical-align: top;\n",
       "    }\n",
       "\n",
       "    .dataframe thead th {\n",
       "        text-align: right;\n",
       "    }\n",
       "</style>\n",
       "<table border=\"1\" class=\"dataframe\">\n",
       "  <thead>\n",
       "    <tr style=\"text-align: right;\">\n",
       "      <th></th>\n",
       "      <th>model</th>\n",
       "      <th>question</th>\n",
       "      <th>solution</th>\n",
       "      <th>answer</th>\n",
       "      <th>accuracy</th>\n",
       "      <th>solvability</th>\n",
       "      <th>appropriateness</th>\n",
       "      <th>good</th>\n",
       "    </tr>\n",
       "  </thead>\n",
       "  <tbody>\n",
       "    <tr>\n",
       "      <th>250</th>\n",
       "      <td>finetuned_llama</td>\n",
       "      <td>LeBron James has 30000 points. He has 1000 mor...</td>\n",
       "      <td>def solution():\\n    #LeBron James has 30000 p...</td>\n",
       "      <td>29000</td>\n",
       "      <td>1.0</td>\n",
       "      <td>1</td>\n",
       "      <td>1.0</td>\n",
       "      <td>1</td>\n",
       "    </tr>\n",
       "    <tr>\n",
       "      <th>251</th>\n",
       "      <td>finetuned_llama</td>\n",
       "      <td>A class has 120 students. 40 of them are in th...</td>\n",
       "      <td>def solution():\\n    #The total number of stud...</td>\n",
       "      <td>0</td>\n",
       "      <td>1.0</td>\n",
       "      <td>1</td>\n",
       "      <td>1.0</td>\n",
       "      <td>1</td>\n",
       "    </tr>\n",
       "    <tr>\n",
       "      <th>252</th>\n",
       "      <td>finetuned_llama</td>\n",
       "      <td>A 3-pound cake of butter is 90% fat. 3.5 ounce...</td>\n",
       "      <td>def solution():\\n    #A 3-pound cake of butter...</td>\n",
       "      <td>12.342857142857143</td>\n",
       "      <td>NaN</td>\n",
       "      <td>0</td>\n",
       "      <td>0.0</td>\n",
       "      <td>0</td>\n",
       "    </tr>\n",
       "    <tr>\n",
       "      <th>253</th>\n",
       "      <td>finetuned_llama</td>\n",
       "      <td>A train is 1500 feet long. 200 of its cars are...</td>\n",
       "      <td>def solution():\\n    #The total length of the ...</td>\n",
       "      <td>20.0</td>\n",
       "      <td>NaN</td>\n",
       "      <td>0</td>\n",
       "      <td>0.0</td>\n",
       "      <td>0</td>\n",
       "    </tr>\n",
       "    <tr>\n",
       "      <th>254</th>\n",
       "      <td>finetuned_llama</td>\n",
       "      <td>Naruto has 5000 ryo. He spends 1000 ryo on a n...</td>\n",
       "      <td>def solution():\\n    #Naruto started with 5000...</td>\n",
       "      <td>-1000</td>\n",
       "      <td>1.0</td>\n",
       "      <td>1</td>\n",
       "      <td>1.0</td>\n",
       "      <td>1</td>\n",
       "    </tr>\n",
       "    <tr>\n",
       "      <th>...</th>\n",
       "      <td>...</td>\n",
       "      <td>...</td>\n",
       "      <td>...</td>\n",
       "      <td>...</td>\n",
       "      <td>...</td>\n",
       "      <td>...</td>\n",
       "      <td>...</td>\n",
       "      <td>...</td>\n",
       "    </tr>\n",
       "    <tr>\n",
       "      <th>3479</th>\n",
       "      <td>finetuned_llama</td>\n",
       "      <td>A field hockey game has 11 players per team. T...</td>\n",
       "      <td>def solution():\\n    #A field hockey game has ...</td>\n",
       "      <td>33</td>\n",
       "      <td>0.0</td>\n",
       "      <td>1</td>\n",
       "      <td>0.0</td>\n",
       "      <td>0</td>\n",
       "    </tr>\n",
       "    <tr>\n",
       "      <th>3480</th>\n",
       "      <td>finetuned_llama</td>\n",
       "      <td>100 turtles are at the pond. 10 turtles are ea...</td>\n",
       "      <td>def solution():\\n    #Total turtles\\n    total...</td>\n",
       "      <td>0</td>\n",
       "      <td>0.0</td>\n",
       "      <td>1</td>\n",
       "      <td>0.0</td>\n",
       "      <td>0</td>\n",
       "    </tr>\n",
       "    <tr>\n",
       "      <th>3481</th>\n",
       "      <td>finetuned_llama</td>\n",
       "      <td>Barbie has 1200 Instagram followers. 200 more ...</td>\n",
       "      <td>def solution():\\n    #Barbie started with 1200...</td>\n",
       "      <td>1150</td>\n",
       "      <td>0.0</td>\n",
       "      <td>0</td>\n",
       "      <td>0.0</td>\n",
       "      <td>0</td>\n",
       "    </tr>\n",
       "    <tr>\n",
       "      <th>3482</th>\n",
       "      <td>finetuned_llama</td>\n",
       "      <td>1234567890 is a 10-digit number. \\nHow many 3-...</td>\n",
       "      <td>def solution():\\n    #10-digit number has 10 d...</td>\n",
       "      <td>3.3333333333333335</td>\n",
       "      <td>0.0</td>\n",
       "      <td>1</td>\n",
       "      <td>0.0</td>\n",
       "      <td>0</td>\n",
       "    </tr>\n",
       "    <tr>\n",
       "      <th>3483</th>\n",
       "      <td>finetuned_llama</td>\n",
       "      <td>7 cats and 23 dogs are in a cage. 14 of the an...</td>\n",
       "      <td>def solution():\\n    #Total cats and dogs\\n   ...</td>\n",
       "      <td>13</td>\n",
       "      <td>0.0</td>\n",
       "      <td>0</td>\n",
       "      <td>0.0</td>\n",
       "      <td>0</td>\n",
       "    </tr>\n",
       "  </tbody>\n",
       "</table>\n",
       "<p>3234 rows × 8 columns</p>\n",
       "</div>"
      ],
      "text/plain": [
       "                model                                           question  \\\n",
       "250   finetuned_llama  LeBron James has 30000 points. He has 1000 mor...   \n",
       "251   finetuned_llama  A class has 120 students. 40 of them are in th...   \n",
       "252   finetuned_llama  A 3-pound cake of butter is 90% fat. 3.5 ounce...   \n",
       "253   finetuned_llama  A train is 1500 feet long. 200 of its cars are...   \n",
       "254   finetuned_llama  Naruto has 5000 ryo. He spends 1000 ryo on a n...   \n",
       "...               ...                                                ...   \n",
       "3479  finetuned_llama  A field hockey game has 11 players per team. T...   \n",
       "3480  finetuned_llama  100 turtles are at the pond. 10 turtles are ea...   \n",
       "3481  finetuned_llama  Barbie has 1200 Instagram followers. 200 more ...   \n",
       "3482  finetuned_llama  1234567890 is a 10-digit number. \\nHow many 3-...   \n",
       "3483  finetuned_llama  7 cats and 23 dogs are in a cage. 14 of the an...   \n",
       "\n",
       "                                               solution              answer  \\\n",
       "250   def solution():\\n    #LeBron James has 30000 p...               29000   \n",
       "251   def solution():\\n    #The total number of stud...                   0   \n",
       "252   def solution():\\n    #A 3-pound cake of butter...  12.342857142857143   \n",
       "253   def solution():\\n    #The total length of the ...                20.0   \n",
       "254   def solution():\\n    #Naruto started with 5000...               -1000   \n",
       "...                                                 ...                 ...   \n",
       "3479  def solution():\\n    #A field hockey game has ...                  33   \n",
       "3480  def solution():\\n    #Total turtles\\n    total...                   0   \n",
       "3481  def solution():\\n    #Barbie started with 1200...                1150   \n",
       "3482  def solution():\\n    #10-digit number has 10 d...  3.3333333333333335   \n",
       "3483  def solution():\\n    #Total cats and dogs\\n   ...                  13   \n",
       "\n",
       "      accuracy  solvability  appropriateness  good  \n",
       "250        1.0            1              1.0     1  \n",
       "251        1.0            1              1.0     1  \n",
       "252        NaN            0              0.0     0  \n",
       "253        NaN            0              0.0     0  \n",
       "254        1.0            1              1.0     1  \n",
       "...        ...          ...              ...   ...  \n",
       "3479       0.0            1              0.0     0  \n",
       "3480       0.0            1              0.0     0  \n",
       "3481       0.0            0              0.0     0  \n",
       "3482       0.0            1              0.0     0  \n",
       "3483       0.0            0              0.0     0  \n",
       "\n",
       "[3234 rows x 8 columns]"
      ]
     },
     "execution_count": 3,
     "metadata": {},
     "output_type": "execute_result"
    }
   ],
   "source": [
    "stage_one"
   ]
  },
  {
   "cell_type": "markdown",
   "id": "4c5a473b-6a21-4ac5-a04d-e2529ea63c3b",
   "metadata": {},
   "source": [
    "## Print Means and SEs"
   ]
  },
  {
   "cell_type": "code",
   "execution_count": 4,
   "id": "69286123-5cc0-4b72-9a48-9d8e35b30844",
   "metadata": {},
   "outputs": [
    {
     "name": "stdout",
     "output_type": "stream",
     "text": [
      "Stage 2 solvability: 0.892 1.9669559381568775\n",
      "Stage 1 solvability: 0.8225108225108225 0.6719762079218047\n"
     ]
    }
   ],
   "source": [
    "print(\"Stage 2 solvability:\", np.mean(stage_two['solvability'].dropna()), st.sem(stage_two['solvability'].dropna())*100)\n",
    "print(\"Stage 1 solvability:\", np.mean(stage_one['solvability'].dropna()), st.sem(stage_one['solvability'].dropna())*100)"
   ]
  },
  {
   "cell_type": "code",
   "execution_count": 5,
   "id": "4495479d-c398-472e-a0ef-88a6320778b5",
   "metadata": {},
   "outputs": [
    {
     "name": "stdout",
     "output_type": "stream",
     "text": [
      "Stage 2 accuracy: 0.968609865470852 1.1702928328273723\n",
      "Stage 1 accuracy: 0.8583038869257951 0.6556665598687926\n"
     ]
    }
   ],
   "source": [
    "print(\"Stage 2 accuracy:\", np.mean(stage_two['accuracy'].dropna()), st.sem(stage_two['accuracy'].dropna())*100)\n",
    "print(\"Stage 1 accuracy:\", np.mean(stage_one['accuracy'].dropna()), st.sem(stage_one['accuracy'].dropna())*100)"
   ]
  },
  {
   "cell_type": "code",
   "execution_count": 6,
   "id": "1432e0f5-bd77-4ff9-8d7c-e363bfcf09c1",
   "metadata": {},
   "outputs": [
    {
     "name": "stdout",
     "output_type": "stream",
     "text": [
      "Stage 2 Appro: 0.8654708520179372 2.2901183761575625\n",
      "Stage 1 Appro: 0.8007518796992481 0.7746168346554715\n"
     ]
    }
   ],
   "source": [
    "print(\"Stage 2 Appro:\", np.mean(stage_two['appropriateness'].dropna()), st.sem(stage_two['appropriateness'].dropna())*100)\n",
    "print(\"Stage 1 Appro:\", np.mean(stage_one[stage_one['solvability']==1]['appropriateness'].dropna()), st.sem(stage_one[stage_one['solvability']==1]['appropriateness'].dropna())*100)"
   ]
  },
  {
   "cell_type": "code",
   "execution_count": 7,
   "id": "959c3902-e18c-432f-ad7f-e38438c04120",
   "metadata": {},
   "outputs": [
    {
     "name": "stdout",
     "output_type": "stream",
     "text": [
      "Stage 2 MaC: 0.748 2.7513851933031317\n",
      "Stage 1 MaC: 0.5893630179344465 0.8652022054121628\n"
     ]
    }
   ],
   "source": [
    "print(\"Stage 2 MaC:\", np.mean(stage_two['good'].dropna()), st.sem(stage_two['good'].dropna())*100)\n",
    "print(\"Stage 1 MaC:\", np.mean(stage_one['good'].dropna()), st.sem(stage_one['good'].dropna())*100)"
   ]
  },
  {
   "cell_type": "code",
   "execution_count": 8,
   "id": "dc7fcaa6-ca1e-4b01-9f5d-69941b7c7b4a",
   "metadata": {},
   "outputs": [
    {
     "name": "stdout",
     "output_type": "stream",
     "text": [
      "Stage 2 executable code: 0.6635177687809267 1.0023867540717788\n",
      "Stage 1 executable code: 0.6307798481711525 0.7320432532950027\n"
     ]
    }
   ],
   "source": [
    "stage_two_exec = np.concatenate([np.ones(1475), np.zeros(2223-1475)])\n",
    "stage_one_exec  = np.concatenate([np.ones(2742), np.zeros(4347-2742)])\n",
    "print(\"Stage 2 executable code:\", np.mean(stage_two_exec), st.sem(stage_two_exec)*100)\n",
    "print(\"Stage 1 executable code:\", np.mean(stage_one_exec), st.sem(stage_one_exec)*100)"
   ]
  },
  {
   "cell_type": "code",
   "execution_count": 9,
   "id": "f1ef0742-abec-4dc8-81fe-f04d06039fb5",
   "metadata": {},
   "outputs": [
    {
     "name": "stdout",
     "output_type": "stream",
     "text": [
      "Stage 1 executable code and MaC: 0.37175831497038236 0.5457521157672303\n",
      "Stage 2 executable code and MaC: 0.4963112910481332 1.8255929645173734\n"
     ]
    }
   ],
   "source": [
    "stage1_execute = stage_one['good'] * np.mean(np.concatenate([np.ones(2742), np.zeros(4347-2742)]))\n",
    "stage2_execute = stage_two['good'] * .6635177687809268\n",
    "print(\"Stage 1 executable code and MaC:\", np.mean(stage1_execute), st.sem(stage1_execute)*100)\n",
    "print(\"Stage 2 executable code and MaC:\", np.mean(stage2_execute), st.sem(stage2_execute)*100)"
   ]
  },
  {
   "cell_type": "markdown",
   "id": "b3f63301-b2e1-472a-80c9-56b05eabd8a3",
   "metadata": {},
   "source": [
    "## Test for Significance"
   ]
  },
  {
   "cell_type": "code",
   "execution_count": 10,
   "id": "9ecb77c1-039c-40bb-8152-aeb919279dc3",
   "metadata": {},
   "outputs": [
    {
     "name": "stdout",
     "output_type": "stream",
     "text": [
      "T-statistic: -2.8041538183401\n",
      "P-value: 0.005072842900973289\n"
     ]
    }
   ],
   "source": [
    "# Perform an independent two-sample t-test\n",
    "t_statistic, p_value = stats.ttest_ind(stage_one['solvability'], stage_two['solvability'])\n",
    "\n",
    "# Print the results\n",
    "print(\"T-statistic:\", t_statistic)\n",
    "print(\"P-value:\", p_value)"
   ]
  },
  {
   "cell_type": "code",
   "execution_count": 11,
   "id": "f6cc1b8f-7318-4d7f-9024-8d8cc555e67c",
   "metadata": {},
   "outputs": [
    {
     "name": "stdout",
     "output_type": "stream",
     "text": [
      "T-statistic: -6.223803649703326\n",
      "P-value: 5.557429293792464e-10\n"
     ]
    }
   ],
   "source": [
    "# Perform an independent two-sample t-test\n",
    "t_statistic, p_value = stats.ttest_ind(stage_one['accuracy'].dropna(), stage_two['accuracy'].dropna())\n",
    "\n",
    "# Print the results\n",
    "print(\"T-statistic:\", t_statistic)\n",
    "print(\"P-value:\", p_value)"
   ]
  },
  {
   "cell_type": "code",
   "execution_count": 15,
   "id": "8153dcfb-5e1e-4d72-a8a4-27f84f85670a",
   "metadata": {},
   "outputs": [
    {
     "name": "stdout",
     "output_type": "stream",
     "text": [
      "T-statistic: -2.3479724719543356\n",
      "P-value: 0.018943203400071055\n"
     ]
    }
   ],
   "source": [
    "# Perform an independent two-sample t-test\n",
    "t_statistic, p_value = stats.ttest_ind(stage_one[stage_one['solvability']==1]['appropriateness'].dropna(), stage_two['appropriateness'].dropna())\n",
    "\n",
    "# Print the results\n",
    "print(\"T-statistic:\", t_statistic)\n",
    "print(\"P-value:\", p_value)"
   ]
  },
  {
   "cell_type": "code",
   "execution_count": 13,
   "id": "31620190-08d1-4818-a89e-db36c2448928",
   "metadata": {},
   "outputs": [
    {
     "name": "stdout",
     "output_type": "stream",
     "text": [
      "T-statistic: -4.950323112389799\n",
      "P-value: 7.760669612726552e-07\n"
     ]
    }
   ],
   "source": [
    "# Perform an independent two-sample t-test\n",
    "t_statistic, p_value = stats.ttest_ind(stage_one['good'].dropna(), stage_two['good'].dropna())\n",
    "\n",
    "# Print the results\n",
    "print(\"T-statistic:\", t_statistic)\n",
    "print(\"P-value:\", p_value)"
   ]
  },
  {
   "cell_type": "code",
   "execution_count": 14,
   "id": "3a276ba9-a8d3-484d-bc54-1762397785a0",
   "metadata": {},
   "outputs": [
    {
     "name": "stdout",
     "output_type": "stream",
     "text": [
      "T-statistic: -6.143220342184784\n",
      "P-value: 8.998441121753769e-10\n"
     ]
    }
   ],
   "source": [
    "# Perform an independent two-sample t-test on percentage good\n",
    "stage1_execute =stage_one['good'] * np.mean(np.concatenate([np.ones(2742), np.zeros(4347-2742)]))\n",
    "stage2_execute = stage_two['good'] * .6635177687809268\n",
    "t_statistic, p_value = stats.ttest_ind(stage1_execute, stage2_execute)\n",
    "\n",
    "# Print the results\n",
    "print(\"T-statistic:\", t_statistic)\n",
    "print(\"P-value:\", p_value)"
   ]
  },
  {
   "cell_type": "code",
   "execution_count": null,
   "id": "8aaa3980-aff2-42e0-957a-f45c1d261917",
   "metadata": {},
   "outputs": [],
   "source": []
  }
 ],
 "metadata": {
  "kernelspec": {
   "display_name": "Python 3 (ipykernel)",
   "language": "python",
   "name": "python3"
  },
  "language_info": {
   "codemirror_mode": {
    "name": "ipython",
    "version": 3
   },
   "file_extension": ".py",
   "mimetype": "text/x-python",
   "name": "python",
   "nbconvert_exporter": "python",
   "pygments_lexer": "ipython3",
   "version": "3.11.5"
  }
 },
 "nbformat": 4,
 "nbformat_minor": 5
}
