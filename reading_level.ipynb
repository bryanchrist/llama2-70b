{
 "cells": [
  {
   "cell_type": "code",
   "execution_count": 4,
   "id": "cedeae28-2204-40ee-8556-89c6983233f2",
   "metadata": {},
   "outputs": [],
   "source": [
    "from readability import Readability\n",
    "import pandas as pd\n",
    "import numpy as np"
   ]
  },
  {
   "cell_type": "markdown",
   "id": "d5e5475f-a369-464b-8563-5d3e1fab5840",
   "metadata": {},
   "source": [
    "## GSM8K"
   ]
  },
  {
   "cell_type": "code",
   "execution_count": 12,
   "id": "4e99a982-9ac3-4265-ab51-be88fa6625e1",
   "metadata": {},
   "outputs": [],
   "source": [
    "gsm8k = pd.read_csv('data/gsm8k_questions.csv')\n",
    "all_text = []\n",
    "for i in range(0, len(gsm8k)):\n",
    "    text = gsm8k.iloc[i]['instruction']\n",
    "    all_text.append(text)\n",
    "all_text = \" \".join(all_text)"
   ]
  },
  {
   "cell_type": "code",
   "execution_count": 13,
   "id": "88806921-c797-4351-ae25-072e9b175adc",
   "metadata": {},
   "outputs": [
    {
     "name": "stdout",
     "output_type": "stream",
     "text": [
      "4.964693172549847\n",
      "5\n"
     ]
    }
   ],
   "source": [
    "r = Readability(all_text)\n",
    "fk = r.flesch_kincaid()\n",
    "print(fk.score)\n",
    "print(fk.grade_level)"
   ]
  },
  {
   "cell_type": "markdown",
   "id": "cc80fb77-2f5e-4d13-8535-beba4d0b3309",
   "metadata": {},
   "source": [
    "## MATHWELL Annotated"
   ]
  },
  {
   "cell_type": "code",
   "execution_count": 30,
   "id": "ce3e449c-8840-4c4c-b285-574ae317ce6a",
   "metadata": {},
   "outputs": [],
   "source": [
    "def combine_questions(df):\n",
    "    all_text = []\n",
    "    for i in range(0, len(df)):\n",
    "        text = df.iloc[i]['question']\n",
    "        text = str(text)\n",
    "        all_text.append(text)\n",
    "    all_text = \" \".join(all_text)\n",
    "    return all_text\n",
    "def combine_questions_all(df):\n",
    "    all_text = []\n",
    "    for i in range(0, len(df)):\n",
    "        text = df.iloc[i]['text']\n",
    "        text = str(text)\n",
    "        all_text.append(text)\n",
    "    all_text = \" \".join(all_text)\n",
    "    return all_text"
   ]
  },
  {
   "cell_type": "code",
   "execution_count": 20,
   "id": "69f6c384-5d03-4e3e-b384-3c9c42ea69e9",
   "metadata": {},
   "outputs": [
    {
     "data": {
      "text/html": [
       "<div>\n",
       "<style scoped>\n",
       "    .dataframe tbody tr th:only-of-type {\n",
       "        vertical-align: middle;\n",
       "    }\n",
       "\n",
       "    .dataframe tbody tr th {\n",
       "        vertical-align: top;\n",
       "    }\n",
       "\n",
       "    .dataframe thead th {\n",
       "        text-align: right;\n",
       "    }\n",
       "</style>\n",
       "<table border=\"1\" class=\"dataframe\">\n",
       "  <thead>\n",
       "    <tr style=\"text-align: right;\">\n",
       "      <th></th>\n",
       "      <th>Unnamed: 0</th>\n",
       "      <th>question</th>\n",
       "    </tr>\n",
       "  </thead>\n",
       "  <tbody>\n",
       "    <tr>\n",
       "      <th>0</th>\n",
       "      <td>0</td>\n",
       "      <td>LeBron James has 30000 points. He has 1000 mor...</td>\n",
       "    </tr>\n",
       "    <tr>\n",
       "      <th>1</th>\n",
       "      <td>1</td>\n",
       "      <td>A class has 120 students. 40 of them are in th...</td>\n",
       "    </tr>\n",
       "    <tr>\n",
       "      <th>2</th>\n",
       "      <td>3</td>\n",
       "      <td>A 3-pound cake of butter is 90% fat. 3.5 ounce...</td>\n",
       "    </tr>\n",
       "    <tr>\n",
       "      <th>3</th>\n",
       "      <td>4</td>\n",
       "      <td>A train is 1500 feet long. 200 of its cars are...</td>\n",
       "    </tr>\n",
       "    <tr>\n",
       "      <th>4</th>\n",
       "      <td>5</td>\n",
       "      <td>Naruto has 5000 ryo. He spends 1000 ryo on a n...</td>\n",
       "    </tr>\n",
       "    <tr>\n",
       "      <th>...</th>\n",
       "      <td>...</td>\n",
       "      <td>...</td>\n",
       "    </tr>\n",
       "    <tr>\n",
       "      <th>3229</th>\n",
       "      <td>420</td>\n",
       "      <td>A field hockey game has 11 players per team. T...</td>\n",
       "    </tr>\n",
       "    <tr>\n",
       "      <th>3230</th>\n",
       "      <td>421</td>\n",
       "      <td>100 turtles are at the pond. 10 turtles are ea...</td>\n",
       "    </tr>\n",
       "    <tr>\n",
       "      <th>3231</th>\n",
       "      <td>422</td>\n",
       "      <td>Barbie has 1200 Instagram followers. 200 more ...</td>\n",
       "    </tr>\n",
       "    <tr>\n",
       "      <th>3232</th>\n",
       "      <td>423</td>\n",
       "      <td>1234567890 is a 10-digit number. \\nHow many 3-...</td>\n",
       "    </tr>\n",
       "    <tr>\n",
       "      <th>3233</th>\n",
       "      <td>424</td>\n",
       "      <td>7 cats and 23 dogs are in a cage. 14 of the an...</td>\n",
       "    </tr>\n",
       "  </tbody>\n",
       "</table>\n",
       "<p>3234 rows × 2 columns</p>\n",
       "</div>"
      ],
      "text/plain": [
       "      Unnamed: 0                                           question\n",
       "0              0  LeBron James has 30000 points. He has 1000 mor...\n",
       "1              1  A class has 120 students. 40 of them are in th...\n",
       "2              3  A 3-pound cake of butter is 90% fat. 3.5 ounce...\n",
       "3              4  A train is 1500 feet long. 200 of its cars are...\n",
       "4              5  Naruto has 5000 ryo. He spends 1000 ryo on a n...\n",
       "...          ...                                                ...\n",
       "3229         420  A field hockey game has 11 players per team. T...\n",
       "3230         421  100 turtles are at the pond. 10 turtles are ea...\n",
       "3231         422  Barbie has 1200 Instagram followers. 200 more ...\n",
       "3232         423  1234567890 is a 10-digit number. \\nHow many 3-...\n",
       "3233         424  7 cats and 23 dogs are in a cage. 14 of the an...\n",
       "\n",
       "[3234 rows x 2 columns]"
      ]
     },
     "execution_count": 20,
     "metadata": {},
     "output_type": "execute_result"
    }
   ],
   "source": [
    "mathwell_an = pd.read_csv('data/mathwell_questions.csv')\n",
    "mathwell_an"
   ]
  },
  {
   "cell_type": "code",
   "execution_count": 21,
   "id": "14afcfd1-055e-4bb9-99f1-e86cdfbd3b24",
   "metadata": {},
   "outputs": [
    {
     "name": "stdout",
     "output_type": "stream",
     "text": [
      "3.0039055698568866\n",
      "3\n"
     ]
    }
   ],
   "source": [
    "text = combine_questions(mathwell_an)\n",
    "r = Readability(text)\n",
    "fk = r.flesch_kincaid()\n",
    "print(fk.score)\n",
    "print(fk.grade_level)"
   ]
  },
  {
   "cell_type": "code",
   "execution_count": 23,
   "id": "61790529-55d8-443b-8fa5-6334b0c187b1",
   "metadata": {},
   "outputs": [
    {
     "name": "stdout",
     "output_type": "stream",
     "text": [
      "3.0261559621629637\n",
      "3\n"
     ]
    }
   ],
   "source": [
    "mathwell_train = pd.read_csv('data/mathwell_good_questions.csv')\n",
    "text = combine_questions(mathwell_train)\n",
    "r = Readability(text)\n",
    "fk = r.flesch_kincaid()\n",
    "print(fk.score)\n",
    "print(fk.grade_level)"
   ]
  },
  {
   "cell_type": "markdown",
   "id": "4bd6de71-bc31-485e-92f5-a224559f32d4",
   "metadata": {},
   "source": [
    "## MATHWELL Final Questions"
   ]
  },
  {
   "cell_type": "code",
   "execution_count": 25,
   "id": "d19d9edc-4eca-4a69-88f3-ff11d11ee6a7",
   "metadata": {},
   "outputs": [
    {
     "data": {
      "text/html": [
       "<div>\n",
       "<style scoped>\n",
       "    .dataframe tbody tr th:only-of-type {\n",
       "        vertical-align: middle;\n",
       "    }\n",
       "\n",
       "    .dataframe tbody tr th {\n",
       "        vertical-align: top;\n",
       "    }\n",
       "\n",
       "    .dataframe thead th {\n",
       "        text-align: right;\n",
       "    }\n",
       "</style>\n",
       "<table border=\"1\" class=\"dataframe\">\n",
       "  <thead>\n",
       "    <tr style=\"text-align: right;\">\n",
       "      <th></th>\n",
       "      <th>Unnamed: 0</th>\n",
       "      <th>label</th>\n",
       "      <th>text</th>\n",
       "    </tr>\n",
       "  </thead>\n",
       "  <tbody>\n",
       "    <tr>\n",
       "      <th>0</th>\n",
       "      <td>4</td>\n",
       "      <td>1</td>\n",
       "      <td>Patrick Mahomes has 20000 yards. He gains 1000...</td>\n",
       "    </tr>\n",
       "    <tr>\n",
       "      <th>1</th>\n",
       "      <td>6</td>\n",
       "      <td>1</td>\n",
       "      <td>Naruto ate 35 ramen noodles. The next day, he ...</td>\n",
       "    </tr>\n",
       "    <tr>\n",
       "      <th>2</th>\n",
       "      <td>12</td>\n",
       "      <td>1</td>\n",
       "      <td>Batman has 100 batarangs. 20 of them are in hi...</td>\n",
       "    </tr>\n",
       "    <tr>\n",
       "      <th>3</th>\n",
       "      <td>13</td>\n",
       "      <td>1</td>\n",
       "      <td>A candy store has 125 lollipops. 25 of the lol...</td>\n",
       "    </tr>\n",
       "    <tr>\n",
       "      <th>4</th>\n",
       "      <td>15</td>\n",
       "      <td>1</td>\n",
       "      <td>There are 300 dogs in a dog park. 200 of the d...</td>\n",
       "    </tr>\n",
       "    <tr>\n",
       "      <th>...</th>\n",
       "      <td>...</td>\n",
       "      <td>...</td>\n",
       "      <td>...</td>\n",
       "    </tr>\n",
       "    <tr>\n",
       "      <th>245</th>\n",
       "      <td>963</td>\n",
       "      <td>1</td>\n",
       "      <td>Iron Man has 5000 vibranium-enhanced armor pla...</td>\n",
       "    </tr>\n",
       "    <tr>\n",
       "      <th>246</th>\n",
       "      <td>966</td>\n",
       "      <td>1</td>\n",
       "      <td>A car is traveling at 60 miles per hour. It is...</td>\n",
       "    </tr>\n",
       "    <tr>\n",
       "      <th>247</th>\n",
       "      <td>979</td>\n",
       "      <td>1</td>\n",
       "      <td>Captain America has 1000 vibranium shields. 20...</td>\n",
       "    </tr>\n",
       "    <tr>\n",
       "      <th>248</th>\n",
       "      <td>984</td>\n",
       "      <td>0</td>\n",
       "      <td>LeBron James is 6'9\" tall. \\nHe's 36 years old...</td>\n",
       "    </tr>\n",
       "    <tr>\n",
       "      <th>249</th>\n",
       "      <td>990</td>\n",
       "      <td>1</td>\n",
       "      <td>A 10-car train is 1200 feet long. A 20-car tra...</td>\n",
       "    </tr>\n",
       "  </tbody>\n",
       "</table>\n",
       "<p>250 rows × 3 columns</p>\n",
       "</div>"
      ],
      "text/plain": [
       "     Unnamed: 0  label                                               text\n",
       "0             4      1  Patrick Mahomes has 20000 yards. He gains 1000...\n",
       "1             6      1  Naruto ate 35 ramen noodles. The next day, he ...\n",
       "2            12      1  Batman has 100 batarangs. 20 of them are in hi...\n",
       "3            13      1  A candy store has 125 lollipops. 25 of the lol...\n",
       "4            15      1  There are 300 dogs in a dog park. 200 of the d...\n",
       "..          ...    ...                                                ...\n",
       "245         963      1  Iron Man has 5000 vibranium-enhanced armor pla...\n",
       "246         966      1  A car is traveling at 60 miles per hour. It is...\n",
       "247         979      1  Captain America has 1000 vibranium shields. 20...\n",
       "248         984      0  LeBron James is 6'9\" tall. \\nHe's 36 years old...\n",
       "249         990      1  A 10-car train is 1200 feet long. A 20-car tra...\n",
       "\n",
       "[250 rows x 3 columns]"
      ]
     },
     "execution_count": 25,
     "metadata": {},
     "output_type": "execute_result"
    }
   ],
   "source": [
    "mathwell_all"
   ]
  },
  {
   "cell_type": "code",
   "execution_count": 27,
   "id": "49272a09-7aa5-4b95-aa99-d25ef788b182",
   "metadata": {},
   "outputs": [
    {
     "name": "stdout",
     "output_type": "stream",
     "text": [
      "2.7273810410032304\n",
      "3\n"
     ]
    }
   ],
   "source": [
    "mathwell_all = pd.read_csv('data/mathwell_solvability.csv')\n",
    "text = combine_questions_all(mathwell_all)\n",
    "r = Readability(text)\n",
    "fk = r.flesch_kincaid()\n",
    "print(fk.score)\n",
    "print(fk.grade_level)"
   ]
  },
  {
   "cell_type": "code",
   "execution_count": 28,
   "id": "784a60dd-1161-4e38-8f38-3ac3cf05d99b",
   "metadata": {},
   "outputs": [
    {
     "name": "stdout",
     "output_type": "stream",
     "text": [
      "2.8953218616089664\n",
      "3\n"
     ]
    }
   ],
   "source": [
    "mathwell_good = pd.read_csv('data/mathwell_good.csv')\n",
    "text = combine_questions(mathwell_good)\n",
    "r = Readability(text)\n",
    "fk = r.flesch_kincaid()\n",
    "print(fk.score)\n",
    "print(fk.grade_level)"
   ]
  },
  {
   "cell_type": "markdown",
   "id": "7aa1b1a8-a8fc-4d07-b3db-f507ee7f5018",
   "metadata": {},
   "source": [
    "## Llama Questions"
   ]
  },
  {
   "cell_type": "code",
   "execution_count": 31,
   "id": "00ecf81d-2ff5-49e3-a140-3dc57156abfa",
   "metadata": {},
   "outputs": [
    {
     "name": "stdout",
     "output_type": "stream",
     "text": [
      "2.8319767089469288\n",
      "3\n"
     ]
    }
   ],
   "source": [
    "llama_all = pd.read_csv('data/llama_solvability.csv')\n",
    "text = combine_questions_all(llama_all)\n",
    "r = Readability(text)\n",
    "fk = r.flesch_kincaid()\n",
    "print(fk.score)\n",
    "print(fk.grade_level)"
   ]
  },
  {
   "cell_type": "code",
   "execution_count": 32,
   "id": "d428cb44-56fc-4921-875e-fd8cad389a4e",
   "metadata": {},
   "outputs": [
    {
     "name": "stdout",
     "output_type": "stream",
     "text": [
      "2.740919700316212\n",
      "3\n"
     ]
    }
   ],
   "source": [
    "llama_good = pd.read_csv('data/llama_good.csv')\n",
    "text = combine_questions(llama_good)\n",
    "r = Readability(text)\n",
    "fk = r.flesch_kincaid()\n",
    "print(fk.score)\n",
    "print(fk.grade_level)"
   ]
  },
  {
   "cell_type": "markdown",
   "id": "13622a2d-cf11-4d33-94e4-e8c10b47ad60",
   "metadata": {},
   "source": [
    "## Llema Questions"
   ]
  },
  {
   "cell_type": "code",
   "execution_count": 33,
   "id": "1f3752d7-a6b0-45df-83d1-71d3e45eca50",
   "metadata": {},
   "outputs": [
    {
     "name": "stdout",
     "output_type": "stream",
     "text": [
      "4.00194663290436\n",
      "4\n"
     ]
    }
   ],
   "source": [
    "llema_all = pd.read_csv('data/llema_solvability.csv')\n",
    "text = combine_questions_all(llema_all)\n",
    "r = Readability(text)\n",
    "fk = r.flesch_kincaid()\n",
    "print(fk.score)\n",
    "print(fk.grade_level)"
   ]
  },
  {
   "cell_type": "code",
   "execution_count": 34,
   "id": "cc2664f5-955a-4464-b4d7-542fa1d442a3",
   "metadata": {},
   "outputs": [
    {
     "name": "stdout",
     "output_type": "stream",
     "text": [
      "3.5842817487855676\n",
      "4\n"
     ]
    }
   ],
   "source": [
    "llema_good = pd.read_csv('data/llema_good.csv')\n",
    "text = combine_questions(llema_good)\n",
    "r = Readability(text)\n",
    "fk = r.flesch_kincaid()\n",
    "print(fk.score)\n",
    "print(fk.grade_level)"
   ]
  },
  {
   "cell_type": "markdown",
   "id": "5f78c286-38d6-4bfc-9b62-57ef032642ea",
   "metadata": {},
   "source": [
    "## Mammoth Questions"
   ]
  },
  {
   "cell_type": "code",
   "execution_count": 43,
   "id": "fcb971fd-d78e-4d07-8d7c-b9eca8f7ecbd",
   "metadata": {},
   "outputs": [
    {
     "name": "stdout",
     "output_type": "stream",
     "text": [
      "3.189264452698918\n",
      "3\n"
     ]
    }
   ],
   "source": [
    "mammoth_all = pd.read_csv('data/mammoth_solvability.csv')\n",
    "text = combine_questions_all(mammoth_all)\n",
    "r = Readability(text)\n",
    "fk = r.flesch_kincaid()\n",
    "print(fk.score)\n",
    "print(fk.grade_level)"
   ]
  },
  {
   "cell_type": "code",
   "execution_count": 41,
   "id": "8db96b30-3b7f-401f-bb98-2dfc775d3cdd",
   "metadata": {},
   "outputs": [
    {
     "name": "stdout",
     "output_type": "stream",
     "text": [
      "3.079576776317431\n",
      "3\n"
     ]
    }
   ],
   "source": [
    "mammoth_good = pd.read_csv('data/mammoth_good.csv')\n",
    "text = combine_questions(mammoth_good)\n",
    "r = Readability(text)\n",
    "fk = r.flesch_kincaid()\n",
    "print(fk.score)\n",
    "print(fk.grade_level)"
   ]
  },
  {
   "cell_type": "code",
   "execution_count": null,
   "id": "7013a8df-f0f6-4c91-869d-5dbff4ebcf31",
   "metadata": {},
   "outputs": [],
   "source": []
  }
 ],
 "metadata": {
  "kernelspec": {
   "display_name": "Python 3",
   "language": "python",
   "name": "python3"
  },
  "language_info": {
   "codemirror_mode": {
    "name": "ipython",
    "version": 3
   },
   "file_extension": ".py",
   "mimetype": "text/x-python",
   "name": "python",
   "nbconvert_exporter": "python",
   "pygments_lexer": "ipython3",
   "version": "3.8.8"
  }
 },
 "nbformat": 4,
 "nbformat_minor": 5
}
