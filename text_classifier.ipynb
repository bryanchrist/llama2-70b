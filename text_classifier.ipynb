{
 "cells": [
  {
   "cell_type": "markdown",
   "id": "466bcfe9-b0d9-4731-9982-a0b220a41d47",
   "metadata": {
    "tags": []
   },
   "source": [
    "\n",
    "import sys\n",
    "print(\"Python version:\", sys.version)#!conda install -y cudatoolkit\n",
    "#!pip install bitsandbytes\n",
    "!pip install transformers==4.33.2\n",
    "!pip install datasets\n",
    "!pip install evaluate\n",
    "!pip install peft\n",
    "!pip install accelerate -U\n",
    "!pip install transformers[torch]\n",
    "!pip install -r requirements.txt"
   ]
  },
  {
   "cell_type": "code",
   "execution_count": 2,
   "id": "112ae58f-3049-4f48-991a-bb7a4be92136",
   "metadata": {
    "tags": []
   },
   "outputs": [
    {
     "name": "stdout",
     "output_type": "stream",
     "text": [
      "\u001b[33mWARNING: Running pip as the 'root' user can result in broken permissions and conflicting behaviour with the system package manager. It is recommended to use a virtual environment instead: https://pip.pypa.io/warnings/venv\u001b[0m\u001b[33m\n",
      "\u001b[0m\n",
      "\u001b[1m[\u001b[0m\u001b[34;49mnotice\u001b[0m\u001b[1;39;49m]\u001b[0m\u001b[39;49m A new release of pip is available: \u001b[0m\u001b[31;49m23.3.1\u001b[0m\u001b[39;49m -> \u001b[0m\u001b[32;49m23.3.2\u001b[0m\n",
      "\u001b[1m[\u001b[0m\u001b[34;49mnotice\u001b[0m\u001b[1;39;49m]\u001b[0m\u001b[39;49m To update, run: \u001b[0m\u001b[32;49mpip install --upgrade pip\u001b[0m\n",
      "Note: you may need to restart the kernel to use updated packages.\n",
      "\u001b[31mERROR: pip's dependency resolver does not currently take into account all the packages that are installed. This behaviour is the source of the following dependency conflicts.\n",
      "distributed 2022.7.0 requires tornado<6.2,>=6.0.3, but you have tornado 6.4 which is incompatible.\u001b[0m\u001b[31m\n",
      "\u001b[0m\u001b[33mWARNING: Running pip as the 'root' user can result in broken permissions and conflicting behaviour with the system package manager. It is recommended to use a virtual environment instead: https://pip.pypa.io/warnings/venv\u001b[0m\u001b[33m\n",
      "\u001b[0m\n",
      "\u001b[1m[\u001b[0m\u001b[34;49mnotice\u001b[0m\u001b[1;39;49m]\u001b[0m\u001b[39;49m A new release of pip is available: \u001b[0m\u001b[31;49m23.3.1\u001b[0m\u001b[39;49m -> \u001b[0m\u001b[32;49m23.3.2\u001b[0m\n",
      "\u001b[1m[\u001b[0m\u001b[34;49mnotice\u001b[0m\u001b[1;39;49m]\u001b[0m\u001b[39;49m To update, run: \u001b[0m\u001b[32;49mpip install --upgrade pip\u001b[0m\n",
      "Note: you may need to restart the kernel to use updated packages.\n",
      "\u001b[31mERROR: pip's dependency resolver does not currently take into account all the packages that are installed. This behaviour is the source of the following dependency conflicts.\n",
      "distributed 2022.7.0 requires tornado<6.2,>=6.0.3, but you have tornado 6.4 which is incompatible.\u001b[0m\u001b[31m\n",
      "\u001b[0m\u001b[33mWARNING: Running pip as the 'root' user can result in broken permissions and conflicting behaviour with the system package manager. It is recommended to use a virtual environment instead: https://pip.pypa.io/warnings/venv\u001b[0m\u001b[33m\n",
      "\u001b[0m\n",
      "\u001b[1m[\u001b[0m\u001b[34;49mnotice\u001b[0m\u001b[1;39;49m]\u001b[0m\u001b[39;49m A new release of pip is available: \u001b[0m\u001b[31;49m23.3.1\u001b[0m\u001b[39;49m -> \u001b[0m\u001b[32;49m23.3.2\u001b[0m\n",
      "\u001b[1m[\u001b[0m\u001b[34;49mnotice\u001b[0m\u001b[1;39;49m]\u001b[0m\u001b[39;49m To update, run: \u001b[0m\u001b[32;49mpip install --upgrade pip\u001b[0m\n",
      "Note: you may need to restart the kernel to use updated packages.\n",
      "Collecting evaluate\n",
      "  Using cached evaluate-0.4.1-py3-none-any.whl.metadata (9.4 kB)\n",
      "Requirement already satisfied: datasets>=2.0.0 in /opt/conda/lib/python3.10/site-packages (from evaluate) (2.15.0)\n",
      "Requirement already satisfied: numpy>=1.17 in /opt/conda/lib/python3.10/site-packages (from evaluate) (1.26.2)\n",
      "Requirement already satisfied: dill in /opt/conda/lib/python3.10/site-packages (from evaluate) (0.3.7)\n",
      "Requirement already satisfied: pandas in /opt/conda/lib/python3.10/site-packages (from evaluate) (2.1.3)\n",
      "Requirement already satisfied: requests>=2.19.0 in /opt/conda/lib/python3.10/site-packages (from evaluate) (2.31.0)\n",
      "Requirement already satisfied: tqdm>=4.62.1 in /opt/conda/lib/python3.10/site-packages (from evaluate) (4.64.1)\n",
      "Requirement already satisfied: xxhash in /opt/conda/lib/python3.10/site-packages (from evaluate) (3.4.1)\n",
      "Requirement already satisfied: multiprocess in /opt/conda/lib/python3.10/site-packages (from evaluate) (0.70.15)\n",
      "Requirement already satisfied: fsspec>=2021.05.0 in /opt/conda/lib/python3.10/site-packages (from fsspec[http]>=2021.05.0->evaluate) (2023.10.0)\n",
      "Requirement already satisfied: huggingface-hub>=0.7.0 in /opt/conda/lib/python3.10/site-packages (from evaluate) (0.19.4)\n",
      "Requirement already satisfied: packaging in /opt/conda/lib/python3.10/site-packages (from evaluate) (21.3)\n",
      "Collecting responses<0.19 (from evaluate)\n",
      "  Using cached responses-0.18.0-py3-none-any.whl (38 kB)\n",
      "Requirement already satisfied: pyarrow>=8.0.0 in /opt/conda/lib/python3.10/site-packages (from datasets>=2.0.0->evaluate) (14.0.1)\n",
      "Requirement already satisfied: pyarrow-hotfix in /opt/conda/lib/python3.10/site-packages (from datasets>=2.0.0->evaluate) (0.6)\n",
      "Requirement already satisfied: aiohttp in /opt/conda/lib/python3.10/site-packages (from datasets>=2.0.0->evaluate) (3.9.1)\n",
      "Requirement already satisfied: pyyaml>=5.1 in /opt/conda/lib/python3.10/site-packages/PyYAML-6.0-py3.10-linux-x86_64.egg (from datasets>=2.0.0->evaluate) (6.0)\n",
      "Requirement already satisfied: filelock in /opt/conda/lib/python3.10/site-packages (from huggingface-hub>=0.7.0->evaluate) (3.6.0)\n",
      "Requirement already satisfied: typing-extensions>=3.7.4.3 in /opt/conda/lib/python3.10/site-packages (from huggingface-hub>=0.7.0->evaluate) (4.3.0)\n",
      "Requirement already satisfied: pyparsing!=3.0.5,>=2.0.2 in /opt/conda/lib/python3.10/site-packages (from packaging->evaluate) (3.0.9)\n",
      "Requirement already satisfied: charset-normalizer<4,>=2 in /opt/conda/lib/python3.10/site-packages (from requests>=2.19.0->evaluate) (2.0.4)\n",
      "Requirement already satisfied: idna<4,>=2.5 in /opt/conda/lib/python3.10/site-packages (from requests>=2.19.0->evaluate) (3.3)\n",
      "Requirement already satisfied: urllib3<3,>=1.21.1 in /opt/conda/lib/python3.10/site-packages (from requests>=2.19.0->evaluate) (2.1.0)\n",
      "Requirement already satisfied: certifi>=2017.4.17 in /opt/conda/lib/python3.10/site-packages (from requests>=2.19.0->evaluate) (2023.11.17)\n",
      "Requirement already satisfied: python-dateutil>=2.8.2 in /opt/conda/lib/python3.10/site-packages (from pandas->evaluate) (2.8.2)\n",
      "Requirement already satisfied: pytz>=2020.1 in /opt/conda/lib/python3.10/site-packages (from pandas->evaluate) (2022.1)\n",
      "Requirement already satisfied: tzdata>=2022.1 in /opt/conda/lib/python3.10/site-packages (from pandas->evaluate) (2023.3)\n",
      "Requirement already satisfied: attrs>=17.3.0 in /opt/conda/lib/python3.10/site-packages (from aiohttp->datasets>=2.0.0->evaluate) (23.1.0)\n",
      "Requirement already satisfied: multidict<7.0,>=4.5 in /opt/conda/lib/python3.10/site-packages (from aiohttp->datasets>=2.0.0->evaluate) (6.0.4)\n",
      "Requirement already satisfied: yarl<2.0,>=1.0 in /opt/conda/lib/python3.10/site-packages (from aiohttp->datasets>=2.0.0->evaluate) (1.9.4)\n",
      "Requirement already satisfied: frozenlist>=1.1.1 in /opt/conda/lib/python3.10/site-packages (from aiohttp->datasets>=2.0.0->evaluate) (1.4.1)\n",
      "Requirement already satisfied: aiosignal>=1.1.2 in /opt/conda/lib/python3.10/site-packages (from aiohttp->datasets>=2.0.0->evaluate) (1.3.1)\n",
      "Requirement already satisfied: async-timeout<5.0,>=4.0 in /opt/conda/lib/python3.10/site-packages (from aiohttp->datasets>=2.0.0->evaluate) (4.0.3)\n",
      "Requirement already satisfied: six>=1.5 in /opt/conda/lib/python3.10/site-packages (from python-dateutil>=2.8.2->pandas->evaluate) (1.16.0)\n",
      "Using cached evaluate-0.4.1-py3-none-any.whl (84 kB)\n",
      "Installing collected packages: responses, evaluate\n",
      "Successfully installed evaluate-0.4.1 responses-0.18.0\n",
      "\u001b[33mWARNING: Running pip as the 'root' user can result in broken permissions and conflicting behaviour with the system package manager. It is recommended to use a virtual environment instead: https://pip.pypa.io/warnings/venv\u001b[0m\u001b[33m\n",
      "\u001b[0m\n",
      "\u001b[1m[\u001b[0m\u001b[34;49mnotice\u001b[0m\u001b[1;39;49m]\u001b[0m\u001b[39;49m A new release of pip is available: \u001b[0m\u001b[31;49m23.3.1\u001b[0m\u001b[39;49m -> \u001b[0m\u001b[32;49m23.3.2\u001b[0m\n",
      "\u001b[1m[\u001b[0m\u001b[34;49mnotice\u001b[0m\u001b[1;39;49m]\u001b[0m\u001b[39;49m To update, run: \u001b[0m\u001b[32;49mpip install --upgrade pip\u001b[0m\n"
     ]
    }
   ],
   "source": [
    "%pip install -q -U torch==2.0.1 bitsandbytes==0.40.2\n",
    "%pip install -q -U transformers==4.31.0 peft==0.4.0 accelerate==0.21.0\n",
    "%pip install -q -U datasets py7zr einops tensorboardX\n",
    "!pip install evaluate\n",
    "# Add installed cuda runtime to path for bitsandbytes\n",
    "import os\n",
    "import nvidia\n",
    "\n",
    "cuda_install_dir = '/'.join(nvidia.__file__.split('/')[:-1]) + '/cuda_runtime/lib/'\n",
    "os.environ['LD_LIBRARY_PATH'] =  cuda_install_dir"
   ]
  },
  {
   "cell_type": "code",
   "execution_count": 2,
   "id": "5c8ecff1-6230-44e2-9aa5-7ae09eb4d433",
   "metadata": {
    "tags": []
   },
   "outputs": [
    {
     "name": "stdout",
     "output_type": "stream",
     "text": [
      "Requirement already satisfied: wandb in /opt/conda/lib/python3.10/site-packages (0.16.1)\n",
      "Requirement already satisfied: Click!=8.0.0,>=7.1 in /opt/conda/lib/python3.10/site-packages (from wandb) (8.1.7)\n",
      "Requirement already satisfied: GitPython!=3.1.29,>=1.0.0 in /opt/conda/lib/python3.10/site-packages (from wandb) (3.1.40)\n",
      "Requirement already satisfied: requests<3,>=2.0.0 in /opt/conda/lib/python3.10/site-packages (from wandb) (2.31.0)\n",
      "Requirement already satisfied: psutil>=5.0.0 in /opt/conda/lib/python3.10/site-packages (from wandb) (5.9.0)\n",
      "Requirement already satisfied: sentry-sdk>=1.0.0 in /opt/conda/lib/python3.10/site-packages (from wandb) (1.39.1)\n",
      "Requirement already satisfied: docker-pycreds>=0.4.0 in /opt/conda/lib/python3.10/site-packages (from wandb) (0.4.0)\n",
      "Requirement already satisfied: PyYAML in /opt/conda/lib/python3.10/site-packages/PyYAML-6.0-py3.10-linux-x86_64.egg (from wandb) (6.0)\n",
      "Requirement already satisfied: setproctitle in /opt/conda/lib/python3.10/site-packages (from wandb) (1.3.3)\n",
      "Requirement already satisfied: setuptools in /opt/conda/lib/python3.10/site-packages (from wandb) (69.0.2)\n",
      "Requirement already satisfied: appdirs>=1.4.3 in /opt/conda/lib/python3.10/site-packages (from wandb) (1.4.4)\n",
      "Requirement already satisfied: protobuf!=4.21.0,<5,>=3.19.0 in /opt/conda/lib/python3.10/site-packages (from wandb) (4.25.1)\n",
      "Requirement already satisfied: six>=1.4.0 in /opt/conda/lib/python3.10/site-packages (from docker-pycreds>=0.4.0->wandb) (1.16.0)\n",
      "Requirement already satisfied: gitdb<5,>=4.0.1 in /opt/conda/lib/python3.10/site-packages (from GitPython!=3.1.29,>=1.0.0->wandb) (4.0.11)\n",
      "Requirement already satisfied: charset-normalizer<4,>=2 in /opt/conda/lib/python3.10/site-packages (from requests<3,>=2.0.0->wandb) (2.0.4)\n",
      "Requirement already satisfied: idna<4,>=2.5 in /opt/conda/lib/python3.10/site-packages (from requests<3,>=2.0.0->wandb) (3.3)\n",
      "Requirement already satisfied: urllib3<3,>=1.21.1 in /opt/conda/lib/python3.10/site-packages (from requests<3,>=2.0.0->wandb) (2.1.0)\n",
      "Requirement already satisfied: certifi>=2017.4.17 in /opt/conda/lib/python3.10/site-packages (from requests<3,>=2.0.0->wandb) (2023.11.17)\n",
      "Requirement already satisfied: smmap<6,>=3.0.1 in /opt/conda/lib/python3.10/site-packages (from gitdb<5,>=4.0.1->GitPython!=3.1.29,>=1.0.0->wandb) (5.0.1)\n",
      "\u001b[33mWARNING: Running pip as the 'root' user can result in broken permissions and conflicting behaviour with the system package manager. It is recommended to use a virtual environment instead: https://pip.pypa.io/warnings/venv\u001b[0m\u001b[33m\n",
      "\u001b[0m\n",
      "\u001b[1m[\u001b[0m\u001b[34;49mnotice\u001b[0m\u001b[1;39;49m]\u001b[0m\u001b[39;49m A new release of pip is available: \u001b[0m\u001b[31;49m23.3.1\u001b[0m\u001b[39;49m -> \u001b[0m\u001b[32;49m23.3.2\u001b[0m\n",
      "\u001b[1m[\u001b[0m\u001b[34;49mnotice\u001b[0m\u001b[1;39;49m]\u001b[0m\u001b[39;49m To update, run: \u001b[0m\u001b[32;49mpip install --upgrade pip\u001b[0m\n"
     ]
    },
    {
     "name": "stderr",
     "output_type": "stream",
     "text": [
      "\u001b[34m\u001b[1mwandb\u001b[0m: Currently logged in as: \u001b[33mbrc4cb\u001b[0m (\u001b[33mchrist_research\u001b[0m). Use \u001b[1m`wandb login --relogin`\u001b[0m to force relogin\n"
     ]
    },
    {
     "data": {
      "text/plain": [
       "True"
      ]
     },
     "execution_count": 2,
     "metadata": {},
     "output_type": "execute_result"
    }
   ],
   "source": [
    "!pip install wandb\n",
    "import os\n",
    "os.environ['WANDB_NOTEBOOK_NAME'] = 'text_classifier.ipynb'\n",
    "import wandb\n",
    "wandb.login()\n"
   ]
  },
  {
   "cell_type": "code",
   "execution_count": 3,
   "id": "8e7773e8-3948-4ad0-a8d1-a0d3523fc87a",
   "metadata": {
    "tags": []
   },
   "outputs": [
    {
     "name": "stdout",
     "output_type": "stream",
     "text": [
      "True\n"
     ]
    }
   ],
   "source": [
    "from collections import defaultdict\n",
    "import copy\n",
    "import json\n",
    "import os\n",
    "import sys\n",
    "#sys.path.append(\"/home/sagemaker-user/bitsandbytes\")\n",
    "#os.environ['LD_LIBRARY_PATH'] = '/opt/conda/lib/'\n",
    "from os.path import exists, join, isdir\n",
    "from dataclasses import dataclass, field\n",
    "import sys\n",
    "from typing import Optional, Dict, Sequence\n",
    "import numpy as np\n",
    "from tqdm import tqdm\n",
    "import logging\n",
    "#import bitsandbytes as bnb\n",
    "import pandas as pd\n",
    "\n",
    "import torch\n",
    "torch.cuda.init()\n",
    "print(torch.cuda.is_available())\n",
    "import os\n",
    "#os.environ['TRANSFORMERS_CACHE'] = '/project/SDS/research/christ_research/Llama 2/llama2-7b/cache'\n",
    "import transformers\n",
    "from torch.nn.utils.rnn import pad_sequence\n",
    "import argparse\n",
    "# from transformers import (\n",
    "#     AutoTokenizer,\n",
    "#     AutoModelForCausalLM,\n",
    "#     set_seed,\n",
    "#     Seq2SeqTrainer,\n",
    "# #    BitsAndBytesConfig,\n",
    "#     LlamaTokenizer\n",
    "\n",
    "# )\n",
    "from datasets import load_dataset, Dataset\n",
    "import evaluate\n",
    "\n",
    "# from peft import (\n",
    "#     prepare_model_for_kbit_training,\n",
    "#     LoraConfig,\n",
    "#     get_peft_model,\n",
    "#     PeftModel,\n",
    "#     TaskType\n",
    "# )\n",
    "#from peft.tuners.lora import LoraLayer\n",
    "from transformers.trainer_utils import PREFIX_CHECKPOINT_DIR\n",
    "#from dotenv import load_dotenv\n",
    "import os\n",
    "os.environ[\"WANDB_PROJECT\"]=\"text_classifiers\"\n",
    "torch.backends.cuda.matmul.allow_tf32 = True\n",
    "\n",
    "# Load the environmental variables from the .env file\n",
    "#load_dotenv()\n",
    "\n",
    "#token = os.getenv('text_classifier_token')\n",
    "\n",
    "#from huggingface_hub import login\n",
    "#login(token = token)\n",
    "\n",
    "from datasets import load_dataset, DatasetDict"
   ]
  },
  {
   "cell_type": "code",
   "execution_count": 4,
   "id": "e4c0f971-5e46-4441-a63a-0b90433ec759",
   "metadata": {
    "tags": []
   },
   "outputs": [],
   "source": [
    "import random"
   ]
  },
  {
   "cell_type": "code",
   "execution_count": 5,
   "id": "969cfb01-8c8f-4e43-a3e4-bb5461f688a2",
   "metadata": {
    "tags": []
   },
   "outputs": [
    {
     "data": {
      "text/html": [
       "<div>\n",
       "<style scoped>\n",
       "    .dataframe tbody tr th:only-of-type {\n",
       "        vertical-align: middle;\n",
       "    }\n",
       "\n",
       "    .dataframe tbody tr th {\n",
       "        vertical-align: top;\n",
       "    }\n",
       "\n",
       "    .dataframe thead th {\n",
       "        text-align: right;\n",
       "    }\n",
       "</style>\n",
       "<table border=\"1\" class=\"dataframe\">\n",
       "  <thead>\n",
       "    <tr style=\"text-align: right;\">\n",
       "      <th></th>\n",
       "      <th>label</th>\n",
       "      <th>text</th>\n",
       "    </tr>\n",
       "  </thead>\n",
       "  <tbody>\n",
       "    <tr>\n",
       "      <th>0</th>\n",
       "      <td>1</td>\n",
       "      <td>Question: LeBron James has 30000 points. He ha...</td>\n",
       "    </tr>\n",
       "    <tr>\n",
       "      <th>1</th>\n",
       "      <td>1</td>\n",
       "      <td>Question: A class has 120 students. 40 of them...</td>\n",
       "    </tr>\n",
       "    <tr>\n",
       "      <th>2</th>\n",
       "      <td>1</td>\n",
       "      <td>Question: Naruto has 5000 ryo. He spends 1000 ...</td>\n",
       "    </tr>\n",
       "    <tr>\n",
       "      <th>3</th>\n",
       "      <td>1</td>\n",
       "      <td>Question: Hello Kitty has 12 pencils. She boug...</td>\n",
       "    </tr>\n",
       "    <tr>\n",
       "      <th>4</th>\n",
       "      <td>1</td>\n",
       "      <td>Question: Wonder Woman's lasso of truth can ho...</td>\n",
       "    </tr>\n",
       "    <tr>\n",
       "      <th>...</th>\n",
       "      <td>...</td>\n",
       "      <td>...</td>\n",
       "    </tr>\n",
       "    <tr>\n",
       "      <th>2655</th>\n",
       "      <td>0</td>\n",
       "      <td>Question: 3 unicorns ate 12 apples. 2 unicorns...</td>\n",
       "    </tr>\n",
       "    <tr>\n",
       "      <th>2656</th>\n",
       "      <td>0</td>\n",
       "      <td>Question: If 1000 V-Bucks cost $10, how many V...</td>\n",
       "    </tr>\n",
       "    <tr>\n",
       "      <th>2657</th>\n",
       "      <td>0</td>\n",
       "      <td>Question: A field hockey game has 11 players p...</td>\n",
       "    </tr>\n",
       "    <tr>\n",
       "      <th>2658</th>\n",
       "      <td>0</td>\n",
       "      <td>Question: 100 turtles are at the pond. 10 turt...</td>\n",
       "    </tr>\n",
       "    <tr>\n",
       "      <th>2659</th>\n",
       "      <td>0</td>\n",
       "      <td>Question: 1234567890 is a 10-digit number. \\nH...</td>\n",
       "    </tr>\n",
       "  </tbody>\n",
       "</table>\n",
       "<p>2660 rows × 2 columns</p>\n",
       "</div>"
      ],
      "text/plain": [
       "      label                                               text\n",
       "0         1  Question: LeBron James has 30000 points. He ha...\n",
       "1         1  Question: A class has 120 students. 40 of them...\n",
       "2         1  Question: Naruto has 5000 ryo. He spends 1000 ...\n",
       "3         1  Question: Hello Kitty has 12 pencils. She boug...\n",
       "4         1  Question: Wonder Woman's lasso of truth can ho...\n",
       "...     ...                                                ...\n",
       "2655      0  Question: 3 unicorns ate 12 apples. 2 unicorns...\n",
       "2656      0  Question: If 1000 V-Bucks cost $10, how many V...\n",
       "2657      0  Question: A field hockey game has 11 players p...\n",
       "2658      0  Question: 100 turtles are at the pond. 10 turt...\n",
       "2659      0  Question: 1234567890 is a 10-digit number. \\nH...\n",
       "\n",
       "[2660 rows x 2 columns]"
      ]
     },
     "execution_count": 5,
     "metadata": {},
     "output_type": "execute_result"
    }
   ],
   "source": [
    "df = pd.read_csv('data/appropriateness.csv')\n",
    "df['label'] = df['label'].astype('int')\n",
    "df = df.drop('Unnamed: 0', axis =1)\n",
    "df = df[df['text'].notnull()]\n",
    "df.to_csv('data/appropriateness.csv')\n",
    "df"
   ]
  },
  {
   "cell_type": "code",
   "execution_count": 6,
   "id": "47f556f9-b75f-4565-a867-f1a389d11c15",
   "metadata": {
    "tags": []
   },
   "outputs": [],
   "source": [
    "neg_weight = df['label'].mean()\n",
    "pos_weight = 1 - neg_weight"
   ]
  },
  {
   "cell_type": "code",
   "execution_count": 27,
   "id": "15a23a5e-7db2-4fc5-990f-a56fb2a09ddf",
   "metadata": {
    "tags": []
   },
   "outputs": [
    {
     "data": {
      "text/plain": [
       "0.8007518796992481"
      ]
     },
     "execution_count": 27,
     "metadata": {},
     "output_type": "execute_result"
    }
   ],
   "source": [
    "neg_weight"
   ]
  },
  {
   "cell_type": "code",
   "execution_count": 28,
   "id": "4b801a47-fd0a-4189-8848-24979880d846",
   "metadata": {
    "tags": []
   },
   "outputs": [
    {
     "data": {
      "text/plain": [
       "0.1992481203007519"
      ]
     },
     "execution_count": 28,
     "metadata": {},
     "output_type": "execute_result"
    }
   ],
   "source": [
    "pos_weight"
   ]
  },
  {
   "cell_type": "code",
   "execution_count": 8,
   "id": "cc37f2d5-6f77-484f-ba8f-624d29246d32",
   "metadata": {
    "tags": []
   },
   "outputs": [
    {
     "data": {
      "text/html": [
       "<div>\n",
       "<style scoped>\n",
       "    .dataframe tbody tr th:only-of-type {\n",
       "        vertical-align: middle;\n",
       "    }\n",
       "\n",
       "    .dataframe tbody tr th {\n",
       "        vertical-align: top;\n",
       "    }\n",
       "\n",
       "    .dataframe thead th {\n",
       "        text-align: right;\n",
       "    }\n",
       "</style>\n",
       "<table border=\"1\" class=\"dataframe\">\n",
       "  <thead>\n",
       "    <tr style=\"text-align: right;\">\n",
       "      <th></th>\n",
       "      <th>label</th>\n",
       "      <th>text</th>\n",
       "    </tr>\n",
       "  </thead>\n",
       "  <tbody>\n",
       "    <tr>\n",
       "      <th>0</th>\n",
       "      <td>0</td>\n",
       "      <td>Question: 15000 strawberries are in 500 basket...</td>\n",
       "    </tr>\n",
       "    <tr>\n",
       "      <th>1</th>\n",
       "      <td>1</td>\n",
       "      <td>Question: The Wombats and the Kangaroos are tw...</td>\n",
       "    </tr>\n",
       "    <tr>\n",
       "      <th>2</th>\n",
       "      <td>0</td>\n",
       "      <td>Question: Steph Curry has 100 3-point shots. H...</td>\n",
       "    </tr>\n",
       "    <tr>\n",
       "      <th>3</th>\n",
       "      <td>1</td>\n",
       "      <td>Question: LeBron James is the all-time leading...</td>\n",
       "    </tr>\n",
       "    <tr>\n",
       "      <th>4</th>\n",
       "      <td>0</td>\n",
       "      <td>Question: A cheerleading squad of 100 girls is...</td>\n",
       "    </tr>\n",
       "    <tr>\n",
       "      <th>...</th>\n",
       "      <td>...</td>\n",
       "      <td>...</td>\n",
       "    </tr>\n",
       "    <tr>\n",
       "      <th>1835</th>\n",
       "      <td>1</td>\n",
       "      <td>Question: Patrick Mahomes has 151 touchdowns. ...</td>\n",
       "    </tr>\n",
       "    <tr>\n",
       "      <th>1836</th>\n",
       "      <td>1</td>\n",
       "      <td>Question: Spiderman has 1000 web-shooters. He ...</td>\n",
       "    </tr>\n",
       "    <tr>\n",
       "      <th>1837</th>\n",
       "      <td>1</td>\n",
       "      <td>Question: A 24-hour bakery bakes 120 loaves of...</td>\n",
       "    </tr>\n",
       "    <tr>\n",
       "      <th>1838</th>\n",
       "      <td>1</td>\n",
       "      <td>Question: Hello Kitty has 35 pencils. She boug...</td>\n",
       "    </tr>\n",
       "    <tr>\n",
       "      <th>1839</th>\n",
       "      <td>0</td>\n",
       "      <td>Question: Wonder Woman is a superhero. She can...</td>\n",
       "    </tr>\n",
       "  </tbody>\n",
       "</table>\n",
       "<p>1840 rows × 2 columns</p>\n",
       "</div>"
      ],
      "text/plain": [
       "      label                                               text\n",
       "0         0  Question: 15000 strawberries are in 500 basket...\n",
       "1         1  Question: The Wombats and the Kangaroos are tw...\n",
       "2         0  Question: Steph Curry has 100 3-point shots. H...\n",
       "3         1  Question: LeBron James is the all-time leading...\n",
       "4         0  Question: A cheerleading squad of 100 girls is...\n",
       "...     ...                                                ...\n",
       "1835      1  Question: Patrick Mahomes has 151 touchdowns. ...\n",
       "1836      1  Question: Spiderman has 1000 web-shooters. He ...\n",
       "1837      1  Question: A 24-hour bakery bakes 120 loaves of...\n",
       "1838      1  Question: Hello Kitty has 35 pencils. She boug...\n",
       "1839      0  Question: Wonder Woman is a superhero. She can...\n",
       "\n",
       "[1840 rows x 2 columns]"
      ]
     },
     "execution_count": 8,
     "metadata": {},
     "output_type": "execute_result"
    }
   ],
   "source": [
    "df = pd.read_csv('data/appropriateness.csv')\n",
    "df['label'] = df['label'].astype('int')\n",
    "pos = df[df['label']==1]\n",
    "neg = df[df['label']==0]\n",
    "neg_len = len(neg)\n",
    "pos = pos.sample(n = neg_len, replace = False)\n",
    "df2 = pd.concat([pos, neg])\n",
    "df2 = df2.sample(frac=1)\n",
    "df2.reset_index(drop=True, inplace=True)\n",
    "df2 = df2.drop('Unnamed: 0', axis =1)\n",
    "df2 = df2[df2['text'].notnull()]\n",
    "df2.to_csv('data/appropriateness_balanced.csv')\n",
    "df2"
   ]
  },
  {
   "cell_type": "code",
   "execution_count": 7,
   "id": "bb896c6f-685f-4ceb-a4bf-e39e9777d139",
   "metadata": {
    "tags": []
   },
   "outputs": [
    {
     "data": {
      "application/vnd.jupyter.widget-view+json": {
       "model_id": "fcae5bba9e244d088bc18af2e4c17e47",
       "version_major": 2,
       "version_minor": 0
      },
      "text/plain": [
       "Downloading data files:   0%|          | 0/1 [00:00<?, ?it/s]"
      ]
     },
     "metadata": {},
     "output_type": "display_data"
    },
    {
     "data": {
      "application/vnd.jupyter.widget-view+json": {
       "model_id": "7e89109d56564c958dd6d31289e514c0",
       "version_major": 2,
       "version_minor": 0
      },
      "text/plain": [
       "Extracting data files:   0%|          | 0/1 [00:00<?, ?it/s]"
      ]
     },
     "metadata": {},
     "output_type": "display_data"
    },
    {
     "data": {
      "application/vnd.jupyter.widget-view+json": {
       "model_id": "94c110f4aaab4d3ca22f35576296eba5",
       "version_major": 2,
       "version_minor": 0
      },
      "text/plain": [
       "Generating train split: 0 examples [00:00, ? examples/s]"
      ]
     },
     "metadata": {},
     "output_type": "display_data"
    }
   ],
   "source": [
    "# Load the dataset\n",
    "#dataset = load_dataset('csv', data_files=\"data/appropriateness_balanced.csv\")\n",
    "dataset = load_dataset('csv', data_files=\"data/appropriateness.csv\")\n",
    "#dataset= load_dataset('csv', data_files=\"data/appropriateness_test.csv\")\n",
    "\n",
    "dataset_train_valid_test = dataset['train'].train_test_split(test_size = .2, seed = 42)\n",
    "dataset_valid_test = dataset_train_valid_test['test'].train_test_split(test_size = .5, seed = 42)\n",
    "# Create a DatasetDict to hold the splits\n",
    "train_test_valid_dataset = DatasetDict({\n",
    "    'train': dataset_train_valid_test['train'],\n",
    "    'test': dataset_valid_test['train'],\n",
    "    'valid': dataset_valid_test['test']\n",
    "})"
   ]
  },
  {
   "cell_type": "code",
   "execution_count": 8,
   "id": "a644a1cf-f91a-4e10-a14e-e5d69d732b53",
   "metadata": {
    "tags": []
   },
   "outputs": [
    {
     "data": {
      "text/plain": [
       "{'Unnamed: 0': 2564,\n",
       " 'label': 0,\n",
       " 'text': 'Question: The Red Ranger, Yellow Ranger, and Blue Ranger are each 6 feet tall. The Pink Ranger and Green Ranger are 1 inch taller than the other Rangers. How tall are all the Power Rangers put together?\\nAnswer: 32'}"
      ]
     },
     "execution_count": 8,
     "metadata": {},
     "output_type": "execute_result"
    }
   ],
   "source": [
    "train_test_valid_dataset['valid'][2]"
   ]
  },
  {
   "cell_type": "code",
   "execution_count": 9,
   "id": "f73f4f87-32dc-47ac-ad2a-66b9fec1d1af",
   "metadata": {
    "tags": []
   },
   "outputs": [
    {
     "data": {
      "application/vnd.jupyter.widget-view+json": {
       "model_id": "f328eef01a1740519de1914c35b8aa65",
       "version_major": 2,
       "version_minor": 0
      },
      "text/plain": [
       "Map:   0%|          | 0/2128 [00:00<?, ? examples/s]"
      ]
     },
     "metadata": {},
     "output_type": "display_data"
    },
    {
     "data": {
      "application/vnd.jupyter.widget-view+json": {
       "model_id": "b27c7ea8d003456da86ba6d03d4a0c69",
       "version_major": 2,
       "version_minor": 0
      },
      "text/plain": [
       "Map:   0%|          | 0/266 [00:00<?, ? examples/s]"
      ]
     },
     "metadata": {},
     "output_type": "display_data"
    },
    {
     "data": {
      "application/vnd.jupyter.widget-view+json": {
       "model_id": "999e9157536e4a81be5f9db457df098d",
       "version_major": 2,
       "version_minor": 0
      },
      "text/plain": [
       "Map:   0%|          | 0/266 [00:00<?, ? examples/s]"
      ]
     },
     "metadata": {},
     "output_type": "display_data"
    }
   ],
   "source": [
    "#Set up tokenizer\n",
    "from transformers import AutoTokenizer\n",
    "# tokenizer = AutoTokenizer.from_pretrained(\"meta-llama/Llama-2-7b-hf\", use_auth_token=True)\n",
    "# tokenizer.add_special_tokens({\"pad_token\":\"[PAD]\"})\n",
    "\n",
    "tokenizer = AutoTokenizer.from_pretrained(\"distilbert-base-uncased\")\n",
    "#tokenizer = AutoTokenizer.from_pretrained(\"roberta-base\")\n",
    "#tokenizer = AutoTokenizer.from_pretrained(\"albert-large-v2\")\n",
    "#tokenizer.add_special_tokens({\"pad_token\":\"[PAD]\"})\n",
    "\n",
    "#Preprocess and collate data\n",
    "def preprocess_function(examples):\n",
    "    return tokenizer(examples[\"text\"], truncation=True)\n",
    "\n",
    "tokenized_train_test_valid_dataset = train_test_valid_dataset.map(preprocess_function, batched=True)"
   ]
  },
  {
   "cell_type": "code",
   "execution_count": 10,
   "id": "3dd6cf2f-2bb8-49b9-9ff9-c08f4620006a",
   "metadata": {
    "tags": []
   },
   "outputs": [],
   "source": [
    "from transformers import DataCollatorWithPadding\n",
    "data_collator = DataCollatorWithPadding(tokenizer=tokenizer)\n",
    "\n",
    "#Prepare evaluation function\n",
    "import evaluate\n",
    "accuracy = evaluate.load(\"accuracy\")\n",
    "balanced_accuracy = evaluate.load('hyperml/balanced_accuracy')\n",
    "roc_auc_score= evaluate.load('roc_auc')\n",
    "f1 = evaluate.load('f1')\n",
    "precision = evaluate.load('precision')\n",
    "recall = evaluate.load('recall')\n",
    "\n",
    "import numpy as np\n",
    "import torch.nn.functional as F\n",
    "def compute_metrics(eval_pred):\n",
    "    accuracy = evaluate.load(\"accuracy\")\n",
    "    balanced_accuracy = evaluate.load('hyperml/balanced_accuracy')\n",
    "    roc_auc_score= evaluate.load('roc_auc')\n",
    "    f1 = evaluate.load('f1')\n",
    "    precision = evaluate.load('precision')\n",
    "    recall = evaluate.load('recall')\n",
    "    predictions, labels = eval_pred\n",
    "    \n",
    "    predicted_labels = np.argmax(predictions, axis=1)\n",
    "    # Convert NumPy array to PyTorch tensor\n",
    "    predictions_tensor = torch.from_numpy(predictions)\n",
    "    \n",
    "    # Apply softmax to convert logits to probabilities\n",
    "    probabilities = F.softmax(predictions_tensor, dim=1)\n",
    "    \n",
    "    # Convert probabilities back to NumPy array\n",
    "    probabilities_np = probabilities.numpy()\n",
    "    \n",
    "    accuracy = accuracy.compute(predictions=predicted_labels, references=labels)\n",
    "    balanced_accuracy = balanced_accuracy.compute(predictions=predicted_labels, references=labels)\n",
    "    roc_auc = roc_auc_score.compute(references = labels, prediction_scores = probabilities_np[:, 1])\n",
    "    f1 = f1.compute(predictions=predicted_labels, references=labels)\n",
    "    precision = precision.compute(predictions=predicted_labels, references=labels)\n",
    "    recall = recall.compute(predictions=predicted_labels, references=labels)\n",
    "    return {'accuracy':  accuracy, 'balanced_accuracy' : balanced_accuracy, 'f1':f1, 'auc': roc_auc, 'precision': precision, 'recall': recall}\n",
    "\n",
    "# roc_auc = evaluate.load(\"roc_auc\")\n",
    "\n",
    "# import numpy as np\n",
    "# def compute_metrics(eval_pred):\n",
    "#     predictions, labels = eval_pred\n",
    "#     predictions = np.argmax(predictions, axis=1)\n",
    "#     return roc_auc.compute(prediction_scores=predictions, references=labels)\n",
    "\n",
    "#Training\n",
    "id2label = {0: \"NOT APPROPRIATE\", 1: \"APPROPRIATE\"}\n",
    "label2id = {\"NOT APPROPRIATE\": 0, \"APPROPRIATE\": 1}"
   ]
  },
  {
   "cell_type": "code",
   "execution_count": 11,
   "id": "432fad63-93e2-498d-a730-d9500bf543b4",
   "metadata": {
    "tags": []
   },
   "outputs": [
    {
     "name": "stderr",
     "output_type": "stream",
     "text": [
      "Some weights of DistilBertForSequenceClassification were not initialized from the model checkpoint at distilbert-base-uncased and are newly initialized: ['pre_classifier.weight', 'pre_classifier.bias', 'classifier.bias', 'classifier.weight']\n",
      "You should probably TRAIN this model on a down-stream task to be able to use it for predictions and inference.\n"
     ]
    }
   ],
   "source": [
    "from transformers import AutoModelForSequenceClassification, TrainingArguments, Trainer\n",
    "# model = AutoModelForSequenceClassification.from_pretrained(\n",
    "#     \"roberta-base\", num_labels=2, id2label=id2label, label2id=label2id\n",
    "# )\n",
    "# for param in model.parameters():\n",
    "#     param.requires_grad = False\n",
    "    \n",
    "# for param in model.classifier.parameters():\n",
    "#     param.requires_grad = True\n",
    "model = AutoModelForSequenceClassification.from_pretrained(\n",
    "    \"distilbert-base-uncased\", num_labels=2, id2label=id2label, label2id=label2id\n",
    ")"
   ]
  },
  {
   "cell_type": "raw",
   "id": "049f1c6c-9388-4e9f-b8e6-e535a0ea22ac",
   "metadata": {
    "tags": []
   },
   "source": [
    "#Import model\n",
    "from transformers import AutoModelForSequenceClassification, TrainingArguments, Trainer\n",
    "# model = AutoModelForSequenceClassification.from_pretrained(\n",
    "#     \"meta-llama/Llama-2-7b-hf\", num_labels=2, id2label=id2label, label2id=label2id,\n",
    "#         use_auth_token=True,  \n",
    "#       # max_memory=max_memory,\n",
    "#       # torch_dtype=torch.bfloat16, \n",
    "#       device_map = 'auto',\n",
    "#         quantization_config=BitsAndBytesConfig(\n",
    "#             load_in_4bit=True,\n",
    "#             bnb_4bit_compute_dtype=torch.bfloat16,\n",
    "#             bnb_4bit_use_double_quant=True,\n",
    "#             bnb_4bit_quant_type='nf4'))\n",
    "from transformers import DistilBertForSequenceClassification, DistilBertConfig\n",
    "# Load the pre-trained model configuration\n",
    "config = DistilBertConfig.from_pretrained('distilbert-base-uncased',  num_labels=2, id2label=id2label, label2id=label2id)\n",
    "\n",
    "# Set your desired dropout rates\n",
    "new_attention_dropout_rate = 0.6\n",
    "#new_attention_dropout_rate = 0.6712  \n",
    "\n",
    "# Modify the attention block and FFN layer with the new dropout rates\n",
    "config.attention_dropout = new_attention_dropout_rate\n",
    "\n",
    "# Load the pre-trained model with the modified configuration\n",
    "model = DistilBertForSequenceClassification.from_pretrained('distilbert-base-uncased', config=config)\n",
    "\n",
    "# model = AutoModelForSequenceClassification.from_pretrained(\n",
    "#     \"distilbert-base-uncased\", num_labels=2, id2label=id2label, label2id=label2id\n",
    "# )\n",
    "from torch import nn\n",
    "model.dropout = nn.Dropout(p=.60)\n",
    "#print(model)\n",
    "\n",
    "\n",
    "# # Specify your dropout probabilities\n",
    "# hidden_dropout_prob = 0.1  \n",
    "# attention_probs_dropout_prob = 0.1  \n",
    "\n",
    "# # Create ALBERT configuration with dropout\n",
    "# config = AlbertConfig.from_pretrained(\"albert-large-v2\", \n",
    "#                                       hidden_dropout_prob=hidden_dropout_prob, \n",
    "#                                       attention_probs_dropout_prob=attention_probs_dropout_prob,\n",
    "#                                       num_labels=2, id2label=id2label, label2id=label2id)\n",
    "\n",
    "# # Create ALBERT model with dropout\n",
    "# model = AlbertForSequenceClassification(config)\n",
    "\n",
    "# model = AutoModelForSequenceClassification.from_pretrained(\n",
    "#      \"albert-large-v2\", num_labels=2, id2label=id2label, label2id=label2id\n",
    "#  )\n",
    "# model.dropout = nn.Dropout(p=.2) \n",
    "model.distilbert.embeddings.dropout = nn.Dropout(p=.60)\n",
    "model.distilbert.transformer.layer[0].ffn.dropout= nn.Dropout(p=.60)\n",
    "model.distilbert.transformer.layer[1].ffn.dropout= nn.Dropout(p=.60)\n",
    "model.distilbert.transformer.layer[2].ffn.dropout= nn.Dropout(p=.60)\n",
    "model.distilbert.transformer.layer[3].ffn.dropout= nn.Dropout(p=.60)\n",
    "model.distilbert.transformer.layer[4].ffn.dropout= nn.Dropout(p=.60)\n",
    "model.distilbert.transformer.layer[5].ffn.dropout= nn.Dropout(p=.60)"
   ]
  },
  {
   "cell_type": "raw",
   "id": "d18425ff-529e-449a-b9b9-47405886c8d3",
   "metadata": {
    "tags": []
   },
   "source": [
    "from transformers import AutoModelForSequenceClassification, TrainingArguments, Trainer\n",
    "model = AutoModelForSequenceClassification.from_pretrained(\n",
    "    \"distilbert-base-uncased\", num_labels=2, id2label=id2label, label2id=label2id\n",
    ")\n",
    "\n",
    "import torch.nn as nn\n",
    "# num_ftrs = model.pre_classifier.in_features\n",
    "# num_classes = 2\n",
    "# model.classifier = nn.Sequential(\n",
    "#     nn.Linear(num_ftrs, 2048),\n",
    "#     nn.LeakyReLU(negative_slope=0.01, inplace=True),         # Activation function (you can choose other activation functions too)\n",
    "#     nn.Dropout(0.4),               # Dropout layer with 20% probability\n",
    "#     nn.Linear(2048, num_classes)    # Final prediction fc layer\n",
    "# )\n",
    "\n",
    "for param in model.parameters():\n",
    "    param.requires_grad = False\n",
    "    \n",
    "for param in model.pre_classifier.parameters():\n",
    "    param.requires_grad = True\n",
    "    \n",
    "for param in model.classifier.parameters():\n",
    "    param.requires_grad = True\n",
    "    \n",
    "#model.dropout = nn.Dropout(p=.5)"
   ]
  },
  {
   "cell_type": "code",
   "execution_count": 15,
   "id": "6f1607bb-f9eb-464e-8a8d-c7ade160e4c7",
   "metadata": {
    "tags": []
   },
   "outputs": [],
   "source": [
    "#NEWLY ADDED\n",
    "# model.gradient_checkpointing_enable()\n",
    "# model = prepare_model_for_kbit_training(model)\n",
    "\n",
    "# peft_config = LoraConfig(\n",
    "#     task_type=TaskType.SEQ_CLS,\n",
    "#     r=16,\n",
    "#     lora_alpha=32,\n",
    "#     lora_dropout=0.1,\n",
    "# )      \n",
    "\n",
    "# model = get_peft_model(model, peft_config)\n",
    "\n",
    "#END NEWLY ADDED\n",
    "# training_args = TrainingArguments(\n",
    "#     output_dir=\"text_classifier_llama\",\n",
    "#     learning_rate=2e-5,\n",
    "#     per_device_train_batch_size=1,\n",
    "#   # auto_find_batch_size = True,\n",
    "#     num_train_epochs=8,\n",
    "#     weight_decay=0.01,\n",
    "#     evaluation_strategy=\"epoch\",\n",
    "#     save_strategy=\"epoch\",\n",
    "#     load_best_model_at_end=True, \n",
    "#     bf16=True)\n",
    "device = torch.device('cuda:0' if torch.cuda.is_available() else 'cpu')\n",
    "import torch.nn.functional as F\n",
    "from torch import nn\n",
    "class_weights = torch.tensor([neg_weight, pos_weight], device = model.device)\n",
    "\n",
    "class BertTrainer(Trainer):\n",
    "    def __init__(self, penalty_factor=2.0, *args, **kwargs):\n",
    "        super().__init__(*args, **kwargs)\n",
    "        self.penalty_factor = penalty_factor\n",
    "\n",
    "    def compute_loss(self, model, inputs, return_outputs=False):\n",
    "        labels = inputs.pop(\"labels\")  # Assuming labels are passed in the inputs\n",
    "        outputs = model(**inputs)\n",
    "        logits = outputs.logits\n",
    "\n",
    "        # Apply softmax to convert logits to probabilities\n",
    "        probabilities = F.softmax(logits, dim=1)\n",
    "\n",
    "        # Assuming binary classification, so consider only the positive class (index 1)\n",
    "        positive_class_probabilities = probabilities[:, 1]\n",
    "\n",
    "        # Custom loss calculation\n",
    "        loss = F.binary_cross_entropy(positive_class_probabilities, labels.float())\n",
    "\n",
    "        # Penalize false positives more heavily based on the defined penalty factor\n",
    "        false_positive_mask = (positive_class_probabilities > 0.5) & (labels == 0)\n",
    "        loss += torch.sum(false_positive_mask.float()) * self.penalty_factor\n",
    "\n",
    "        if return_outputs:\n",
    "            return loss, outputs\n",
    "        return loss\n",
    "\n",
    "class WeightedBertTrainer(Trainer):\n",
    "    def __init__(self, class_weights=None, *args, **kwargs):\n",
    "        super().__init__(*args, **kwargs)\n",
    "        self.class_weights = class_weights.to(torch.float32)\n",
    "\n",
    "    def compute_loss(self, model, inputs, return_outputs=False):\n",
    "        labels = inputs.pop(\"labels\")  # Assuming labels are passed in the inputs\n",
    "        outputs = model(**inputs)\n",
    "        logits = outputs.logits\n",
    "        \n",
    "        # # Convert logits and labels to Float\n",
    "        #logits = logits.to(torch.float32)\n",
    "        # labels = labels.to(torch.float32)\n",
    "        # labels = labels.to(device)\n",
    "        \n",
    "        # Apply softmax to convert logits to probabilities\n",
    "        probabilities = F.softmax(logits, dim=1)\n",
    "\n",
    "        # Assuming binary classification, so consider only the positive class (index 1)\n",
    "        positive_class_probabilities = probabilities[:, 1]\n",
    "        # Use weighted binary cross-entropy loss\n",
    "        if self.class_weights is not None:\n",
    "            # Ensure class_weights tensor matches the size of the labels tensor\n",
    "            loss_fct = nn.CrossEntropyLoss(weight = self.class_weights)\n",
    "            loss = loss_fct(logits.view(-1, self.model.config.num_labels), labels.view(-1))\n",
    "            \n",
    "        else:\n",
    "            # If class weights are not provided, use regular binary cross-entropy loss\n",
    "            loss = F.binary_cross_entropy(positive_class_probabilities, labels.float())\n",
    "                \n",
    "        if return_outputs:\n",
    "            return loss, outputs\n",
    "        return loss\n",
    "from transformers.optimization import Adafactor, AdafactorSchedule\n",
    "\n",
    "optimizer = Adafactor(model.parameters(), scale_parameter=True, relative_step=True, warmup_init=True, lr=None, weight_decay = .984687)\n",
    "lr_scheduler = AdafactorSchedule(optimizer)"
   ]
  },
  {
   "cell_type": "code",
   "execution_count": 16,
   "id": "34cb0aad-ef31-4815-87c9-2bed1e0411f2",
   "metadata": {
    "tags": []
   },
   "outputs": [
    {
     "data": {
      "text/plain": [
       "tensor([0.8008, 0.1992], device='cuda:0', dtype=torch.float64)"
      ]
     },
     "execution_count": 16,
     "metadata": {},
     "output_type": "execute_result"
    }
   ],
   "source": [
    "class_weights"
   ]
  },
  {
   "cell_type": "code",
   "execution_count": 31,
   "id": "91854c5d-bbb5-4d49-ae75-18b633113423",
   "metadata": {
    "tags": []
   },
   "outputs": [
    {
     "name": "stderr",
     "output_type": "stream",
     "text": [
      "/opt/conda/lib/python3.10/site-packages/transformers/optimization.py:411: FutureWarning: This implementation of AdamW is deprecated and will be removed in a future version. Use the PyTorch implementation torch.optim.AdamW instead, or set `no_deprecation_warning=True` to disable this warning\n",
      "  warnings.warn(\n"
     ]
    },
    {
     "data": {
      "text/html": [
       "\n",
       "    <div>\n",
       "      \n",
       "      <progress value='1064' max='1064' style='width:300px; height:20px; vertical-align: middle;'></progress>\n",
       "      [1064/1064 03:21, Epoch 8/8]\n",
       "    </div>\n",
       "    <table border=\"1\" class=\"dataframe\">\n",
       "  <thead>\n",
       " <tr style=\"text-align: left;\">\n",
       "      <th>Epoch</th>\n",
       "      <th>Training Loss</th>\n",
       "      <th>Validation Loss</th>\n",
       "      <th>Accuracy</th>\n",
       "      <th>Balanced Accuracy</th>\n",
       "      <th>F1</th>\n",
       "      <th>Auc</th>\n",
       "      <th>Precision</th>\n",
       "      <th>Recall</th>\n",
       "    </tr>\n",
       "  </thead>\n",
       "  <tbody>\n",
       "    <tr>\n",
       "      <td>1</td>\n",
       "      <td>0.628600</td>\n",
       "      <td>0.658083</td>\n",
       "      <td>{'accuracy': 0.7556390977443609}</td>\n",
       "      <td>{'balanced_accuracy': 0.5950762599469496}</td>\n",
       "      <td>{'f1': 0.8491879350348027}</td>\n",
       "      <td>{'roc_auc': 0.6483753315649867}</td>\n",
       "      <td>{'precision': 0.820627802690583}</td>\n",
       "      <td>{'recall': 0.8798076923076923}</td>\n",
       "    </tr>\n",
       "    <tr>\n",
       "      <td>2</td>\n",
       "      <td>0.583700</td>\n",
       "      <td>0.688604</td>\n",
       "      <td>{'accuracy': 0.6466165413533834}</td>\n",
       "      <td>{'balanced_accuracy': 0.6061836870026525}</td>\n",
       "      <td>{'f1': 0.7499999999999999}</td>\n",
       "      <td>{'roc_auc': 0.6506962864721485}</td>\n",
       "      <td>{'precision': 0.8392857142857143}</td>\n",
       "      <td>{'recall': 0.6778846153846154}</td>\n",
       "    </tr>\n",
       "    <tr>\n",
       "      <td>3</td>\n",
       "      <td>0.479100</td>\n",
       "      <td>0.763402</td>\n",
       "      <td>{'accuracy': 0.6954887218045113}</td>\n",
       "      <td>{'balanced_accuracy': 0.5876989389920424}</td>\n",
       "      <td>{'f1': 0.8}</td>\n",
       "      <td>{'roc_auc': 0.6277354111405835}</td>\n",
       "      <td>{'precision': 0.8223350253807107}</td>\n",
       "      <td>{'recall': 0.7788461538461539}</td>\n",
       "    </tr>\n",
       "    <tr>\n",
       "      <td>4</td>\n",
       "      <td>0.382700</td>\n",
       "      <td>1.210985</td>\n",
       "      <td>{'accuracy': 0.7631578947368421}</td>\n",
       "      <td>{'balanced_accuracy': 0.6371850132625995}</td>\n",
       "      <td>{'f1': 0.8503562945368172}</td>\n",
       "      <td>{'roc_auc': 0.6305537135278514}</td>\n",
       "      <td>{'precision': 0.8403755868544601}</td>\n",
       "      <td>{'recall': 0.8605769230769231}</td>\n",
       "    </tr>\n",
       "    <tr>\n",
       "      <td>5</td>\n",
       "      <td>0.312400</td>\n",
       "      <td>1.114098</td>\n",
       "      <td>{'accuracy': 0.7518796992481203}</td>\n",
       "      <td>{'balanced_accuracy': 0.5988892572944298}</td>\n",
       "      <td>{'f1': 0.8457943925233644}</td>\n",
       "      <td>{'roc_auc': 0.6398375331564986}</td>\n",
       "      <td>{'precision': 0.8227272727272728}</td>\n",
       "      <td>{'recall': 0.8701923076923077}</td>\n",
       "    </tr>\n",
       "    <tr>\n",
       "      <td>6</td>\n",
       "      <td>0.257300</td>\n",
       "      <td>1.393819</td>\n",
       "      <td>{'accuracy': 0.7631578947368421}</td>\n",
       "      <td>{'balanced_accuracy': 0.5874502652519894}</td>\n",
       "      <td>{'f1': 0.8558352402745996}</td>\n",
       "      <td>{'roc_auc': 0.6319628647214853}</td>\n",
       "      <td>{'precision': 0.8165938864628821}</td>\n",
       "      <td>{'recall': 0.8990384615384616}</td>\n",
       "    </tr>\n",
       "    <tr>\n",
       "      <td>7</td>\n",
       "      <td>0.226200</td>\n",
       "      <td>1.435472</td>\n",
       "      <td>{'accuracy': 0.7631578947368421}</td>\n",
       "      <td>{'balanced_accuracy': 0.6123176392572944}</td>\n",
       "      <td>{'f1': 0.8531468531468531}</td>\n",
       "      <td>{'roc_auc': 0.6627984084880636}</td>\n",
       "      <td>{'precision': 0.8280542986425339}</td>\n",
       "      <td>{'recall': 0.8798076923076923}</td>\n",
       "    </tr>\n",
       "    <tr>\n",
       "      <td>8</td>\n",
       "      <td>0.193300</td>\n",
       "      <td>1.476415</td>\n",
       "      <td>{'accuracy': 0.7894736842105263}</td>\n",
       "      <td>{'balanced_accuracy': 0.616710875331565}</td>\n",
       "      <td>{'f1': 0.8727272727272727}</td>\n",
       "      <td>{'roc_auc': 0.6607675729442971}</td>\n",
       "      <td>{'precision': 0.8275862068965517}</td>\n",
       "      <td>{'recall': 0.9230769230769231}</td>\n",
       "    </tr>\n",
       "  </tbody>\n",
       "</table><p>"
      ],
      "text/plain": [
       "<IPython.core.display.HTML object>"
      ]
     },
     "metadata": {},
     "output_type": "display_data"
    },
    {
     "data": {
      "text/plain": [
       "TrainOutput(global_step=1064, training_loss=0.3829072794519869, metrics={'train_runtime': 201.1497, 'train_samples_per_second': 84.633, 'train_steps_per_second': 5.29, 'total_flos': 338222385618432.0, 'train_loss': 0.3829072794519869, 'epoch': 8.0})"
      ]
     },
     "execution_count": 31,
     "metadata": {},
     "output_type": "execute_result"
    }
   ],
   "source": [
    "    \n",
    "training_args = TrainingArguments(\n",
    "    output_dir=\"appropriateness_classifier\",\n",
    "    learning_rate=.0001,\n",
    "    per_device_train_batch_size=16,\n",
    "    per_device_eval_batch_size=16,\n",
    "    num_train_epochs=8,\n",
    "    weight_decay=.9,\n",
    "    evaluation_strategy=\"epoch\",\n",
    "    save_strategy=\"epoch\",\n",
    "    load_best_model_at_end=True,\n",
    "    report_to = 'wandb', \n",
    "    run_name = 'distilbert_appropriateness',\n",
    "    logging_strategy = 'epoch',\n",
    "    logging_steps = 1)\n",
    "\n",
    "trainer = WeightedBertTrainer(class_weights = class_weights,\n",
    "     model=model,\n",
    "     args=training_args,\n",
    "     train_dataset=tokenized_train_test_valid_dataset[\"train\"],\n",
    "     eval_dataset=tokenized_train_test_valid_dataset[\"valid\"],\n",
    "     tokenizer=tokenizer,\n",
    "     data_collator=data_collator,\n",
    "     compute_metrics=compute_metrics,\n",
    "     #optimizers=(optimizer, lr_scheduler)\n",
    " )\n",
    "# trainer = BertTrainer(penalty_factor=4,\n",
    "#     model=model,\n",
    "#     args=training_args,\n",
    "#     train_dataset=tokenized_train_test_valid_dataset[\"train\"],\n",
    "#     eval_dataset=tokenized_train_test_valid_dataset[\"valid\"],\n",
    "#     tokenizer=tokenizer,\n",
    "#     data_collator=data_collator,\n",
    "#     compute_metrics=compute_metrics,\n",
    "#     #optimizers=(optimizer, lr_scheduler)\n",
    "# )\n",
    "#trainer.train(resume_from_checkpoint=True)\n",
    "trainer.train()"
   ]
  },
  {
   "cell_type": "code",
   "execution_count": 24,
   "id": "27063880-4b63-4dc0-8451-d511807fa687",
   "metadata": {
    "tags": []
   },
   "outputs": [],
   "source": [
    "#Clear cache when needed\n",
    "import gc\n",
    "gc.collect()\n",
    "torch.cuda.empty_cache()"
   ]
  },
  {
   "cell_type": "code",
   "execution_count": 32,
   "id": "3fcd3e1c-1914-477e-91f3-7df29b9093a0",
   "metadata": {
    "tags": []
   },
   "outputs": [
    {
     "data": {
      "text/html": [
       "\n",
       "    <div>\n",
       "      \n",
       "      <progress value='67' max='17' style='width:300px; height:20px; vertical-align: middle;'></progress>\n",
       "      [17/17 00:20]\n",
       "    </div>\n",
       "    "
      ],
      "text/plain": [
       "<IPython.core.display.HTML object>"
      ]
     },
     "metadata": {},
     "output_type": "display_data"
    },
    {
     "data": {
      "text/plain": [
       "{'eval_loss': 0.6454976797103882,\n",
       " 'eval_accuracy': {'accuracy': 0.7781954887218046},\n",
       " 'eval_balanced_accuracy': {'balanced_accuracy': 0.6270572745227123},\n",
       " 'eval_f1': {'f1': 0.8643678160919541},\n",
       " 'eval_auc': {'roc_auc': 0.6591742687858554},\n",
       " 'eval_precision': {'precision': 0.8623853211009175},\n",
       " 'eval_recall': {'recall': 0.8663594470046083},\n",
       " 'eval_runtime': 1.6268,\n",
       " 'eval_samples_per_second': 163.509,\n",
       " 'eval_steps_per_second': 10.45,\n",
       " 'epoch': 8.0}"
      ]
     },
     "execution_count": 32,
     "metadata": {},
     "output_type": "execute_result"
    }
   ],
   "source": [
    "# predictions = trainer.predict(test_dataset=test_input_data)\n",
    "# print(predictions)\n",
    "trainer.evaluate(eval_dataset = tokenized_train_test_valid_dataset[\"test\"])"
   ]
  },
  {
   "cell_type": "markdown",
   "id": "7743bbf7-4b51-40b8-b261-9c0a54001b9b",
   "metadata": {},
   "source": [
    "## Evaluate model on questions from Llama, Llema, Mammoth and Mathwell"
   ]
  },
  {
   "cell_type": "code",
   "execution_count": 33,
   "id": "a74b1e1f-7b66-4c9f-9888-91919b9e0409",
   "metadata": {
    "tags": []
   },
   "outputs": [],
   "source": [
    "df= pd.read_csv('data/llama_appropriateness.csv')\n",
    "df = df.dropna()\n",
    "df['label'] = df['label'].astype('int')\n",
    "df = df.drop('Unnamed: 0', axis =1)\n",
    "df = df[df['text'].notnull()]\n",
    "df.to_csv('data/llama_appropriateness.csv')\n",
    "\n",
    "df= pd.read_csv('data/llema_appropriateness.csv')\n",
    "df = df.dropna()\n",
    "df['label'] = df['label'].astype('int')\n",
    "df = df.drop('Unnamed: 0', axis =1)\n",
    "df = df[df['text'].notnull()]\n",
    "df.to_csv('data/llema_appropriateness.csv')\n",
    "\n",
    "df= pd.read_csv('data/mammoth_appropriateness.csv')\n",
    "df = df.dropna()\n",
    "df['label'] = df['label'].astype('int')\n",
    "df = df.drop('Unnamed: 0', axis =1)\n",
    "df = df[df['text'].notnull()]\n",
    "df.to_csv('data/mammoth_appropriateness.csv')\n",
    "\n",
    "df= pd.read_csv('data/mathwell_appropriateness.csv')\n",
    "df = df.dropna()\n",
    "df['label'] = df['label'].astype('int')\n",
    "df = df.drop('Unnamed: 0', axis =1)\n",
    "df = df[df['text'].notnull()]\n",
    "df.to_csv('data/mathwell_appropriateness.csv')\n",
    "\n",
    "df= pd.read_csv('data/llama_solvability.csv')\n",
    "df = df.dropna()\n",
    "df['label'] = df['label'].astype('int')\n",
    "df = df.drop('Unnamed: 0', axis =1)\n",
    "df = df[df['text'].notnull()]\n",
    "df.to_csv('data/llama_solvability.csv')\n",
    "\n",
    "df= pd.read_csv('data/llema_solvability.csv')\n",
    "df = df.dropna()\n",
    "df['label'] = df['label'].astype('int')\n",
    "df = df.drop('Unnamed: 0', axis =1)\n",
    "df = df[df['text'].notnull()]\n",
    "df.to_csv('data/llema_solvability.csv')\n",
    "\n",
    "df= pd.read_csv('data/mammoth_solvability.csv')\n",
    "df = df.dropna()\n",
    "df['label'] = df['label'].astype('int')\n",
    "df = df.drop('Unnamed: 0', axis =1)\n",
    "df = df[df['text'].notnull()]\n",
    "df.to_csv('data/mammoth_solvability.csv')\n",
    "\n",
    "df= pd.read_csv('data/mathwell_solvability.csv')\n",
    "df = df.dropna()\n",
    "df['label'] = df['label'].astype('int')\n",
    "df = df.drop('Unnamed: 0', axis =1)\n",
    "df = df[df['text'].notnull()]\n",
    "df.to_csv('data/mathwell_solvability.csv')"
   ]
  },
  {
   "cell_type": "code",
   "execution_count": 34,
   "id": "8fba0114-2406-49c8-9b54-437e8580b010",
   "metadata": {
    "tags": []
   },
   "outputs": [
    {
     "data": {
      "application/vnd.jupyter.widget-view+json": {
       "model_id": "e0fd438fef3c46c79c55b0fe43ebfdaa",
       "version_major": 2,
       "version_minor": 0
      },
      "text/plain": [
       "Downloading data files:   0%|          | 0/1 [00:00<?, ?it/s]"
      ]
     },
     "metadata": {},
     "output_type": "display_data"
    },
    {
     "data": {
      "application/vnd.jupyter.widget-view+json": {
       "model_id": "8d2dca9afeb84c5c9085bd0451ca9476",
       "version_major": 2,
       "version_minor": 0
      },
      "text/plain": [
       "Extracting data files:   0%|          | 0/1 [00:00<?, ?it/s]"
      ]
     },
     "metadata": {},
     "output_type": "display_data"
    },
    {
     "data": {
      "application/vnd.jupyter.widget-view+json": {
       "model_id": "ab8968d8a2ae40c886cb6ac855166041",
       "version_major": 2,
       "version_minor": 0
      },
      "text/plain": [
       "Generating train split: 0 examples [00:00, ? examples/s]"
      ]
     },
     "metadata": {},
     "output_type": "display_data"
    },
    {
     "data": {
      "application/vnd.jupyter.widget-view+json": {
       "model_id": "a4015b898deb46f395430765fe7d5dbb",
       "version_major": 2,
       "version_minor": 0
      },
      "text/plain": [
       "Map:   0%|          | 0/213 [00:00<?, ? examples/s]"
      ]
     },
     "metadata": {},
     "output_type": "display_data"
    },
    {
     "data": {
      "text/plain": [
       "{'eval_loss': 0.6905992031097412,\n",
       " 'eval_accuracy': {'accuracy': 0.7981220657276995},\n",
       " 'eval_balanced_accuracy': {'balanced_accuracy': 0.539378612716763},\n",
       " 'eval_f1': {'f1': 0.8847184986595175},\n",
       " 'eval_auc': {'roc_auc': 0.5638728323699422},\n",
       " 'eval_precision': {'precision': 0.825},\n",
       " 'eval_recall': {'recall': 0.953757225433526},\n",
       " 'eval_runtime': 1.4999,\n",
       " 'eval_samples_per_second': 142.012,\n",
       " 'eval_steps_per_second': 9.334,\n",
       " 'epoch': 8.0}"
      ]
     },
     "execution_count": 34,
     "metadata": {},
     "output_type": "execute_result"
    }
   ],
   "source": [
    "llama = load_dataset('csv', data_files=\"data/llama_appropriateness.csv\")\n",
    "tokenized_llama = llama.map(preprocess_function, batched=True)\n",
    "trainer.evaluate(eval_dataset = tokenized_llama['train'])"
   ]
  },
  {
   "cell_type": "code",
   "execution_count": 35,
   "id": "e3f8a4bc-470c-49fe-a7b8-41b1be7eb255",
   "metadata": {
    "tags": []
   },
   "outputs": [
    {
     "data": {
      "application/vnd.jupyter.widget-view+json": {
       "model_id": "1bf55d7d6bee4ff19133471e812de653",
       "version_major": 2,
       "version_minor": 0
      },
      "text/plain": [
       "Downloading data files:   0%|          | 0/1 [00:00<?, ?it/s]"
      ]
     },
     "metadata": {},
     "output_type": "display_data"
    },
    {
     "data": {
      "application/vnd.jupyter.widget-view+json": {
       "model_id": "373db05da5e349b9a4d7f229c0844c6e",
       "version_major": 2,
       "version_minor": 0
      },
      "text/plain": [
       "Extracting data files:   0%|          | 0/1 [00:00<?, ?it/s]"
      ]
     },
     "metadata": {},
     "output_type": "display_data"
    },
    {
     "data": {
      "application/vnd.jupyter.widget-view+json": {
       "model_id": "fdc64db9558a4d91886932a85bb5382e",
       "version_major": 2,
       "version_minor": 0
      },
      "text/plain": [
       "Generating train split: 0 examples [00:00, ? examples/s]"
      ]
     },
     "metadata": {},
     "output_type": "display_data"
    },
    {
     "data": {
      "application/vnd.jupyter.widget-view+json": {
       "model_id": "c64173c2745f4c559189a2b3e8d32408",
       "version_major": 2,
       "version_minor": 0
      },
      "text/plain": [
       "Map:   0%|          | 0/124 [00:00<?, ? examples/s]"
      ]
     },
     "metadata": {},
     "output_type": "display_data"
    },
    {
     "data": {
      "text/plain": [
       "{'eval_loss': 0.7522148489952087,\n",
       " 'eval_accuracy': {'accuracy': 0.45161290322580644},\n",
       " 'eval_balanced_accuracy': {'balanced_accuracy': 0.4842436974789916},\n",
       " 'eval_f1': {'f1': 0.575},\n",
       " 'eval_auc': {'roc_auc': 0.4477415966386555},\n",
       " 'eval_precision': {'precision': 0.4423076923076923},\n",
       " 'eval_recall': {'recall': 0.8214285714285714},\n",
       " 'eval_runtime': 1.246,\n",
       " 'eval_samples_per_second': 99.516,\n",
       " 'eval_steps_per_second': 6.42,\n",
       " 'epoch': 8.0}"
      ]
     },
     "execution_count": 35,
     "metadata": {},
     "output_type": "execute_result"
    }
   ],
   "source": [
    "llema = load_dataset('csv', data_files=\"data/llema_appropriateness.csv\")\n",
    "tokenized_llema = llema.map(preprocess_function, batched=True)\n",
    "trainer.evaluate(eval_dataset = tokenized_llema['train'])"
   ]
  },
  {
   "cell_type": "code",
   "execution_count": 36,
   "id": "70de1667-62c0-488c-84c6-d4242c3fcb91",
   "metadata": {
    "tags": []
   },
   "outputs": [
    {
     "data": {
      "application/vnd.jupyter.widget-view+json": {
       "model_id": "605f4fa47e0b40b2bf239455647d2f09",
       "version_major": 2,
       "version_minor": 0
      },
      "text/plain": [
       "Downloading data files:   0%|          | 0/1 [00:00<?, ?it/s]"
      ]
     },
     "metadata": {},
     "output_type": "display_data"
    },
    {
     "data": {
      "application/vnd.jupyter.widget-view+json": {
       "model_id": "3f3cc7bdff4d466db7c1b68741732b99",
       "version_major": 2,
       "version_minor": 0
      },
      "text/plain": [
       "Extracting data files:   0%|          | 0/1 [00:00<?, ?it/s]"
      ]
     },
     "metadata": {},
     "output_type": "display_data"
    },
    {
     "data": {
      "application/vnd.jupyter.widget-view+json": {
       "model_id": "a4ba939162df420c98f468efdc5463f6",
       "version_major": 2,
       "version_minor": 0
      },
      "text/plain": [
       "Generating train split: 0 examples [00:00, ? examples/s]"
      ]
     },
     "metadata": {},
     "output_type": "display_data"
    },
    {
     "data": {
      "application/vnd.jupyter.widget-view+json": {
       "model_id": "708fb681772c42a5a27bade519a624fe",
       "version_major": 2,
       "version_minor": 0
      },
      "text/plain": [
       "Map:   0%|          | 0/218 [00:00<?, ? examples/s]"
      ]
     },
     "metadata": {},
     "output_type": "display_data"
    },
    {
     "data": {
      "text/plain": [
       "{'eval_loss': 0.7383445501327515,\n",
       " 'eval_accuracy': {'accuracy': 0.6651376146788991},\n",
       " 'eval_balanced_accuracy': {'balanced_accuracy': 0.5077608508192009},\n",
       " 'eval_f1': {'f1': 0.7943661971830986},\n",
       " 'eval_auc': {'roc_auc': 0.5313787486825716},\n",
       " 'eval_precision': {'precision': 0.6778846153846154},\n",
       " 'eval_recall': {'recall': 0.9591836734693877},\n",
       " 'eval_runtime': 1.4669,\n",
       " 'eval_samples_per_second': 148.612,\n",
       " 'eval_steps_per_second': 9.544,\n",
       " 'epoch': 8.0}"
      ]
     },
     "execution_count": 36,
     "metadata": {},
     "output_type": "execute_result"
    }
   ],
   "source": [
    "mammoth = load_dataset('csv', data_files=\"data/mammoth_appropriateness.csv\")\n",
    "tokenized_mammoth = mammoth.map(preprocess_function, batched=True)\n",
    "trainer.evaluate(eval_dataset = tokenized_mammoth['train'])"
   ]
  },
  {
   "cell_type": "code",
   "execution_count": 37,
   "id": "51db8da9-fc1d-44cd-8d1b-54d6fc61e68d",
   "metadata": {
    "tags": []
   },
   "outputs": [
    {
     "data": {
      "application/vnd.jupyter.widget-view+json": {
       "model_id": "577109201f7b424290c361d22b5eff62",
       "version_major": 2,
       "version_minor": 0
      },
      "text/plain": [
       "Downloading data files:   0%|          | 0/1 [00:00<?, ?it/s]"
      ]
     },
     "metadata": {},
     "output_type": "display_data"
    },
    {
     "data": {
      "application/vnd.jupyter.widget-view+json": {
       "model_id": "97934d8fda3145b49491568454b36401",
       "version_major": 2,
       "version_minor": 0
      },
      "text/plain": [
       "Extracting data files:   0%|          | 0/1 [00:00<?, ?it/s]"
      ]
     },
     "metadata": {},
     "output_type": "display_data"
    },
    {
     "data": {
      "application/vnd.jupyter.widget-view+json": {
       "model_id": "1677342442b84611b7be6963c203c512",
       "version_major": 2,
       "version_minor": 0
      },
      "text/plain": [
       "Generating train split: 0 examples [00:00, ? examples/s]"
      ]
     },
     "metadata": {},
     "output_type": "display_data"
    },
    {
     "data": {
      "application/vnd.jupyter.widget-view+json": {
       "model_id": "24472e5fdc4748edafd846df20bab8b2",
       "version_major": 2,
       "version_minor": 0
      },
      "text/plain": [
       "Map:   0%|          | 0/223 [00:00<?, ? examples/s]"
      ]
     },
     "metadata": {},
     "output_type": "display_data"
    },
    {
     "data": {
      "text/plain": [
       "{'eval_loss': 0.6277484893798828,\n",
       " 'eval_accuracy': {'accuracy': 0.852017937219731},\n",
       " 'eval_balanced_accuracy': {'balanced_accuracy': 0.6124338624338624},\n",
       " 'eval_f1': {'f1': 0.9168765743073048},\n",
       " 'eval_auc': {'roc_auc': 0.674225245653817},\n",
       " 'eval_precision': {'precision': 0.9054726368159204},\n",
       " 'eval_recall': {'recall': 0.9285714285714286},\n",
       " 'eval_runtime': 1.57,\n",
       " 'eval_samples_per_second': 142.041,\n",
       " 'eval_steps_per_second': 8.917,\n",
       " 'epoch': 8.0}"
      ]
     },
     "execution_count": 37,
     "metadata": {},
     "output_type": "execute_result"
    }
   ],
   "source": [
    "mathwell = load_dataset('csv', data_files=\"data/mathwell_appropriateness.csv\")\n",
    "tokenized_mathwell = mathwell.map(preprocess_function, batched=True)\n",
    "trainer.evaluate(eval_dataset = tokenized_mathwell['train'])"
   ]
  },
  {
   "cell_type": "code",
   "execution_count": 18,
   "id": "9ac40d49-42e6-4c69-8e0c-e7834e6a265a",
   "metadata": {
    "tags": []
   },
   "outputs": [
    {
     "data": {
      "text/plain": [
       "PredictionOutput(predictions=array([[ 0.01265527,  0.26840028],\n",
       "       [ 0.01784369,  0.2681898 ],\n",
       "       [ 0.01990037,  0.2682471 ],\n",
       "       [ 0.07549401, -0.01162307],\n",
       "       [ 0.02191722,  0.27593637],\n",
       "       [ 0.01073697,  0.2662236 ],\n",
       "       [ 0.01795776,  0.26869363],\n",
       "       [ 0.01942494,  0.27136   ],\n",
       "       [ 0.01953371,  0.26950413],\n",
       "       [ 0.01973491,  0.2726375 ],\n",
       "       [ 0.01492538,  0.26843745],\n",
       "       [ 0.03497325,  0.26706448],\n",
       "       [ 0.02576424,  0.27442026],\n",
       "       [ 0.02102856,  0.27209538],\n",
       "       [ 0.02315938,  0.27173033],\n",
       "       [ 0.02622212,  0.27267003],\n",
       "       [ 0.02574735,  0.27397898],\n",
       "       [ 0.02661827,  0.26189482],\n",
       "       [ 0.02601069,  0.27296177],\n",
       "       [ 0.01875574,  0.26940358],\n",
       "       [ 0.02159994,  0.2710167 ],\n",
       "       [ 0.02863638,  0.2728095 ],\n",
       "       [ 0.01718465,  0.26865175],\n",
       "       [ 0.02243502,  0.2735988 ],\n",
       "       [ 0.01923499,  0.27042824],\n",
       "       [ 0.01306316,  0.26654005],\n",
       "       [ 0.03322511,  0.26591364],\n",
       "       [ 0.02015051,  0.26964036],\n",
       "       [ 1.1785759 , -0.89676505],\n",
       "       [ 1.2734972 , -0.9351289 ],\n",
       "       [-0.01679782,  0.14986242],\n",
       "       [ 0.02179437,  0.27189496],\n",
       "       [ 0.01941195,  0.2688677 ],\n",
       "       [ 0.0286456 ,  0.27083832],\n",
       "       [ 0.02477384,  0.27285454],\n",
       "       [ 0.04133785,  0.27952895],\n",
       "       [ 0.02269223,  0.27061307],\n",
       "       [ 0.02471147,  0.2605676 ],\n",
       "       [ 0.02028147,  0.2706083 ],\n",
       "       [ 0.01873676,  0.26875353],\n",
       "       [ 0.02076352,  0.2714081 ],\n",
       "       [ 0.02568594,  0.27308616],\n",
       "       [ 0.01456479,  0.2677346 ],\n",
       "       [ 0.02430462,  0.274606  ],\n",
       "       [ 0.02536342,  0.27545407],\n",
       "       [ 0.02166219,  0.25349993],\n",
       "       [ 0.01579322,  0.27025503],\n",
       "       [ 0.5514148 , -0.47120854],\n",
       "       [ 0.01713687,  0.26888877],\n",
       "       [ 0.01991691,  0.2714293 ],\n",
       "       [ 0.02162079,  0.27169526],\n",
       "       [ 0.02373388,  0.2724254 ],\n",
       "       [-0.09999263,  0.3732344 ],\n",
       "       [ 0.41378292, -0.36710915],\n",
       "       [ 0.02060281,  0.27256638],\n",
       "       [ 0.02190752,  0.27059343],\n",
       "       [ 0.02323617,  0.27222058],\n",
       "       [-0.11815056,  0.4279333 ],\n",
       "       [ 0.01277479,  0.2665811 ],\n",
       "       [ 0.05468241,  0.2713241 ],\n",
       "       [ 0.0103868 ,  0.26525486],\n",
       "       [ 0.01593236,  0.26897392],\n",
       "       [-0.00852412,  0.20647535],\n",
       "       [ 0.02305244,  0.27007306],\n",
       "       [ 0.01767316,  0.26959568],\n",
       "       [ 0.02475904,  0.27383974],\n",
       "       [ 0.02038315,  0.2762853 ],\n",
       "       [ 0.01564299,  0.26603496],\n",
       "       [ 0.02306339,  0.2722115 ],\n",
       "       [ 0.01587601,  0.2693581 ],\n",
       "       [ 0.02239359,  0.2733083 ],\n",
       "       [ 0.02067157,  0.27176774],\n",
       "       [ 0.01430535,  0.2696881 ],\n",
       "       [ 1.1429948 , -0.8687591 ],\n",
       "       [ 0.02380327,  0.27199894],\n",
       "       [ 0.01956305,  0.2706089 ],\n",
       "       [ 0.0219559 ,  0.25969434],\n",
       "       [ 0.02248788,  0.27178735],\n",
       "       [ 0.02508935,  0.27201918],\n",
       "       [ 0.01480182,  0.27328074],\n",
       "       [ 0.01568024,  0.26742864],\n",
       "       [-0.22091915,  0.4607407 ],\n",
       "       [ 0.01719325,  0.26939648],\n",
       "       [ 0.02150434,  0.27154893],\n",
       "       [ 0.02586544,  0.2730985 ],\n",
       "       [ 0.01799493,  0.2684671 ],\n",
       "       [ 0.01897274,  0.26935345],\n",
       "       [ 0.01909189,  0.2722377 ],\n",
       "       [ 0.92955035, -0.74607825],\n",
       "       [ 0.02600646,  0.26267925],\n",
       "       [ 0.02081922,  0.2712796 ],\n",
       "       [ 0.02410683,  0.27366444],\n",
       "       [ 0.02387653,  0.27271056],\n",
       "       [ 0.02642843,  0.27319685],\n",
       "       [ 0.02287096,  0.27244943],\n",
       "       [ 0.02073414,  0.27207938],\n",
       "       [ 0.01913399,  0.27130544],\n",
       "       [ 0.02342151,  0.27176505],\n",
       "       [ 0.02295884,  0.27231207],\n",
       "       [ 0.01583433,  0.26763925],\n",
       "       [ 0.02229227,  0.2719596 ],\n",
       "       [ 0.02148062,  0.2724172 ],\n",
       "       [ 0.01825952,  0.2678915 ],\n",
       "       [ 0.01506274,  0.26820174],\n",
       "       [-0.29525855,  0.32786745],\n",
       "       [ 0.02616115,  0.2741771 ],\n",
       "       [ 0.01998285,  0.27139264],\n",
       "       [ 0.00988285,  0.26623026],\n",
       "       [ 0.013393  ,  0.26928806],\n",
       "       [ 0.02437111,  0.26604128],\n",
       "       [ 0.02924178,  0.27222002],\n",
       "       [ 1.1691867 , -0.88487905],\n",
       "       [ 0.01569694,  0.26279277],\n",
       "       [ 0.02382059,  0.27278337],\n",
       "       [ 0.02041591,  0.27213323],\n",
       "       [ 0.0245681 ,  0.27328205],\n",
       "       [ 0.03412638,  0.2595513 ],\n",
       "       [ 0.01593556,  0.2666649 ],\n",
       "       [ 1.2118499 , -0.91369647],\n",
       "       [ 0.01927321,  0.26842314],\n",
       "       [ 0.0205638 ,  0.2719965 ],\n",
       "       [ 0.02104907,  0.27066985],\n",
       "       [ 0.02556356,  0.27331886],\n",
       "       [ 0.02431434,  0.27269772],\n",
       "       [ 0.22501723, -0.22830981],\n",
       "       [ 0.02314046,  0.27155152],\n",
       "       [ 0.02437984,  0.2728557 ],\n",
       "       [ 0.01595028,  0.2699749 ],\n",
       "       [ 0.01755771,  0.27008724],\n",
       "       [ 0.02297732,  0.27263317],\n",
       "       [ 0.01829491,  0.263345  ],\n",
       "       [ 0.0201915 ,  0.27101213],\n",
       "       [ 0.0216229 ,  0.2630202 ],\n",
       "       [ 0.01737204,  0.2697851 ],\n",
       "       [ 0.02058704,  0.26961556],\n",
       "       [ 0.02226786,  0.27074477],\n",
       "       [ 0.03607727,  0.26085708],\n",
       "       [ 0.01673532,  0.26723942],\n",
       "       [ 0.01833432,  0.2701611 ],\n",
       "       [ 0.02634317,  0.26949376],\n",
       "       [ 0.01847367,  0.27089787],\n",
       "       [ 0.02087631,  0.27142987],\n",
       "       [ 0.01914721,  0.2610877 ],\n",
       "       [ 0.01709506,  0.2663436 ],\n",
       "       [ 0.02087918,  0.27125287],\n",
       "       [ 0.01745156,  0.27051103],\n",
       "       [ 0.026367  ,  0.26930162],\n",
       "       [ 0.02256053,  0.27310005],\n",
       "       [ 0.0246015 ,  0.2743997 ],\n",
       "       [ 0.04227238,  0.27487093],\n",
       "       [ 0.00941384,  0.3086586 ],\n",
       "       [ 0.9249004 , -0.71772325],\n",
       "       [ 0.01761891,  0.27200383],\n",
       "       [ 0.01297511,  0.26871678],\n",
       "       [ 0.02439447,  0.27347556],\n",
       "       [ 0.0219871 ,  0.27193278],\n",
       "       [ 0.02276718,  0.27262238],\n",
       "       [ 0.02082061,  0.2704431 ],\n",
       "       [ 0.04783816,  0.2673855 ],\n",
       "       [ 0.03219122,  0.2685708 ],\n",
       "       [ 0.66790414, -0.5746413 ],\n",
       "       [ 0.02324779,  0.27231053],\n",
       "       [ 0.01264493,  0.26945308],\n",
       "       [ 0.0222981 ,  0.2719994 ],\n",
       "       [ 0.02271073,  0.2622345 ],\n",
       "       [ 0.01836799,  0.2687555 ],\n",
       "       [ 1.1682924 , -0.8752894 ],\n",
       "       [ 0.02302173,  0.272255  ],\n",
       "       [-0.01311347,  0.34602544],\n",
       "       [ 0.02140912,  0.27196068],\n",
       "       [ 0.02824846,  0.27216232],\n",
       "       [ 0.01981073,  0.27223462],\n",
       "       [ 0.0503841 ,  0.2736431 ],\n",
       "       [ 0.01933098,  0.27356297],\n",
       "       [ 0.02463069,  0.27330458],\n",
       "       [ 0.02440001,  0.27392334],\n",
       "       [ 0.02591599,  0.27285042],\n",
       "       [ 0.02480641,  0.27011397],\n",
       "       [ 0.01896212,  0.27189663],\n",
       "       [ 0.02292115,  0.27095065],\n",
       "       [ 0.02272387,  0.2723965 ],\n",
       "       [ 0.01743153,  0.27178884],\n",
       "       [ 0.01195001,  0.26784182],\n",
       "       [ 0.01647536,  0.26862738],\n",
       "       [-0.05684446,  0.16072975],\n",
       "       [ 0.02423405,  0.27134028],\n",
       "       [ 0.02059506,  0.27144837],\n",
       "       [ 0.02600076,  0.2753453 ],\n",
       "       [ 0.02082303,  0.27131894],\n",
       "       [ 1.1075033 , -0.8345734 ],\n",
       "       [ 0.02015392,  0.272031  ],\n",
       "       [ 0.01622452,  0.26920462],\n",
       "       [ 0.01715192,  0.26628417],\n",
       "       [ 1.1602972 , -0.8739894 ],\n",
       "       [ 0.01918531,  0.2666569 ],\n",
       "       [ 0.49002102, -0.44295493],\n",
       "       [ 0.01610138,  0.2689984 ],\n",
       "       [ 0.03631549,  0.27868676],\n",
       "       [ 0.01968815,  0.26546407],\n",
       "       [ 0.01639725,  0.26844656],\n",
       "       [ 0.02133543,  0.27153116],\n",
       "       [ 0.01673837,  0.26601407],\n",
       "       [ 0.02121339,  0.26648223],\n",
       "       [ 0.01333022,  0.2685279 ],\n",
       "       [ 0.0244588 ,  0.27358595],\n",
       "       [ 0.024658  ,  0.2728269 ],\n",
       "       [ 0.01459442,  0.26627645],\n",
       "       [-0.01769345,  0.31174636],\n",
       "       [ 0.02553674,  0.27027375],\n",
       "       [ 0.02237363,  0.26950103],\n",
       "       [ 0.03710407,  0.27554536],\n",
       "       [ 0.0237217 ,  0.2725894 ],\n",
       "       [ 0.01884952,  0.27073482],\n",
       "       [ 0.01914296,  0.2650423 ],\n",
       "       [ 0.01946588,  0.26918355],\n",
       "       [ 1.2389635 , -0.9238634 ],\n",
       "       [ 0.02815051,  0.28284138],\n",
       "       [ 0.02724463,  0.27265325],\n",
       "       [ 0.0181817 ,  0.27072874],\n",
       "       [ 0.02188729,  0.27001372],\n",
       "       [ 0.02548408,  0.254676  ],\n",
       "       [ 0.01582254,  0.26844123],\n",
       "       [ 0.019122  ,  0.27160144],\n",
       "       [ 0.0162412 ,  0.270744  ],\n",
       "       [ 0.0239167 ,  0.2608007 ],\n",
       "       [ 0.02165173,  0.28981242],\n",
       "       [ 0.01981981,  0.26106778],\n",
       "       [ 0.02327884,  0.27294427],\n",
       "       [ 0.01890125,  0.26868108],\n",
       "       [ 0.01651573,  0.26696494],\n",
       "       [ 0.02402938,  0.27285925],\n",
       "       [ 0.0161579 ,  0.2671129 ],\n",
       "       [ 0.02306811,  0.27254462],\n",
       "       [ 0.02765528,  0.24639295],\n",
       "       [ 0.7352991 , -0.6126682 ],\n",
       "       [ 0.4455357 , -0.34072152],\n",
       "       [ 0.02685244,  0.2595702 ],\n",
       "       [ 0.01774541,  0.26946172],\n",
       "       [ 0.03161364,  0.27661988],\n",
       "       [ 0.01011578,  0.26594114],\n",
       "       [ 0.1806163 , -0.01446528],\n",
       "       [ 0.24342774, -0.20736498],\n",
       "       [ 0.9308583 , -0.7533952 ],\n",
       "       [ 0.0260777 ,  0.2730954 ],\n",
       "       [ 0.01636784,  0.26917335],\n",
       "       [ 0.01636177,  0.27078754],\n",
       "       [ 0.01968378,  0.27028933],\n",
       "       [ 1.1405615 , -0.8656782 ],\n",
       "       [ 0.02420099,  0.27270585],\n",
       "       [ 0.020078  ,  0.27275708],\n",
       "       [ 0.0211897 ,  0.2700023 ],\n",
       "       [ 0.02141595,  0.26506013],\n",
       "       [ 0.02529065,  0.2735409 ],\n",
       "       [ 0.0294079 ,  0.27164125],\n",
       "       [ 1.2012829 , -0.908805  ],\n",
       "       [ 0.01983018,  0.27270472],\n",
       "       [ 1.2124625 , -0.90401405],\n",
       "       [ 0.0135495 ,  0.26921934],\n",
       "       [ 0.03120178,  0.27876344],\n",
       "       [ 0.01750364,  0.26974684],\n",
       "       [ 0.02503127,  0.26195517],\n",
       "       [ 0.02265147,  0.27252033],\n",
       "       [ 0.02215188,  0.271859  ],\n",
       "       [ 0.01560302,  0.26861173],\n",
       "       [ 0.01880998,  0.27096662],\n",
       "       [ 0.01557552,  0.2661254 ]], dtype=float32), label_ids=array([1, 1, 0, 1, 1, 1, 1, 1, 1, 1, 1, 1, 1, 1, 1, 1, 1, 1, 1, 1, 1, 0,\n",
       "       1, 1, 1, 1, 1, 1, 0, 1, 1, 1, 0, 1, 1, 1, 1, 1, 1, 1, 0, 1, 0, 0,\n",
       "       1, 1, 1, 0, 1, 1, 1, 1, 0, 1, 1, 1, 1, 1, 1, 0, 0, 0, 1, 1, 0, 1,\n",
       "       0, 1, 1, 1, 1, 1, 1, 0, 0, 1, 1, 1, 1, 1, 1, 1, 1, 1, 1, 1, 1, 1,\n",
       "       1, 1, 1, 1, 0, 1, 1, 1, 1, 1, 1, 1, 1, 1, 1, 1, 1, 1, 1, 1, 1, 1,\n",
       "       1, 0, 0, 0, 1, 1, 1, 1, 0, 1, 1, 1, 1, 1, 1, 1, 1, 1, 1, 1, 1, 1,\n",
       "       1, 1, 1, 1, 1, 0, 1, 1, 1, 1, 0, 1, 1, 1, 0, 0, 1, 1, 1, 0, 0, 1,\n",
       "       1, 1, 1, 1, 1, 1, 1, 1, 0, 1, 1, 1, 0, 1, 1, 1, 0, 1, 1, 0, 1, 1,\n",
       "       0, 0, 1, 1, 1, 1, 0, 0, 1, 1, 1, 1, 1, 0, 1, 1, 1, 0, 1, 1, 1, 1,\n",
       "       1, 1, 1, 1, 1, 1, 1, 1, 1, 1, 1, 1, 1, 1, 1, 1, 1, 0, 1, 1, 1, 1,\n",
       "       1, 1, 1, 1, 1, 1, 0, 1, 1, 1, 1, 1, 1, 0, 1, 0, 1, 1, 1, 1, 0, 0,\n",
       "       1, 1, 1, 0, 1, 0, 0, 1, 1, 0, 1, 1, 1, 1, 1, 1, 1, 1, 1, 1, 0, 1,\n",
       "       0, 1]), metrics={'test_loss': 0.6311874389648438, 'test_accuracy': {'accuracy': 0.8270676691729323}, 'test_balanced_accuracy': {'balanced_accuracy': 0.6175115207373272}, 'test_f1': {'f1': 0.8995633187772925}, 'test_auc': {'roc_auc': 0.6142198815009876}, 'test_precision': {'precision': 0.8547717842323651}, 'test_recall': {'recall': 0.9493087557603687}, 'test_runtime': 1.6505, 'test_samples_per_second': 161.168, 'test_steps_per_second': 10.3})"
      ]
     },
     "execution_count": 18,
     "metadata": {},
     "output_type": "execute_result"
    }
   ],
   "source": [
    "predictions = trainer.predict(test_dataset = tokenized_train_test_valid_dataset[\"test\"])\n",
    "predictions"
   ]
  },
  {
   "cell_type": "code",
   "execution_count": 21,
   "id": "296aebee-6b9a-47e9-8f82-26733bdde864",
   "metadata": {
    "tags": []
   },
   "outputs": [
    {
     "data": {
      "text/plain": [
       "(0.5280898876404494, 0.7989690721649485)"
      ]
     },
     "execution_count": 21,
     "metadata": {},
     "output_type": "execute_result"
    }
   ],
   "source": [
    "import torch\n",
    "import torch.nn.functional as F\n",
    "def compute_fp_tp(predictions):\n",
    "    fp = 0\n",
    "    tn = 0\n",
    "    tp = 0\n",
    "    fn = 0\n",
    "    y_scores = predictions[0]\n",
    "    y_scores = torch.tensor(y_scores)\n",
    "    y_scores = F.softmax(y_scores, dim=1).numpy()\n",
    "    y_scores= np.argmax(y_scores, axis=1)\n",
    "    y_true = predictions[1]\n",
    "    for i in range(0, len(y_scores)):\n",
    "        if y_scores[i] == 1 and y_true[i] == 0:\n",
    "            fp+=1\n",
    "        if y_scores[i] == 0 and y_true[i] == 0:\n",
    "            tn+=1\n",
    "        if y_scores[i] == 1 and y_true[i] == 1:\n",
    "            tp+=1\n",
    "        if y_scores[i] == 0 and y_true[i] == 1:\n",
    "            fn+=1\n",
    "    tpr = (tp)/(tp+fn)\n",
    "    fpr = (fp)/(fp+tn)\n",
    "    return (fpr, tpr)\n",
    "compute_fp_tp(predictions)\n",
    "#want fpr (false positive rate) to be small and tpr (true positive rate) to be big)\n",
    "#originally fpr was at .649"
   ]
  },
  {
   "cell_type": "code",
   "execution_count": 22,
   "id": "5a6752d7-080a-4c0e-9f02-49e008843b0b",
   "metadata": {
    "tags": []
   },
   "outputs": [
    {
     "data": {
      "image/png": "[encoded data removed]",
      "text/plain": [
       "<Figure size 800x800 with 1 Axes>"
      ]
     },
     "metadata": {},
     "output_type": "display_data"
    }
   ],
   "source": [
    "from sklearn.metrics import roc_curve, auc\n",
    "import matplotlib.pyplot as plt\n",
    "import torch\n",
    "import torch.nn.functional as F\n",
    "y_scores = predictions[0]\n",
    "y_scores = torch.tensor(y_scores)\n",
    "y_scores = F.softmax(y_scores, dim=1).numpy()\n",
    "y_scores = y_scores[:, 1]\n",
    "y_true = predictions[1]\n",
    "\n",
    "# Assuming y_true contains true labels (0 or 1) and y_scores contains predicted probabilities\n",
    "fpr, tpr, thresholds = roc_curve(y_true, y_scores)\n",
    "roc_auc = auc(fpr, tpr)\n",
    "\n",
    "# Plot ROC curve\n",
    "plt.figure(figsize=(8, 8))\n",
    "plt.plot(fpr, tpr, color='darkorange', lw=2, label=f'ROC curve (AUC = {roc_auc:.2f})')\n",
    "plt.plot([0, 1], [0, 1], color='navy', lw=2, linestyle='--')\n",
    "plt.xlabel('False Positive Rate')\n",
    "plt.ylabel('True Positive Rate')\n",
    "plt.title('Receiver Operating Characteristic (ROC) Curve')\n",
    "plt.legend(loc='lower right')\n",
    "plt.show()"
   ]
  },
  {
   "cell_type": "markdown",
   "id": "103a8cbd-220e-4173-ae80-b4240e4b798e",
   "metadata": {},
   "source": [
    "## Solvability Classifier"
   ]
  },
  {
   "cell_type": "code",
   "execution_count": 38,
   "id": "06d5157a-0d31-4133-9092-11d4f4244e5b",
   "metadata": {
    "tags": []
   },
   "outputs": [
    {
     "data": {
      "text/html": [
       "<div>\n",
       "<style scoped>\n",
       "    .dataframe tbody tr th:only-of-type {\n",
       "        vertical-align: middle;\n",
       "    }\n",
       "\n",
       "    .dataframe tbody tr th {\n",
       "        vertical-align: top;\n",
       "    }\n",
       "\n",
       "    .dataframe thead th {\n",
       "        text-align: right;\n",
       "    }\n",
       "</style>\n",
       "<table border=\"1\" class=\"dataframe\">\n",
       "  <thead>\n",
       "    <tr style=\"text-align: right;\">\n",
       "      <th></th>\n",
       "      <th>label</th>\n",
       "      <th>text</th>\n",
       "    </tr>\n",
       "  </thead>\n",
       "  <tbody>\n",
       "    <tr>\n",
       "      <th>0</th>\n",
       "      <td>1</td>\n",
       "      <td>LeBron James has 30000 points. He has 1000 mor...</td>\n",
       "    </tr>\n",
       "    <tr>\n",
       "      <th>1</th>\n",
       "      <td>1</td>\n",
       "      <td>A class has 120 students. 40 of them are in th...</td>\n",
       "    </tr>\n",
       "    <tr>\n",
       "      <th>2</th>\n",
       "      <td>0</td>\n",
       "      <td>A 3-pound cake of butter is 90% fat. 3.5 ounce...</td>\n",
       "    </tr>\n",
       "    <tr>\n",
       "      <th>3</th>\n",
       "      <td>0</td>\n",
       "      <td>A train is 1500 feet long. 200 of its cars are...</td>\n",
       "    </tr>\n",
       "    <tr>\n",
       "      <th>4</th>\n",
       "      <td>1</td>\n",
       "      <td>Naruto has 5000 ryo. He spends 1000 ryo on a n...</td>\n",
       "    </tr>\n",
       "    <tr>\n",
       "      <th>...</th>\n",
       "      <td>...</td>\n",
       "      <td>...</td>\n",
       "    </tr>\n",
       "    <tr>\n",
       "      <th>3228</th>\n",
       "      <td>1</td>\n",
       "      <td>A field hockey game has 11 players per team. T...</td>\n",
       "    </tr>\n",
       "    <tr>\n",
       "      <th>3229</th>\n",
       "      <td>1</td>\n",
       "      <td>100 turtles are at the pond. 10 turtles are ea...</td>\n",
       "    </tr>\n",
       "    <tr>\n",
       "      <th>3230</th>\n",
       "      <td>0</td>\n",
       "      <td>Barbie has 1200 Instagram followers. 200 more ...</td>\n",
       "    </tr>\n",
       "    <tr>\n",
       "      <th>3231</th>\n",
       "      <td>1</td>\n",
       "      <td>1234567890 is a 10-digit number. \\nHow many 3-...</td>\n",
       "    </tr>\n",
       "    <tr>\n",
       "      <th>3232</th>\n",
       "      <td>0</td>\n",
       "      <td>7 cats and 23 dogs are in a cage. 14 of the an...</td>\n",
       "    </tr>\n",
       "  </tbody>\n",
       "</table>\n",
       "<p>3233 rows × 2 columns</p>\n",
       "</div>"
      ],
      "text/plain": [
       "      label                                               text\n",
       "0         1  LeBron James has 30000 points. He has 1000 mor...\n",
       "1         1  A class has 120 students. 40 of them are in th...\n",
       "2         0  A 3-pound cake of butter is 90% fat. 3.5 ounce...\n",
       "3         0  A train is 1500 feet long. 200 of its cars are...\n",
       "4         1  Naruto has 5000 ryo. He spends 1000 ryo on a n...\n",
       "...     ...                                                ...\n",
       "3228      1  A field hockey game has 11 players per team. T...\n",
       "3229      1  100 turtles are at the pond. 10 turtles are ea...\n",
       "3230      0  Barbie has 1200 Instagram followers. 200 more ...\n",
       "3231      1  1234567890 is a 10-digit number. \\nHow many 3-...\n",
       "3232      0  7 cats and 23 dogs are in a cage. 14 of the an...\n",
       "\n",
       "[3233 rows x 2 columns]"
      ]
     },
     "execution_count": 38,
     "metadata": {},
     "output_type": "execute_result"
    }
   ],
   "source": [
    "df = pd.read_csv('data/solvability.csv')\n",
    "df['label'] = df['label'].astype('int')\n",
    "df = df.drop('Unnamed: 0', axis =1)\n",
    "df = df[df['text'].notnull()]\n",
    "neg_weight = df['label'].mean()\n",
    "pos_weight = 1 - neg_weight\n",
    "df.to_csv('data/solvability.csv')\n",
    "df"
   ]
  },
  {
   "cell_type": "code",
   "execution_count": 124,
   "id": "07f390cc-1c07-47ab-8dc0-4279db01f08e",
   "metadata": {
    "tags": []
   },
   "outputs": [
    {
     "data": {
      "text/html": [
       "<div>\n",
       "<style scoped>\n",
       "    .dataframe tbody tr th:only-of-type {\n",
       "        vertical-align: middle;\n",
       "    }\n",
       "\n",
       "    .dataframe tbody tr th {\n",
       "        vertical-align: top;\n",
       "    }\n",
       "\n",
       "    .dataframe thead th {\n",
       "        text-align: right;\n",
       "    }\n",
       "</style>\n",
       "<table border=\"1\" class=\"dataframe\">\n",
       "  <thead>\n",
       "    <tr style=\"text-align: right;\">\n",
       "      <th></th>\n",
       "      <th>Unnamed: 0</th>\n",
       "      <th>label</th>\n",
       "      <th>text</th>\n",
       "    </tr>\n",
       "  </thead>\n",
       "  <tbody>\n",
       "    <tr>\n",
       "      <th>0</th>\n",
       "      <td>2190</td>\n",
       "      <td>0</td>\n",
       "      <td>Question: Captain America has 120 throwing sta...</td>\n",
       "    </tr>\n",
       "    <tr>\n",
       "      <th>1</th>\n",
       "      <td>17</td>\n",
       "      <td>1</td>\n",
       "      <td>Question: Harry, Ron, and Hermione are in the ...</td>\n",
       "    </tr>\n",
       "    <tr>\n",
       "      <th>2</th>\n",
       "      <td>694</td>\n",
       "      <td>1</td>\n",
       "      <td>Question: Captain Marvel, a.k.a. Carol Danvers...</td>\n",
       "    </tr>\n",
       "    <tr>\n",
       "      <th>3</th>\n",
       "      <td>1758</td>\n",
       "      <td>0</td>\n",
       "      <td>Question: Steph Curry, the 2-time MVP, has 100...</td>\n",
       "    </tr>\n",
       "    <tr>\n",
       "      <th>4</th>\n",
       "      <td>2533</td>\n",
       "      <td>1</td>\n",
       "      <td>Question: In a bakery, the baker bakes 200 bun...</td>\n",
       "    </tr>\n",
       "    <tr>\n",
       "      <th>...</th>\n",
       "      <td>...</td>\n",
       "      <td>...</td>\n",
       "      <td>...</td>\n",
       "    </tr>\n",
       "    <tr>\n",
       "      <th>771</th>\n",
       "      <td>2442</td>\n",
       "      <td>1</td>\n",
       "      <td>Question: The 10-member cheerleading squad is ...</td>\n",
       "    </tr>\n",
       "    <tr>\n",
       "      <th>772</th>\n",
       "      <td>393</td>\n",
       "      <td>0</td>\n",
       "      <td>Question: 1000 players are in a Fortnite match...</td>\n",
       "    </tr>\n",
       "    <tr>\n",
       "      <th>773</th>\n",
       "      <td>2272</td>\n",
       "      <td>1</td>\n",
       "      <td>Question: In the first Harry Potter book, ther...</td>\n",
       "    </tr>\n",
       "    <tr>\n",
       "      <th>774</th>\n",
       "      <td>1029</td>\n",
       "      <td>1</td>\n",
       "      <td>Question: The 4 Ninja Turtles, Leonardo, Donat...</td>\n",
       "    </tr>\n",
       "    <tr>\n",
       "      <th>775</th>\n",
       "      <td>1385</td>\n",
       "      <td>0</td>\n",
       "      <td>Question: A pizza has 16 slices. 5 of the slic...</td>\n",
       "    </tr>\n",
       "  </tbody>\n",
       "</table>\n",
       "<p>776 rows × 3 columns</p>\n",
       "</div>"
      ],
      "text/plain": [
       "     Unnamed: 0  label                                               text\n",
       "0          2190      0  Question: Captain America has 120 throwing sta...\n",
       "1            17      1  Question: Harry, Ron, and Hermione are in the ...\n",
       "2           694      1  Question: Captain Marvel, a.k.a. Carol Danvers...\n",
       "3          1758      0  Question: Steph Curry, the 2-time MVP, has 100...\n",
       "4          2533      1  Question: In a bakery, the baker bakes 200 bun...\n",
       "..          ...    ...                                                ...\n",
       "771        2442      1  Question: The 10-member cheerleading squad is ...\n",
       "772         393      0  Question: 1000 players are in a Fortnite match...\n",
       "773        2272      1  Question: In the first Harry Potter book, ther...\n",
       "774        1029      1  Question: The 4 Ninja Turtles, Leonardo, Donat...\n",
       "775        1385      0  Question: A pizza has 16 slices. 5 of the slic...\n",
       "\n",
       "[776 rows x 3 columns]"
      ]
     },
     "execution_count": 124,
     "metadata": {},
     "output_type": "execute_result"
    }
   ],
   "source": [
    "df = pd.read_csv('data/solvability.csv')\n",
    "df['label'] = df['label'].astype('int')\n",
    "pos = df[df['label']==1]\n",
    "neg = df[df['label']==0]\n",
    "neg_len = len(neg)\n",
    "pos = pos.sample(n = neg_len, replace = False)\n",
    "df2 = pd.concat([pos, neg])\n",
    "df2 = df2.sample(frac=1)\n",
    "df2.reset_index(drop=True, inplace=True)\n",
    "df2 = df2[df2['text'].notnull()]\n",
    "df2.to_csv('data/solvability_balanced.csv')\n",
    "df2"
   ]
  },
  {
   "cell_type": "code",
   "execution_count": 39,
   "id": "d108a0ba-ea55-4b81-9409-1e4827331162",
   "metadata": {
    "tags": []
   },
   "outputs": [
    {
     "data": {
      "application/vnd.jupyter.widget-view+json": {
       "model_id": "33dfe7de7ee046809d0f83f610aa12e3",
       "version_major": 2,
       "version_minor": 0
      },
      "text/plain": [
       "Downloading data files:   0%|          | 0/1 [00:00<?, ?it/s]"
      ]
     },
     "metadata": {},
     "output_type": "display_data"
    },
    {
     "data": {
      "application/vnd.jupyter.widget-view+json": {
       "model_id": "3cb4845564254f3d91fb138b8cc37c2f",
       "version_major": 2,
       "version_minor": 0
      },
      "text/plain": [
       "Extracting data files:   0%|          | 0/1 [00:00<?, ?it/s]"
      ]
     },
     "metadata": {},
     "output_type": "display_data"
    },
    {
     "data": {
      "application/vnd.jupyter.widget-view+json": {
       "model_id": "11da3eb24a354f869183b5f3329aaf44",
       "version_major": 2,
       "version_minor": 0
      },
      "text/plain": [
       "Generating train split: 0 examples [00:00, ? examples/s]"
      ]
     },
     "metadata": {},
     "output_type": "display_data"
    }
   ],
   "source": [
    "# Load the dataset\n",
    "#dataset = load_dataset('csv', data_files=\"data/solvability_balanced.csv\")\n",
    "dataset = load_dataset('csv', data_files=\"data/solvability.csv\")\n",
    "\n",
    "# Get the total number of examples in the dataset\n",
    "# total_examples = len(dataset['train'])\n",
    "\n",
    "# # Calculate the sizes of the training, test, and validation sets\n",
    "# train_size = int(0.8 * total_examples)\n",
    "# test_size = int(0.1 * total_examples)\n",
    "# valid_size = total_examples - train_size - test_size\n",
    "\n",
    "# # Manually split the dataset into training, test, and validation sets\n",
    "# train_dataset = dataset['train'].shuffle(seed=42).select(range(train_size))\n",
    "# test_dataset = dataset['train'].shuffle(seed=42).select(range(train_size, train_size + test_size))\n",
    "# valid_dataset = dataset['train'].shuffle(seed=42).select(range(train_size + test_size, total_examples))\n",
    "\n",
    "dataset_train_valid_test = dataset['train'].train_test_split(test_size = .2, seed = 42)\n",
    "dataset_valid_test = dataset_train_valid_test['test'].train_test_split(test_size = .5, seed = 42)\n",
    "# Create a DatasetDict to hold the splits\n",
    "train_test_valid_dataset = DatasetDict({\n",
    "    'train': dataset_train_valid_test['train'],\n",
    "    'test': dataset_valid_test['train'],\n",
    "    'valid': dataset_valid_test['test']\n",
    "})"
   ]
  },
  {
   "cell_type": "code",
   "execution_count": 40,
   "id": "f43d5947-9ac6-4f4b-9fff-004105e4dfde",
   "metadata": {
    "tags": []
   },
   "outputs": [
    {
     "data": {
      "application/vnd.jupyter.widget-view+json": {
       "model_id": "936239e3720940b6a82750c6b1b854ce",
       "version_major": 2,
       "version_minor": 0
      },
      "text/plain": [
       "Map:   0%|          | 0/2586 [00:00<?, ? examples/s]"
      ]
     },
     "metadata": {},
     "output_type": "display_data"
    },
    {
     "data": {
      "application/vnd.jupyter.widget-view+json": {
       "model_id": "743342cda84547bf924b40194cad67a6",
       "version_major": 2,
       "version_minor": 0
      },
      "text/plain": [
       "Map:   0%|          | 0/323 [00:00<?, ? examples/s]"
      ]
     },
     "metadata": {},
     "output_type": "display_data"
    },
    {
     "data": {
      "application/vnd.jupyter.widget-view+json": {
       "model_id": "5bc07f17d32f40449d1d8e057be0514c",
       "version_major": 2,
       "version_minor": 0
      },
      "text/plain": [
       "Map:   0%|          | 0/324 [00:00<?, ? examples/s]"
      ]
     },
     "metadata": {},
     "output_type": "display_data"
    }
   ],
   "source": [
    "#Set up tokenizer\n",
    "from transformers import AutoTokenizer\n",
    "# tokenizer = AutoTokenizer.from_pretrained(\"meta-llama/Llama-2-7b-hf\", use_auth_token=True)\n",
    "# tokenizer.add_special_tokens({\"pad_token\":\"[PAD]\"})\n",
    "\n",
    "tokenizer = AutoTokenizer.from_pretrained(\"distilbert-base-uncased\")\n",
    "#tokenizer.add_special_tokens({\"pad_token\":\"[PAD]\"})\n",
    "\n",
    "#Preprocess and collate data\n",
    "def preprocess_function(examples):\n",
    "    return tokenizer(examples[\"text\"], truncation=True)\n",
    "\n",
    "tokenized_train_test_valid_dataset = train_test_valid_dataset.map(preprocess_function, batched=True)"
   ]
  },
  {
   "cell_type": "code",
   "execution_count": 41,
   "id": "44073996-4615-4e90-9a1d-ee7b4ffde147",
   "metadata": {
    "tags": []
   },
   "outputs": [],
   "source": [
    "from transformers import DataCollatorWithPadding\n",
    "data_collator = DataCollatorWithPadding(tokenizer=tokenizer)\n",
    "\n",
    "#Prepare evaluation function\n",
    "import evaluate\n",
    "accuracy = evaluate.load(\"accuracy\")\n",
    "balanced_accuracy = evaluate.load('hyperml/balanced_accuracy')\n",
    "roc_auc_score= evaluate.load('roc_auc')\n",
    "f1 = evaluate.load('f1')\n",
    "precision = evaluate.load('precision')\n",
    "recall = evaluate.load('recall')\n",
    "\n",
    "import numpy as np\n",
    "import torch.nn.functional as F\n",
    "def compute_metrics(eval_pred):\n",
    "    accuracy = evaluate.load(\"accuracy\")\n",
    "    balanced_accuracy = evaluate.load('hyperml/balanced_accuracy')\n",
    "    roc_auc_score= evaluate.load('roc_auc')\n",
    "    f1 = evaluate.load('f1')\n",
    "    precision = evaluate.load('precision')\n",
    "    recall = evaluate.load('recall')\n",
    "    predictions, labels = eval_pred\n",
    "    \n",
    "    predicted_labels = np.argmax(predictions, axis=1)\n",
    "    # Convert NumPy array to PyTorch tensor\n",
    "    predictions_tensor = torch.from_numpy(predictions)\n",
    "    \n",
    "    # Apply softmax to convert logits to probabilities\n",
    "    probabilities = F.softmax(predictions_tensor, dim=1)\n",
    "    \n",
    "    # Convert probabilities back to NumPy array\n",
    "    probabilities_np = probabilities.numpy()\n",
    "    \n",
    "    accuracy = accuracy.compute(predictions=predicted_labels, references=labels)\n",
    "    balanced_accuracy = balanced_accuracy.compute(predictions=predicted_labels, references=labels)\n",
    "    roc_auc = roc_auc_score.compute(references = labels, prediction_scores = probabilities_np[:, 1])\n",
    "    f1 = f1.compute(predictions=predicted_labels, references=labels)\n",
    "    precision = precision.compute(predictions=predicted_labels, references=labels)\n",
    "    recall = recall.compute(predictions=predicted_labels, references=labels)\n",
    "    return {'accuracy':  accuracy, 'balanced_accuracy' : balanced_accuracy, 'f1':f1, 'auc': roc_auc, 'precision': precision, 'recall': recall}\n",
    "\n",
    "# roc_auc = evaluate.load(\"roc_auc\")\n",
    "\n",
    "# import numpy as np\n",
    "# def compute_metrics(eval_pred):\n",
    "#     predictions, labels = eval_pred\n",
    "#     predictions = np.argmax(predictions, axis=1)\n",
    "#     return roc_auc.compute(prediction_scores=predictions, references=labels)\n",
    "\n",
    "#Training\n",
    "#Training\n",
    "id2label = {0: \"NOT SOLVABLE\", 1: \"SOLVABLE\"}\n",
    "label2id = {\"NOT SOLVABLE\": 0, \"SOLVABLE\": 1}"
   ]
  },
  {
   "cell_type": "code",
   "execution_count": 42,
   "id": "0b4deda2-88a0-4e89-902f-c776e1c50a76",
   "metadata": {
    "tags": []
   },
   "outputs": [
    {
     "name": "stderr",
     "output_type": "stream",
     "text": [
      "Some weights of DistilBertForSequenceClassification were not initialized from the model checkpoint at distilbert-base-uncased and are newly initialized: ['pre_classifier.weight', 'pre_classifier.bias', 'classifier.bias', 'classifier.weight']\n",
      "You should probably TRAIN this model on a down-stream task to be able to use it for predictions and inference.\n"
     ]
    }
   ],
   "source": [
    "#Import model\n",
    "from transformers import AutoModelForSequenceClassification, TrainingArguments, Trainer\n",
    "\n",
    "# model = AutoModelForSequenceClassification.from_pretrained(\n",
    "#     \"meta-llama/Llama-2-7b-hf\", num_labels=2, id2label=id2label, label2id=label2id,\n",
    "#         use_auth_token=True,  \n",
    "#       # max_memory=max_memory,\n",
    "#       # torch_dtype=torch.bfloat16, \n",
    "#       device_map = 'auto',\n",
    "#         quantization_config=BitsAndBytesConfig(\n",
    "#             load_in_4bit=True,\n",
    "#             bnb_4bit_compute_dtype=torch.bfloat16,\n",
    "#             bnb_4bit_use_double_quant=True,\n",
    "#             bnb_4bit_quant_type='nf4'))\n",
    "\n",
    "# model = AutoModelForSequenceClassification.from_pretrained(\n",
    "#     \"bert-base-uncased\", num_labels=2, id2label=id2label, label2id=label2id,\n",
    "#         use_auth_token=True,  \n",
    "#       # max_memory=max_memory,\n",
    "#       # torch_dtype=torch.bfloat16, \n",
    "#         quantization_config=BitsAndBytesConfig(\n",
    "#             load_in_4bit=True,\n",
    "#             bnb_4bit_compute_dtype=torch.bfloat16,\n",
    "#             bnb_4bit_use_double_quant=True,\n",
    "#             bnb_4bit_quant_type='nf4'))\n",
    "\n",
    "model = AutoModelForSequenceClassification.from_pretrained(\n",
    "    \"distilbert-base-uncased\", num_labels=2, id2label=id2label, label2id=label2id\n",
    ")"
   ]
  },
  {
   "cell_type": "code",
   "execution_count": 44,
   "id": "14b98067-f979-4d72-bb6a-cc94e288829c",
   "metadata": {
    "tags": []
   },
   "outputs": [
    {
     "data": {
      "text/html": [
       "\n",
       "    <div>\n",
       "      \n",
       "      <progress value='1296' max='1296' style='width:300px; height:20px; vertical-align: middle;'></progress>\n",
       "      [1296/1296 03:29, Epoch 8/8]\n",
       "    </div>\n",
       "    <table border=\"1\" class=\"dataframe\">\n",
       "  <thead>\n",
       " <tr style=\"text-align: left;\">\n",
       "      <th>Epoch</th>\n",
       "      <th>Training Loss</th>\n",
       "      <th>Validation Loss</th>\n",
       "      <th>Accuracy</th>\n",
       "      <th>Balanced Accuracy</th>\n",
       "      <th>F1</th>\n",
       "      <th>Auc</th>\n",
       "      <th>Precision</th>\n",
       "      <th>Recall</th>\n",
       "    </tr>\n",
       "  </thead>\n",
       "  <tbody>\n",
       "    <tr>\n",
       "      <td>1</td>\n",
       "      <td>0.697100</td>\n",
       "      <td>0.671891</td>\n",
       "      <td>{'accuracy': 0.7623456790123457}</td>\n",
       "      <td>{'balanced_accuracy': 0.5243065693430657}</td>\n",
       "      <td>{'f1': 0.8607594936708861}</td>\n",
       "      <td>{'roc_auc': 0.5813138686131387}</td>\n",
       "      <td>{'precision': 0.8530465949820788}</td>\n",
       "      <td>{'recall': 0.8686131386861314}</td>\n",
       "    </tr>\n",
       "    <tr>\n",
       "      <td>2</td>\n",
       "      <td>0.615500</td>\n",
       "      <td>0.701394</td>\n",
       "      <td>{'accuracy': 0.7376543209876543}</td>\n",
       "      <td>{'balanced_accuracy': 0.5832846715328467}</td>\n",
       "      <td>{'f1': 0.8387096774193548}</td>\n",
       "      <td>{'roc_auc': 0.6057664233576643}</td>\n",
       "      <td>{'precision': 0.8735177865612648}</td>\n",
       "      <td>{'recall': 0.8065693430656934}</td>\n",
       "    </tr>\n",
       "    <tr>\n",
       "      <td>3</td>\n",
       "      <td>0.453600</td>\n",
       "      <td>0.882307</td>\n",
       "      <td>{'accuracy': 0.7129629629629629}</td>\n",
       "      <td>{'balanced_accuracy': 0.5768613138686132}</td>\n",
       "      <td>{'f1': 0.8201160541586073}</td>\n",
       "      <td>{'roc_auc': 0.6318978102189782}</td>\n",
       "      <td>{'precision': 0.8724279835390947}</td>\n",
       "      <td>{'recall': 0.7737226277372263}</td>\n",
       "    </tr>\n",
       "    <tr>\n",
       "      <td>4</td>\n",
       "      <td>0.364200</td>\n",
       "      <td>1.053735</td>\n",
       "      <td>{'accuracy': 0.8024691358024691}</td>\n",
       "      <td>{'balanced_accuracy': 0.6052554744525548}</td>\n",
       "      <td>{'f1': 0.8840579710144928}</td>\n",
       "      <td>{'roc_auc': 0.6324817518248176}</td>\n",
       "      <td>{'precision': 0.8776978417266187}</td>\n",
       "      <td>{'recall': 0.8905109489051095}</td>\n",
       "    </tr>\n",
       "    <tr>\n",
       "      <td>5</td>\n",
       "      <td>0.262200</td>\n",
       "      <td>1.100422</td>\n",
       "      <td>{'accuracy': 0.7716049382716049}</td>\n",
       "      <td>{'balanced_accuracy': 0.587007299270073}</td>\n",
       "      <td>{'f1': 0.8634686346863468}</td>\n",
       "      <td>{'roc_auc': 0.6486861313868613}</td>\n",
       "      <td>{'precision': 0.8731343283582089}</td>\n",
       "      <td>{'recall': 0.8540145985401459}</td>\n",
       "    </tr>\n",
       "    <tr>\n",
       "      <td>6</td>\n",
       "      <td>0.171400</td>\n",
       "      <td>1.523694</td>\n",
       "      <td>{'accuracy': 0.8271604938271605}</td>\n",
       "      <td>{'balanced_accuracy': 0.6035036496350366}</td>\n",
       "      <td>{'f1': 0.9007092198581559}</td>\n",
       "      <td>{'roc_auc': 0.6264233576642336}</td>\n",
       "      <td>{'precision': 0.8758620689655172}</td>\n",
       "      <td>{'recall': 0.927007299270073}</td>\n",
       "    </tr>\n",
       "    <tr>\n",
       "      <td>7</td>\n",
       "      <td>0.098600</td>\n",
       "      <td>1.895903</td>\n",
       "      <td>{'accuracy': 0.8240740740740741}</td>\n",
       "      <td>{'balanced_accuracy': 0.5853284671532847}</td>\n",
       "      <td>{'f1': 0.8994708994708995}</td>\n",
       "      <td>{'roc_auc': 0.6222262773722627}</td>\n",
       "      <td>{'precision': 0.8703071672354948}</td>\n",
       "      <td>{'recall': 0.9306569343065694}</td>\n",
       "    </tr>\n",
       "    <tr>\n",
       "      <td>8</td>\n",
       "      <td>0.071600</td>\n",
       "      <td>1.923868</td>\n",
       "      <td>{'accuracy': 0.8209876543209876}</td>\n",
       "      <td>{'balanced_accuracy': 0.5835036496350365}</td>\n",
       "      <td>{'f1': 0.8975265017667845}</td>\n",
       "      <td>{'roc_auc': 0.6353649635036496}</td>\n",
       "      <td>{'precision': 0.8698630136986302}</td>\n",
       "      <td>{'recall': 0.927007299270073}</td>\n",
       "    </tr>\n",
       "  </tbody>\n",
       "</table><p>"
      ],
      "text/plain": [
       "<IPython.core.display.HTML object>"
      ]
     },
     "metadata": {},
     "output_type": "display_data"
    },
    {
     "data": {
      "text/plain": [
       "TrainOutput(global_step=1296, training_loss=0.3417859033302025, metrics={'train_runtime': 209.8645, 'train_samples_per_second': 98.578, 'train_steps_per_second': 6.175, 'total_flos': 381627709061640.0, 'train_loss': 0.3417859033302025, 'epoch': 8.0})"
      ]
     },
     "execution_count": 44,
     "metadata": {},
     "output_type": "execute_result"
    }
   ],
   "source": [
    "class_weights = torch.tensor([neg_weight, pos_weight], device = model.device)\n",
    "training_args = TrainingArguments(\n",
    "    output_dir=\"solvability_classifier\",\n",
    "    learning_rate=.0001,\n",
    "    per_device_train_batch_size=16,\n",
    "    per_device_eval_batch_size=16,\n",
    "    num_train_epochs=8,\n",
    "    weight_decay=.9,\n",
    "    evaluation_strategy=\"epoch\",\n",
    "    save_strategy=\"epoch\",\n",
    "    load_best_model_at_end=True,\n",
    "    report_to = 'wandb', \n",
    "    run_name = 'distilbert_solvability',\n",
    "    logging_strategy = 'epoch',\n",
    "    logging_steps = 1)\n",
    "\n",
    "trainer = WeightedBertTrainer(class_weights = class_weights,\n",
    "     model=model,\n",
    "     args=training_args,\n",
    "     train_dataset=tokenized_train_test_valid_dataset[\"train\"],\n",
    "     eval_dataset=tokenized_train_test_valid_dataset[\"valid\"],\n",
    "     tokenizer=tokenizer,\n",
    "     data_collator=data_collator,\n",
    "     compute_metrics=compute_metrics,\n",
    "     #optimizers=(optimizer, lr_scheduler)\n",
    " )\n",
    "trainer.train()"
   ]
  },
  {
   "cell_type": "code",
   "execution_count": 45,
   "id": "ae7ba5a1-c05d-4a8f-aae0-18287aa6b2e9",
   "metadata": {
    "tags": []
   },
   "outputs": [
    {
     "data": {
      "text/html": [
       "\n",
       "    <div>\n",
       "      \n",
       "      <progress value='85' max='21' style='width:300px; height:20px; vertical-align: middle;'></progress>\n",
       "      [21/21 00:15]\n",
       "    </div>\n",
       "    "
      ],
      "text/plain": [
       "<IPython.core.display.HTML object>"
      ]
     },
     "metadata": {},
     "output_type": "display_data"
    },
    {
     "data": {
      "text/plain": [
       "{'eval_loss': 0.6414254307746887,\n",
       " 'eval_accuracy': {'accuracy': 0.7956656346749226},\n",
       " 'eval_balanced_accuracy': {'balanced_accuracy': 0.5941680042803639},\n",
       " 'eval_f1': {'f1': 0.8795620437956204},\n",
       " 'eval_auc': {'roc_auc': 0.6861958266452648},\n",
       " 'eval_precision': {'precision': 0.8576512455516014},\n",
       " 'eval_recall': {'recall': 0.9026217228464419},\n",
       " 'eval_runtime': 1.6965,\n",
       " 'eval_samples_per_second': 190.387,\n",
       " 'eval_steps_per_second': 12.378,\n",
       " 'epoch': 8.0}"
      ]
     },
     "execution_count": 45,
     "metadata": {},
     "output_type": "execute_result"
    }
   ],
   "source": [
    "# predictions = trainer.predict(test_dataset=test_input_data)\n",
    "# print(predictions)\n",
    "trainer.evaluate(eval_dataset = tokenized_train_test_valid_dataset[\"test\"])"
   ]
  },
  {
   "cell_type": "markdown",
   "id": "a0e4ddae-e807-45c8-9270-beeb109efc45",
   "metadata": {},
   "source": [
    "## Evaluate Classifier on Llama, Llema, Mammoth and Mathwell Questions"
   ]
  },
  {
   "cell_type": "code",
   "execution_count": 46,
   "id": "bd48456a-f3f9-40cb-a399-416361b3bd58",
   "metadata": {
    "tags": []
   },
   "outputs": [
    {
     "data": {
      "application/vnd.jupyter.widget-view+json": {
       "model_id": "3c2133dd4c274b20876ccc3e707d47c5",
       "version_major": 2,
       "version_minor": 0
      },
      "text/plain": [
       "Downloading data files:   0%|          | 0/1 [00:00<?, ?it/s]"
      ]
     },
     "metadata": {},
     "output_type": "display_data"
    },
    {
     "data": {
      "application/vnd.jupyter.widget-view+json": {
       "model_id": "4fac44593a6d4996be0d939f123c4d33",
       "version_major": 2,
       "version_minor": 0
      },
      "text/plain": [
       "Extracting data files:   0%|          | 0/1 [00:00<?, ?it/s]"
      ]
     },
     "metadata": {},
     "output_type": "display_data"
    },
    {
     "data": {
      "application/vnd.jupyter.widget-view+json": {
       "model_id": "6ded0d9becd041bf9c060c930366b359",
       "version_major": 2,
       "version_minor": 0
      },
      "text/plain": [
       "Generating train split: 0 examples [00:00, ? examples/s]"
      ]
     },
     "metadata": {},
     "output_type": "display_data"
    },
    {
     "data": {
      "application/vnd.jupyter.widget-view+json": {
       "model_id": "e84e1069d2ed44dcba6d62fd3c02cdd0",
       "version_major": 2,
       "version_minor": 0
      },
      "text/plain": [
       "Map:   0%|          | 0/250 [00:00<?, ? examples/s]"
      ]
     },
     "metadata": {},
     "output_type": "display_data"
    },
    {
     "data": {
      "text/plain": [
       "{'eval_loss': 0.7064237594604492,\n",
       " 'eval_accuracy': {'accuracy': 0.82},\n",
       " 'eval_balanced_accuracy': {'balanced_accuracy': 0.4812206572769953},\n",
       " 'eval_f1': {'f1': 0.901098901098901},\n",
       " 'eval_auc': {'roc_auc': 0.5892653216596879},\n",
       " 'eval_precision': {'precision': 0.8471074380165289},\n",
       " 'eval_recall': {'recall': 0.9624413145539906},\n",
       " 'eval_runtime': 1.6765,\n",
       " 'eval_samples_per_second': 149.117,\n",
       " 'eval_steps_per_second': 9.544,\n",
       " 'epoch': 8.0}"
      ]
     },
     "execution_count": 46,
     "metadata": {},
     "output_type": "execute_result"
    }
   ],
   "source": [
    "llama = load_dataset('csv', data_files=\"data/llama_solvability.csv\")\n",
    "tokenized_llama = llama.map(preprocess_function, batched=True)\n",
    "trainer.evaluate(eval_dataset = tokenized_llama['train'])"
   ]
  },
  {
   "cell_type": "code",
   "execution_count": 47,
   "id": "3c90334b-ecd5-4853-9025-d2b307ebfaa1",
   "metadata": {
    "tags": []
   },
   "outputs": [
    {
     "data": {
      "application/vnd.jupyter.widget-view+json": {
       "model_id": "082a19d61cef4e2b84a6dfae0472357b",
       "version_major": 2,
       "version_minor": 0
      },
      "text/plain": [
       "Downloading data files:   0%|          | 0/1 [00:00<?, ?it/s]"
      ]
     },
     "metadata": {},
     "output_type": "display_data"
    },
    {
     "data": {
      "application/vnd.jupyter.widget-view+json": {
       "model_id": "81a241fbd7474892be574e2c4e95acb7",
       "version_major": 2,
       "version_minor": 0
      },
      "text/plain": [
       "Extracting data files:   0%|          | 0/1 [00:00<?, ?it/s]"
      ]
     },
     "metadata": {},
     "output_type": "display_data"
    },
    {
     "data": {
      "application/vnd.jupyter.widget-view+json": {
       "model_id": "07992b5bb8014fa99a1e335a72c1dfca",
       "version_major": 2,
       "version_minor": 0
      },
      "text/plain": [
       "Generating train split: 0 examples [00:00, ? examples/s]"
      ]
     },
     "metadata": {},
     "output_type": "display_data"
    },
    {
     "data": {
      "application/vnd.jupyter.widget-view+json": {
       "model_id": "c87a1e1a356d4b3d8208f3ba620e6844",
       "version_major": 2,
       "version_minor": 0
      },
      "text/plain": [
       "Map:   0%|          | 0/250 [00:00<?, ? examples/s]"
      ]
     },
     "metadata": {},
     "output_type": "display_data"
    },
    {
     "data": {
      "text/plain": [
       "{'eval_loss': 0.9178388714790344,\n",
       " 'eval_accuracy': {'accuracy': 0.488},\n",
       " 'eval_balanced_accuracy': {'balanced_accuracy': 0.49161546338965695},\n",
       " 'eval_f1': {'f1': 0.6464088397790055},\n",
       " 'eval_auc': {'roc_auc': 0.5729006656426011},\n",
       " 'eval_precision': {'precision': 0.49159663865546216},\n",
       " 'eval_recall': {'recall': 0.9435483870967742},\n",
       " 'eval_runtime': 1.6166,\n",
       " 'eval_samples_per_second': 154.644,\n",
       " 'eval_steps_per_second': 9.897,\n",
       " 'epoch': 8.0}"
      ]
     },
     "execution_count": 47,
     "metadata": {},
     "output_type": "execute_result"
    }
   ],
   "source": [
    "llema = load_dataset('csv', data_files=\"data/llema_solvability.csv\")\n",
    "tokenized_llema = llema.map(preprocess_function, batched=True)\n",
    "trainer.evaluate(eval_dataset = tokenized_llema['train'])"
   ]
  },
  {
   "cell_type": "code",
   "execution_count": 48,
   "id": "9b53e274-4c5a-4194-9270-dccac90890d7",
   "metadata": {
    "tags": []
   },
   "outputs": [
    {
     "data": {
      "application/vnd.jupyter.widget-view+json": {
       "model_id": "24885771d1674d8bbb8ca50af1e91e78",
       "version_major": 2,
       "version_minor": 0
      },
      "text/plain": [
       "Downloading data files:   0%|          | 0/1 [00:00<?, ?it/s]"
      ]
     },
     "metadata": {},
     "output_type": "display_data"
    },
    {
     "data": {
      "application/vnd.jupyter.widget-view+json": {
       "model_id": "471bef9a602c43489473dfb976e8c476",
       "version_major": 2,
       "version_minor": 0
      },
      "text/plain": [
       "Extracting data files:   0%|          | 0/1 [00:00<?, ?it/s]"
      ]
     },
     "metadata": {},
     "output_type": "display_data"
    },
    {
     "data": {
      "application/vnd.jupyter.widget-view+json": {
       "model_id": "8620eced95c74366b4d28491a252b4a5",
       "version_major": 2,
       "version_minor": 0
      },
      "text/plain": [
       "Generating train split: 0 examples [00:00, ? examples/s]"
      ]
     },
     "metadata": {},
     "output_type": "display_data"
    },
    {
     "data": {
      "application/vnd.jupyter.widget-view+json": {
       "model_id": "a084c5e602e64f76abed64b92e8e6910",
       "version_major": 2,
       "version_minor": 0
      },
      "text/plain": [
       "Map:   0%|          | 0/250 [00:00<?, ? examples/s]"
      ]
     },
     "metadata": {},
     "output_type": "display_data"
    },
    {
     "data": {
      "text/plain": [
       "{'eval_loss': 0.6208330392837524,\n",
       " 'eval_accuracy': {'accuracy': 0.852},\n",
       " 'eval_balanced_accuracy': {'balanced_accuracy': 0.5151949541284404},\n",
       " 'eval_f1': {'f1': 0.9193899782135075},\n",
       " 'eval_auc': {'roc_auc': 0.7307912844036696},\n",
       " 'eval_precision': {'precision': 0.8755186721991701},\n",
       " 'eval_recall': {'recall': 0.9678899082568807},\n",
       " 'eval_runtime': 1.6454,\n",
       " 'eval_samples_per_second': 151.94,\n",
       " 'eval_steps_per_second': 9.724,\n",
       " 'epoch': 8.0}"
      ]
     },
     "execution_count": 48,
     "metadata": {},
     "output_type": "execute_result"
    }
   ],
   "source": [
    "mammoth = load_dataset('csv', data_files=\"data/mammoth_solvability.csv\")\n",
    "tokenized_mammoth = mammoth.map(preprocess_function, batched=True)\n",
    "trainer.evaluate(eval_dataset = tokenized_mammoth['train'])"
   ]
  },
  {
   "cell_type": "code",
   "execution_count": 49,
   "id": "1f2abdc8-03ff-449d-834a-13bdf9c5db18",
   "metadata": {
    "tags": []
   },
   "outputs": [
    {
     "data": {
      "application/vnd.jupyter.widget-view+json": {
       "model_id": "c908126397c04f3ea7e99df6305b63d5",
       "version_major": 2,
       "version_minor": 0
      },
      "text/plain": [
       "Downloading data files:   0%|          | 0/1 [00:00<?, ?it/s]"
      ]
     },
     "metadata": {},
     "output_type": "display_data"
    },
    {
     "data": {
      "application/vnd.jupyter.widget-view+json": {
       "model_id": "39faa686e169455a84b68db65fde8c07",
       "version_major": 2,
       "version_minor": 0
      },
      "text/plain": [
       "Extracting data files:   0%|          | 0/1 [00:00<?, ?it/s]"
      ]
     },
     "metadata": {},
     "output_type": "display_data"
    },
    {
     "data": {
      "application/vnd.jupyter.widget-view+json": {
       "model_id": "df9ccaff64414dabb573db3e50dabe47",
       "version_major": 2,
       "version_minor": 0
      },
      "text/plain": [
       "Generating train split: 0 examples [00:00, ? examples/s]"
      ]
     },
     "metadata": {},
     "output_type": "display_data"
    },
    {
     "data": {
      "application/vnd.jupyter.widget-view+json": {
       "model_id": "f60dc9c645a14941a9443abec4d6126e",
       "version_major": 2,
       "version_minor": 0
      },
      "text/plain": [
       "Map:   0%|          | 0/250 [00:00<?, ? examples/s]"
      ]
     },
     "metadata": {},
     "output_type": "display_data"
    },
    {
     "data": {
      "text/plain": [
       "{'eval_loss': 0.6461253762245178,\n",
       " 'eval_accuracy': {'accuracy': 0.844},\n",
       " 'eval_balanced_accuracy': {'balanced_accuracy': 0.4730941704035874},\n",
       " 'eval_f1': {'f1': 0.9154013015184381},\n",
       " 'eval_auc': {'roc_auc': 0.5336322869955158},\n",
       " 'eval_precision': {'precision': 0.8865546218487395},\n",
       " 'eval_recall': {'recall': 0.9461883408071748},\n",
       " 'eval_runtime': 1.5159,\n",
       " 'eval_samples_per_second': 164.918,\n",
       " 'eval_steps_per_second': 10.555,\n",
       " 'epoch': 8.0}"
      ]
     },
     "execution_count": 49,
     "metadata": {},
     "output_type": "execute_result"
    }
   ],
   "source": [
    "mathwell = load_dataset('csv', data_files=\"data/mathwell_solvability.csv\")\n",
    "tokenized_mathwell = mathwell.map(preprocess_function, batched=True)\n",
    "trainer.evaluate(eval_dataset = tokenized_mathwell['train'])"
   ]
  },
  {
   "cell_type": "code",
   "execution_count": 73,
   "id": "50dab008-6784-4365-80ba-e06046419a62",
   "metadata": {
    "tags": []
   },
   "outputs": [
    {
     "data": {
      "text/plain": [
       "PredictionOutput(predictions=array([[-1.7506385 ,  1.9530482 ],\n",
       "       [-1.7559576 ,  1.9583346 ],\n",
       "       [-1.7569892 ,  1.9590534 ],\n",
       "       [-1.6437199 ,  1.8991454 ],\n",
       "       [-1.749848  ,  1.9525183 ],\n",
       "       [-1.7451775 ,  1.9485879 ],\n",
       "       [-1.7546875 ,  1.9569901 ],\n",
       "       [-1.7449911 ,  1.9491961 ],\n",
       "       [-1.7599704 ,  1.9616282 ],\n",
       "       [-1.7516701 ,  1.9544418 ],\n",
       "       [ 0.869157  , -0.52046114],\n",
       "       [-1.4514397 ,  1.773412  ],\n",
       "       [ 1.0098922 , -1.2016286 ],\n",
       "       [-0.42847487,  0.85188997],\n",
       "       [-1.7487719 ,  1.951416  ],\n",
       "       [-1.7403096 ,  1.946515  ],\n",
       "       [-0.2333818 ,  0.65094006],\n",
       "       [-1.7496686 ,  1.9521809 ],\n",
       "       [-1.7581851 ,  1.9603089 ],\n",
       "       [-1.7592822 ,  1.9612159 ],\n",
       "       [-1.6754192 ,  1.9176384 ],\n",
       "       [-1.7195486 ,  1.9400905 ],\n",
       "       [-1.7515746 ,  1.954021  ],\n",
       "       [-1.7440603 ,  1.9480331 ],\n",
       "       [-1.4638046 ,  1.7823226 ],\n",
       "       [-1.7575749 ,  1.9598641 ],\n",
       "       [-1.7587559 ,  1.9605073 ],\n",
       "       [-1.5994664 ,  1.8720521 ],\n",
       "       [-1.748466  ,  1.9513372 ],\n",
       "       [-1.7547995 ,  1.957366  ],\n",
       "       [-1.7540092 ,  1.9564726 ],\n",
       "       [-1.7455375 ,  1.9487758 ],\n",
       "       [-0.62872744,  1.0491649 ],\n",
       "       [-1.7378974 ,  1.9472702 ],\n",
       "       [-1.7572311 ,  1.9592919 ],\n",
       "       [-1.6754179 ,  1.9180547 ],\n",
       "       [-1.7525387 ,  1.954763  ],\n",
       "       [-1.7549217 ,  1.9571972 ],\n",
       "       [ 1.0938983 , -0.719994  ],\n",
       "       [-0.5510821 ,  0.97276825],\n",
       "       [-1.5654149 ,  1.8497952 ],\n",
       "       [ 1.005844  , -1.195306  ],\n",
       "       [-1.7583716 ,  1.9602565 ],\n",
       "       [-1.7487241 ,  1.9508038 ],\n",
       "       [-1.7579294 ,  1.9597983 ],\n",
       "       [-1.7175095 ,  1.9414492 ],\n",
       "       [-1.7562808 ,  1.9583858 ],\n",
       "       [-1.7589514 ,  1.9608619 ],\n",
       "       [-1.3268467 ,  1.6789867 ],\n",
       "       [-1.7578847 ,  1.959657  ],\n",
       "       [-1.7576673 ,  1.9598787 ],\n",
       "       [-1.7523427 ,  1.954613  ],\n",
       "       [-1.634853  ,  1.8940796 ],\n",
       "       [-1.7575583 ,  1.9595747 ],\n",
       "       [-1.5581588 ,  1.8466262 ],\n",
       "       [-1.7533684 ,  1.9554977 ],\n",
       "       [-1.756981  ,  1.9595296 ],\n",
       "       [ 1.0734413 , -0.699833  ],\n",
       "       [-1.7587507 ,  1.9606223 ],\n",
       "       [ 1.0095989 , -1.2012999 ],\n",
       "       [-1.7567976 ,  1.9590721 ],\n",
       "       [-1.646822  ,  1.9023169 ],\n",
       "       [-1.7494748 ,  1.9520943 ],\n",
       "       [-1.7556013 ,  1.9579927 ],\n",
       "       [-1.6697766 ,  1.9153755 ],\n",
       "       [-1.7293262 ,  1.9432297 ],\n",
       "       [-1.7488413 ,  1.9510525 ],\n",
       "       [-1.7532257 ,  1.9559857 ],\n",
       "       [-1.755808  ,  1.9581504 ],\n",
       "       [-1.7496847 ,  1.9522489 ],\n",
       "       [ 0.8424572 , -0.4974489 ],\n",
       "       [ 1.0745194 , -1.269744  ],\n",
       "       [-1.7511964 ,  1.9537206 ],\n",
       "       [-1.7507393 ,  1.9529386 ],\n",
       "       [ 1.0705186 , -1.2690506 ],\n",
       "       [-1.7520459 ,  1.9548402 ],\n",
       "       [-0.00954201,  0.42296425],\n",
       "       [-1.6239456 ,  1.8872836 ],\n",
       "       [-1.7317011 ,  1.9439697 ],\n",
       "       [-1.7030137 ,  1.9334869 ],\n",
       "       [ 1.0100464 , -1.2016191 ],\n",
       "       [-1.6159302 ,  1.8830048 ],\n",
       "       [ 0.3091103 ,  0.06895293],\n",
       "       [-1.730797  ,  1.9432018 ],\n",
       "       [-1.7475533 ,  1.9499124 ],\n",
       "       [-1.7229067 ,  1.9409606 ],\n",
       "       [-1.6890292 ,  1.925808  ],\n",
       "       [-1.6862184 ,  1.9248977 ],\n",
       "       [ 0.8807679 , -0.5328393 ],\n",
       "       [-1.7555078 ,  1.9575268 ],\n",
       "       [-1.7565005 ,  1.9589158 ],\n",
       "       [ 0.7728036 , -0.44768184],\n",
       "       [-1.7456579 ,  1.9496107 ],\n",
       "       [-1.5724413 ,  1.8550566 ],\n",
       "       [-1.7260146 ,  1.9416878 ],\n",
       "       [-1.7550334 ,  1.957374  ],\n",
       "       [-1.7507392 ,  1.9531678 ],\n",
       "       [-1.7618079 ,  1.9629655 ],\n",
       "       [-1.7442276 ,  1.948591  ],\n",
       "       [-1.7508298 ,  1.9532079 ],\n",
       "       [-1.7552828 ,  1.9575106 ],\n",
       "       [-1.7496383 ,  1.9520147 ],\n",
       "       [-1.743294  ,  1.9475317 ],\n",
       "       [-1.331987  ,  1.6837368 ],\n",
       "       [ 1.0095041 , -1.2010527 ],\n",
       "       [ 1.0264671 , -0.6596494 ],\n",
       "       [-1.748483  ,  1.9510953 ],\n",
       "       [-1.7049153 ,  1.9335256 ],\n",
       "       [-1.6331232 ,  1.8937486 ],\n",
       "       [-1.7547174 ,  1.9569237 ],\n",
       "       [-1.7458426 ,  1.949298  ],\n",
       "       [-1.753885  ,  1.9562684 ],\n",
       "       [ 1.0092285 , -1.2006311 ],\n",
       "       [-1.7563871 ,  1.9584323 ],\n",
       "       [-1.7550762 ,  1.9575049 ],\n",
       "       [-1.5235897 ,  1.8217402 ],\n",
       "       [-1.7527359 ,  1.9551988 ],\n",
       "       [-1.6920443 ,  1.9272683 ],\n",
       "       [-1.7352326 ,  1.9450076 ],\n",
       "       [-1.7501314 ,  1.9526572 ],\n",
       "       [-1.7586092 ,  1.96067   ],\n",
       "       [-1.749645  ,  1.952273  ],\n",
       "       [-1.7526206 ,  1.9553612 ],\n",
       "       [-1.7223967 ,  1.9401414 ],\n",
       "       [ 1.0749112 , -0.698594  ],\n",
       "       [-1.7499157 ,  1.9521425 ],\n",
       "       [-1.2051075 ,  1.58007   ],\n",
       "       [-1.6846776 ,  1.9238622 ],\n",
       "       [-1.7546674 ,  1.9569325 ],\n",
       "       [-1.5063632 ,  1.8114035 ],\n",
       "       [-1.3470074 ,  1.6949446 ],\n",
       "       [-1.6977305 ,  1.929908  ],\n",
       "       [-1.685896  ,  1.923588  ],\n",
       "       [-1.7506695 ,  1.9535114 ],\n",
       "       [-1.7503324 ,  1.9529376 ],\n",
       "       [-1.7527597 ,  1.9552116 ],\n",
       "       [-1.7513752 ,  1.9537501 ],\n",
       "       [-1.7539123 ,  1.9565167 ],\n",
       "       [-1.4654824 ,  1.7835498 ],\n",
       "       [-1.7472643 ,  1.9509999 ],\n",
       "       [ 1.0082676 , -1.1995552 ],\n",
       "       [-1.7565717 ,  1.958979  ],\n",
       "       [-1.7474128 ,  1.9504966 ],\n",
       "       [-1.661968  ,  1.9108328 ],\n",
       "       [ 1.0096236 , -1.2012395 ],\n",
       "       [-1.7556096 ,  1.9579369 ],\n",
       "       [ 0.6434071 , -0.28383413],\n",
       "       [-1.7530785 ,  1.9555838 ],\n",
       "       [-1.7505382 ,  1.9530505 ],\n",
       "       [-1.0855918 ,  1.4777733 ],\n",
       "       [-1.7533813 ,  1.9559674 ],\n",
       "       [-1.7488723 ,  1.9519861 ],\n",
       "       [-1.7341139 ,  1.9448036 ],\n",
       "       [-1.7567422 ,  1.9586674 ],\n",
       "       [ 1.0646875 , -0.68922067],\n",
       "       [-1.7582456 ,  1.9599422 ],\n",
       "       [-1.1335927 ,  1.521231  ],\n",
       "       [ 1.0088313 , -1.2001152 ],\n",
       "       [-1.7484546 ,  1.9510216 ],\n",
       "       [-1.7405422 ,  1.9469483 ],\n",
       "       [-1.7537698 ,  1.9562948 ],\n",
       "       [ 0.9950536 , -1.1783035 ],\n",
       "       [-1.197418  ,  1.5753969 ],\n",
       "       [-1.4293694 ,  1.757388  ],\n",
       "       [-1.4267467 ,  1.7559469 ],\n",
       "       [-1.7485212 ,  1.9513645 ],\n",
       "       [-0.57101357,  0.9937242 ],\n",
       "       [-1.7502018 ,  1.9531348 ],\n",
       "       [-0.7588043 ,  1.1720932 ],\n",
       "       [-1.56628   ,  1.8507442 ],\n",
       "       [-1.6726947 ,  1.9169505 ],\n",
       "       [-1.743604  ,  1.9480268 ],\n",
       "       [-1.6704203 ,  1.9156488 ],\n",
       "       [-1.7507093 ,  1.9533024 ],\n",
       "       [-1.7596475 ,  1.9611347 ],\n",
       "       [-1.7496374 ,  1.9522085 ],\n",
       "       [-1.7578439 ,  1.9596107 ],\n",
       "       [-1.7541789 ,  1.9573506 ],\n",
       "       [-1.7579257 ,  1.9596504 ],\n",
       "       [-1.7487931 ,  1.9512733 ],\n",
       "       [-1.7461799 ,  1.949109  ],\n",
       "       [-1.7549062 ,  1.9574289 ],\n",
       "       [-1.7613418 ,  1.962762  ],\n",
       "       [ 0.3146481 ,  0.0627066 ],\n",
       "       [-1.7481675 ,  1.9506211 ],\n",
       "       [-1.7565441 ,  1.9590571 ],\n",
       "       [-1.7320416 ,  1.9438056 ],\n",
       "       [-1.7483935 ,  1.9514    ],\n",
       "       [-1.7610382 ,  1.9625891 ],\n",
       "       [-1.7439241 ,  1.9475656 ],\n",
       "       [-1.6983254 ,  1.9301984 ],\n",
       "       [-1.257569  ,  1.6157889 ],\n",
       "       [-1.3018255 ,  1.6601125 ],\n",
       "       [ 1.0758579 , -1.2740268 ],\n",
       "       [-1.3975546 ,  1.7338892 ],\n",
       "       [-1.7485213 ,  1.9510154 ],\n",
       "       [ 0.9638327 , -0.6064385 ],\n",
       "       [-0.92780524,  1.3355672 ],\n",
       "       [-1.7513859 ,  1.9541104 ],\n",
       "       [ 1.0089157 , -1.2002633 ],\n",
       "       [-1.7104362 ,  1.9362816 ],\n",
       "       [-1.7184256 ,  1.9392381 ],\n",
       "       [-1.7550169 ,  1.9575467 ],\n",
       "       [-1.7504665 ,  1.9530063 ],\n",
       "       [-1.7543604 ,  1.9568624 ],\n",
       "       [-1.750729  ,  1.9532381 ],\n",
       "       [-1.7514333 ,  1.9541755 ],\n",
       "       [-1.6650028 ,  1.9120466 ],\n",
       "       [-1.6085737 ,  1.877173  ],\n",
       "       [-0.8972184 ,  1.3063492 ],\n",
       "       [ 1.0989228 , -0.7122051 ],\n",
       "       [-1.756667  ,  1.9590145 ],\n",
       "       [-1.7509023 ,  1.9540025 ],\n",
       "       [-1.7581427 ,  1.9600676 ],\n",
       "       [-1.7499422 ,  1.9526988 ],\n",
       "       [-1.7498367 ,  1.9523013 ],\n",
       "       [-1.7362242 ,  1.9445493 ],\n",
       "       [-1.7610024 ,  1.9622871 ],\n",
       "       [ 1.1001977 , -0.7245599 ],\n",
       "       [-1.7522211 ,  1.9548025 ],\n",
       "       [-1.7538385 ,  1.9563446 ],\n",
       "       [-1.7563199 ,  1.9585729 ],\n",
       "       [-1.7489789 ,  1.9514244 ],\n",
       "       [ 1.1017474 , -0.7306438 ],\n",
       "       [-1.4352573 ,  1.7619224 ],\n",
       "       [-1.7454383 ,  1.949085  ],\n",
       "       [ 0.79228324, -0.45806336],\n",
       "       [-1.7434162 ,  1.9478271 ],\n",
       "       [-1.7548959 ,  1.9571713 ],\n",
       "       [-1.7421904 ,  1.947416  ],\n",
       "       [-1.6160768 ,  1.8833389 ],\n",
       "       [ 1.0087664 , -1.19994   ],\n",
       "       [ 1.1014327 , -0.7183967 ],\n",
       "       [-1.7018836 ,  1.9325912 ],\n",
       "       [ 0.1444294 ,  0.25235796],\n",
       "       [-1.7567582 ,  1.9587309 ],\n",
       "       [-1.6701465 ,  1.915304  ],\n",
       "       [-1.5457782 ,  1.8371962 ],\n",
       "       [ 1.0354618 , -0.67009896],\n",
       "       [ 0.7820081 , -0.44625115],\n",
       "       [-1.7519473 ,  1.9542714 ],\n",
       "       [-1.7287439 ,  1.9430486 ],\n",
       "       [-1.7552892 ,  1.9577042 ],\n",
       "       [-1.7500018 ,  1.9525766 ],\n",
       "       [-1.5780376 ,  1.858965  ],\n",
       "       [-1.7400118 ,  1.9464463 ],\n",
       "       [-1.7545564 ,  1.9569068 ],\n",
       "       [-1.7324679 ,  1.9445429 ],\n",
       "       [ 1.0981481 , -0.7252803 ],\n",
       "       [-1.7554816 ,  1.9574497 ],\n",
       "       [-1.6171879 ,  1.8831373 ],\n",
       "       [-1.7491498 ,  1.951859  ],\n",
       "       [-1.7484924 ,  1.9516674 ],\n",
       "       [-1.7573346 ,  1.9595292 ]], dtype=float32), label_ids=array([1, 1, 1, 1, 1, 1, 1, 1, 1, 1, 0, 1, 0, 0, 1, 1, 0, 1, 1, 1, 0, 1,\n",
       "       1, 1, 1, 0, 1, 1, 1, 1, 1, 1, 1, 0, 1, 1, 1, 1, 0, 1, 1, 0, 1, 1,\n",
       "       0, 1, 1, 0, 0, 1, 1, 0, 1, 0, 1, 1, 1, 1, 1, 0, 1, 1, 1, 1, 1, 1,\n",
       "       1, 1, 1, 1, 1, 1, 1, 1, 1, 1, 1, 1, 1, 1, 1, 1, 1, 1, 1, 1, 1, 1,\n",
       "       1, 1, 1, 0, 0, 1, 1, 1, 1, 1, 1, 1, 1, 1, 1, 0, 0, 1, 0, 1, 1, 1,\n",
       "       1, 1, 0, 1, 1, 1, 1, 0, 1, 1, 1, 1, 0, 1, 1, 1, 0, 0, 1, 0, 0, 1,\n",
       "       1, 1, 1, 1, 1, 1, 1, 0, 0, 1, 1, 1, 1, 1, 0, 1, 1, 1, 1, 1, 0, 1,\n",
       "       1, 1, 1, 1, 1, 0, 1, 1, 1, 1, 1, 1, 1, 1, 1, 1, 1, 1, 0, 0, 1, 1,\n",
       "       1, 1, 1, 1, 1, 1, 1, 1, 1, 1, 0, 1, 1, 1, 1, 1, 0, 1, 0, 1, 0, 0,\n",
       "       1, 1, 1, 1, 1, 1, 0, 1, 1, 1, 1, 0, 1, 1, 1, 1, 1, 1, 1, 0, 1, 1,\n",
       "       1, 1, 1, 0, 0, 0, 1, 1, 1, 1, 1, 0, 1, 1, 1, 1, 1, 0, 0, 0, 1, 0,\n",
       "       1, 0, 0, 1, 1, 1, 0, 1, 1, 1, 0, 1]), metrics={'test_loss': 5.417053699493408, 'test_accuracy': 0.7716535433070866, 'test_runtime': 1.4145, 'test_samples_per_second': 179.566, 'test_steps_per_second': 11.311})"
      ]
     },
     "execution_count": 73,
     "metadata": {},
     "output_type": "execute_result"
    }
   ],
   "source": [
    "predictions = trainer.predict(test_dataset = tokenized_train_test_valid_dataset[\"test\"])\n",
    "predictions"
   ]
  },
  {
   "cell_type": "code",
   "execution_count": 74,
   "id": "f51159e7-8e12-4aac-bc74-ad6909271612",
   "metadata": {
    "tags": []
   },
   "outputs": [
    {
     "data": {
      "text/plain": [
       "(0.7037037037037037, 0.9)"
      ]
     },
     "execution_count": 74,
     "metadata": {},
     "output_type": "execute_result"
    }
   ],
   "source": [
    "compute_fp_tp(predictions)"
   ]
  },
  {
   "cell_type": "code",
   "execution_count": 132,
   "id": "70ab9625-f4c8-411a-9739-bc178a8e2bdc",
   "metadata": {
    "tags": []
   },
   "outputs": [
    {
     "data": {
      "image/png": "[encoded data removed]",
      "text/plain": [
       "<Figure size 800x800 with 1 Axes>"
      ]
     },
     "metadata": {},
     "output_type": "display_data"
    }
   ],
   "source": [
    "from sklearn.metrics import roc_curve, auc\n",
    "import matplotlib.pyplot as plt\n",
    "import torch\n",
    "import torch.nn.functional as F\n",
    "y_scores = predictions[0]\n",
    "y_scores = torch.tensor(y_scores)\n",
    "y_scores = F.softmax(y_scores, dim=1).numpy()\n",
    "y_scores = y_scores[:, 1]\n",
    "y_true = predictions[1]\n",
    "\n",
    "# Assuming y_true contains true labels (0 or 1) and y_scores contains predicted probabilities\n",
    "fpr, tpr, thresholds = roc_curve(y_true, y_scores)\n",
    "roc_auc = auc(fpr, tpr)\n",
    "\n",
    "# Plot ROC curve\n",
    "plt.figure(figsize=(8, 8))\n",
    "plt.plot(fpr, tpr, color='darkorange', lw=2, label=f'ROC curve (AUC = {roc_auc:.2f})')\n",
    "plt.plot([0, 1], [0, 1], color='navy', lw=2, linestyle='--')\n",
    "plt.xlabel('False Positive Rate')\n",
    "plt.ylabel('True Positive Rate')\n",
    "plt.title('Receiver Operating Characteristic (ROC) Curve')\n",
    "plt.legend(loc='lower right')\n",
    "plt.show()"
   ]
  },
  {
   "cell_type": "markdown",
   "id": "6126f518-58fc-4b67-b788-44901205f622",
   "metadata": {},
   "source": [
    "## Accuracy Classifier"
   ]
  },
  {
   "cell_type": "code",
   "execution_count": 142,
   "id": "f266e126-c6d2-4aa4-9b3b-e05114d48b06",
   "metadata": {
    "tags": []
   },
   "outputs": [],
   "source": [
    "df = pd.read_csv('data/accuracy.csv')\n",
    "df['label'] = df['label'].astype('int')\n",
    "df.to_csv('data/accuracy.csv')"
   ]
  },
  {
   "cell_type": "code",
   "execution_count": 133,
   "id": "41a783b9-bc15-4742-9844-c0a8a3f1ef4e",
   "metadata": {
    "tags": []
   },
   "outputs": [
    {
     "data": {
      "text/html": [
       "<div>\n",
       "<style scoped>\n",
       "    .dataframe tbody tr th:only-of-type {\n",
       "        vertical-align: middle;\n",
       "    }\n",
       "\n",
       "    .dataframe tbody tr th {\n",
       "        vertical-align: top;\n",
       "    }\n",
       "\n",
       "    .dataframe thead th {\n",
       "        text-align: right;\n",
       "    }\n",
       "</style>\n",
       "<table border=\"1\" class=\"dataframe\">\n",
       "  <thead>\n",
       "    <tr style=\"text-align: right;\">\n",
       "      <th></th>\n",
       "      <th>Unnamed: 0</th>\n",
       "      <th>label</th>\n",
       "      <th>text</th>\n",
       "    </tr>\n",
       "  </thead>\n",
       "  <tbody>\n",
       "    <tr>\n",
       "      <th>0</th>\n",
       "      <td>1205</td>\n",
       "      <td>0</td>\n",
       "      <td>Question: LeBron James, the famous NBA player,...</td>\n",
       "    </tr>\n",
       "    <tr>\n",
       "      <th>1</th>\n",
       "      <td>1112</td>\n",
       "      <td>0</td>\n",
       "      <td>Question: A cheerleading squad of 100 girls is...</td>\n",
       "    </tr>\n",
       "    <tr>\n",
       "      <th>2</th>\n",
       "      <td>2533</td>\n",
       "      <td>0</td>\n",
       "      <td>Question: In a bakery, the baker bakes 200 bun...</td>\n",
       "    </tr>\n",
       "    <tr>\n",
       "      <th>3</th>\n",
       "      <td>979</td>\n",
       "      <td>1</td>\n",
       "      <td>Question: Iron Man has 30000 nano-bots. 10000 ...</td>\n",
       "    </tr>\n",
       "    <tr>\n",
       "      <th>4</th>\n",
       "      <td>2328</td>\n",
       "      <td>0</td>\n",
       "      <td>Question: Black Panther is a superhero who can...</td>\n",
       "    </tr>\n",
       "    <tr>\n",
       "      <th>...</th>\n",
       "      <td>...</td>\n",
       "      <td>...</td>\n",
       "      <td>...</td>\n",
       "    </tr>\n",
       "    <tr>\n",
       "      <th>595</th>\n",
       "      <td>514</td>\n",
       "      <td>0</td>\n",
       "      <td>Question: 3248 is the same as 32.48 when it is...</td>\n",
       "    </tr>\n",
       "    <tr>\n",
       "      <th>596</th>\n",
       "      <td>1863</td>\n",
       "      <td>0</td>\n",
       "      <td>Question: 3 unicorns ate 21 apples. 7 unicorns...</td>\n",
       "    </tr>\n",
       "    <tr>\n",
       "      <th>597</th>\n",
       "      <td>879</td>\n",
       "      <td>0</td>\n",
       "      <td>Question: The 2:00 PM train from Penn Station ...</td>\n",
       "    </tr>\n",
       "    <tr>\n",
       "      <th>598</th>\n",
       "      <td>2242</td>\n",
       "      <td>1</td>\n",
       "      <td>Question: Cedric, the ice cream man, has 120 s...</td>\n",
       "    </tr>\n",
       "    <tr>\n",
       "      <th>599</th>\n",
       "      <td>390</td>\n",
       "      <td>1</td>\n",
       "      <td>Question: The 49ers and the Rams are playing. ...</td>\n",
       "    </tr>\n",
       "  </tbody>\n",
       "</table>\n",
       "<p>600 rows × 3 columns</p>\n",
       "</div>"
      ],
      "text/plain": [
       "     Unnamed: 0  label                                               text\n",
       "0          1205      0  Question: LeBron James, the famous NBA player,...\n",
       "1          1112      0  Question: A cheerleading squad of 100 girls is...\n",
       "2          2533      0  Question: In a bakery, the baker bakes 200 bun...\n",
       "3           979      1  Question: Iron Man has 30000 nano-bots. 10000 ...\n",
       "4          2328      0  Question: Black Panther is a superhero who can...\n",
       "..          ...    ...                                                ...\n",
       "595         514      0  Question: 3248 is the same as 32.48 when it is...\n",
       "596        1863      0  Question: 3 unicorns ate 21 apples. 7 unicorns...\n",
       "597         879      0  Question: The 2:00 PM train from Penn Station ...\n",
       "598        2242      1  Question: Cedric, the ice cream man, has 120 s...\n",
       "599         390      1  Question: The 49ers and the Rams are playing. ...\n",
       "\n",
       "[600 rows x 3 columns]"
      ]
     },
     "execution_count": 133,
     "metadata": {},
     "output_type": "execute_result"
    }
   ],
   "source": [
    "df = pd.read_csv('data/accuracy.csv')\n",
    "df['label'] = df['label'].astype('int')\n",
    "pos = df[df['label']==1]\n",
    "neg = df[df['label']==0]\n",
    "neg_len = len(neg)\n",
    "pos = pos.sample(n = neg_len, replace = False)\n",
    "df2 = pd.concat([pos, neg])\n",
    "df2 = df2.sample(frac=1)\n",
    "df2.reset_index(drop=True, inplace=True)\n",
    "df2 = df2[df2['text'].notnull()]\n",
    "df2.to_csv('data/accuracy_balanced.csv')\n",
    "df2"
   ]
  },
  {
   "cell_type": "code",
   "execution_count": 83,
   "id": "8d86a24c-5c08-42b9-94b3-547d77aa711e",
   "metadata": {
    "tags": []
   },
   "outputs": [],
   "source": [
    "# Load the dataset\n",
    "dataset = load_dataset('csv', data_files=\"data/accuracy.csv\")\n",
    "#dataset = load_dataset('csv', data_files=\"data/accuracy.csv\")\n",
    "\n",
    "# Get the total number of examples in the dataset\n",
    "# total_examples = len(dataset['train'])\n",
    "\n",
    "# # Calculate the sizes of the training, test, and validation sets\n",
    "# train_size = int(0.8 * total_examples)\n",
    "# test_size = int(0.1 * total_examples)\n",
    "# valid_size = total_examples - train_size - test_size\n",
    "\n",
    "# # Manually split the dataset into training, test, and validation sets\n",
    "# train_dataset = dataset['train'].shuffle(seed=42).select(range(train_size))\n",
    "# test_dataset = dataset['train'].shuffle(seed=42).select(range(train_size, train_size + test_size))\n",
    "# valid_dataset = dataset['train'].shuffle(seed=42).select(range(train_size + test_size, total_examples))\n",
    "\n",
    "dataset_train_valid_test = dataset['train'].train_test_split(test_size = .2, seed = 42)\n",
    "dataset_valid_test = dataset_train_valid_test['test'].train_test_split(test_size = .5, seed = 42)\n",
    "# Create a DatasetDict to hold the splits\n",
    "train_test_valid_dataset = DatasetDict({\n",
    "    'train': dataset_train_valid_test['train'],\n",
    "    'test': dataset_valid_test['train'],\n",
    "    'valid': dataset_valid_test['test']\n",
    "})"
   ]
  },
  {
   "cell_type": "code",
   "execution_count": 84,
   "id": "6a3bf617-3b65-4c98-8de2-116778cced5b",
   "metadata": {
    "tags": []
   },
   "outputs": [
    {
     "data": {
      "application/vnd.jupyter.widget-view+json": {
       "model_id": "e633df63f639439b84eeef5b5f73c54a",
       "version_major": 2,
       "version_minor": 0
      },
      "text/plain": [
       "Map:   0%|          | 0/221 [00:00<?, ? examples/s]"
      ]
     },
     "metadata": {},
     "output_type": "display_data"
    }
   ],
   "source": [
    "#Set up tokenizer\n",
    "from transformers import AutoTokenizer\n",
    "# tokenizer = AutoTokenizer.from_pretrained(\"meta-llama/Llama-2-7b-hf\", use_auth_token=True)\n",
    "# tokenizer.add_special_tokens({\"pad_token\":\"[PAD]\"})\n",
    "\n",
    "tokenizer = AutoTokenizer.from_pretrained(\"distilbert-base-uncased\")\n",
    "#tokenizer.add_special_tokens({\"pad_token\":\"[PAD]\"})\n",
    "\n",
    "#Preprocess and collate data\n",
    "def preprocess_function(examples):\n",
    "    return tokenizer(examples[\"text\"], truncation=True)\n",
    "\n",
    "tokenized_train_test_valid_dataset = train_test_valid_dataset.map(preprocess_function, batched=True)"
   ]
  },
  {
   "cell_type": "code",
   "execution_count": 85,
   "id": "08274402-c9aa-4d59-aef5-41d2929c4b60",
   "metadata": {
    "tags": []
   },
   "outputs": [],
   "source": [
    "from transformers import DataCollatorWithPadding\n",
    "data_collator = DataCollatorWithPadding(tokenizer=tokenizer)\n",
    "\n",
    "#Prepare evaluation function\n",
    "import evaluate\n",
    "accuracy = evaluate.load(\"accuracy\")\n",
    "\n",
    "import numpy as np\n",
    "def compute_metrics(eval_pred):\n",
    "    predictions, labels = eval_pred\n",
    "    predictions = np.argmax(predictions, axis=1)\n",
    "    return accuracy.compute(predictions=predictions, references=labels)\n",
    "\n",
    "# roc_auc = evaluate.load(\"roc_auc\")\n",
    "\n",
    "# import numpy as np\n",
    "# def compute_metrics(eval_pred):\n",
    "#     predictions, labels = eval_pred\n",
    "#     predictions = np.argmax(predictions, axis=1)\n",
    "#     return roc_auc.compute(prediction_scores=predictions, references=labels)\n",
    "\n",
    "#Training\n",
    "id2label = {0: \"NOT ACCURATE\", 1: \"ACCURATE\"}\n",
    "label2id = {\"NOT ACCURATE\": 0, \"ACCURATE\": 1}"
   ]
  },
  {
   "cell_type": "code",
   "execution_count": 86,
   "id": "c2f52d81-6c92-4b49-a2bb-2d139bd9f173",
   "metadata": {
    "tags": []
   },
   "outputs": [
    {
     "name": "stderr",
     "output_type": "stream",
     "text": [
      "Some weights of DistilBertForSequenceClassification were not initialized from the model checkpoint at distilbert-base-uncased and are newly initialized: ['pre_classifier.bias', 'classifier.bias', 'classifier.weight', 'pre_classifier.weight']\n",
      "You should probably TRAIN this model on a down-stream task to be able to use it for predictions and inference.\n"
     ]
    }
   ],
   "source": [
    "#Import model\n",
    "from transformers import AutoModelForSequenceClassification, TrainingArguments, Trainer\n",
    "\n",
    "# model = AutoModelForSequenceClassification.from_pretrained(\n",
    "#     \"meta-llama/Llama-2-7b-hf\", num_labels=2, id2label=id2label, label2id=label2id,\n",
    "#         use_auth_token=True,  \n",
    "#       # max_memory=max_memory,\n",
    "#       # torch_dtype=torch.bfloat16, \n",
    "#       device_map = 'auto',\n",
    "#         quantization_config=BitsAndBytesConfig(\n",
    "#             load_in_4bit=True,\n",
    "#             bnb_4bit_compute_dtype=torch.bfloat16,\n",
    "#             bnb_4bit_use_double_quant=True,\n",
    "#             bnb_4bit_quant_type='nf4'))\n",
    "\n",
    "# model = AutoModelForSequenceClassification.from_pretrained(\n",
    "#     \"bert-base-uncased\", num_labels=2, id2label=id2label, label2id=label2id,\n",
    "#         use_auth_token=True,  \n",
    "#       # max_memory=max_memory,\n",
    "#       # torch_dtype=torch.bfloat16, \n",
    "#         quantization_config=BitsAndBytesConfig(\n",
    "#             load_in_4bit=True,\n",
    "#             bnb_4bit_compute_dtype=torch.bfloat16,\n",
    "#             bnb_4bit_use_double_quant=True,\n",
    "#             bnb_4bit_quant_type='nf4'))\n",
    "\n",
    "model = AutoModelForSequenceClassification.from_pretrained(\n",
    "    \"distilbert-base-uncased\", num_labels=2, id2label=id2label, label2id=label2id\n",
    ")"
   ]
  },
  {
   "cell_type": "code",
   "execution_count": 139,
   "id": "f28ff20e-dee4-4e1d-aa82-4adebed21aae",
   "metadata": {
    "tags": []
   },
   "outputs": [
    {
     "ename": "AttributeError",
     "evalue": "'DistilBertForSequenceClassification' object has no attribute 'bert'",
     "output_type": "error",
     "traceback": [
      "\u001b[0;31m---------------------------------------------------------------------------\u001b[0m",
      "\u001b[0;31mAttributeError\u001b[0m                            Traceback (most recent call last)",
      "Cell \u001b[0;32mIn[139], line 11\u001b[0m\n\u001b[1;32m      3\u001b[0m num_classes \u001b[38;5;241m=\u001b[39m \u001b[38;5;241m2\u001b[39m\n\u001b[1;32m      4\u001b[0m model\u001b[38;5;241m.\u001b[39mclassifier \u001b[38;5;241m=\u001b[39m nn\u001b[38;5;241m.\u001b[39mSequential(\n\u001b[1;32m      5\u001b[0m     nn\u001b[38;5;241m.\u001b[39mLinear(num_ftrs, \u001b[38;5;241m2048\u001b[39m),\n\u001b[1;32m      6\u001b[0m     nn\u001b[38;5;241m.\u001b[39mLeakyReLU(negative_slope\u001b[38;5;241m=\u001b[39m\u001b[38;5;241m0.01\u001b[39m, inplace\u001b[38;5;241m=\u001b[39m\u001b[38;5;28;01mTrue\u001b[39;00m),         \u001b[38;5;66;03m# Activation function (you can choose other activation functions too)\u001b[39;00m\n\u001b[1;32m      7\u001b[0m     nn\u001b[38;5;241m.\u001b[39mDropout(\u001b[38;5;241m0.4\u001b[39m),               \u001b[38;5;66;03m# Dropout layer with 20% probability\u001b[39;00m\n\u001b[1;32m      8\u001b[0m     nn\u001b[38;5;241m.\u001b[39mLinear(\u001b[38;5;241m2048\u001b[39m, num_classes)    \u001b[38;5;66;03m# Final prediction fc layer\u001b[39;00m\n\u001b[1;32m      9\u001b[0m )\n\u001b[0;32m---> 11\u001b[0m \u001b[38;5;28;01mfor\u001b[39;00m param \u001b[38;5;129;01min\u001b[39;00m \u001b[43mmodel\u001b[49m\u001b[38;5;241;43m.\u001b[39;49m\u001b[43mbert\u001b[49m\u001b[38;5;241m.\u001b[39mparameters():\n\u001b[1;32m     12\u001b[0m     param\u001b[38;5;241m.\u001b[39mrequires_grad \u001b[38;5;241m=\u001b[39m \u001b[38;5;28;01mFalse\u001b[39;00m\n\u001b[1;32m     14\u001b[0m \u001b[38;5;28;01mfor\u001b[39;00m param \u001b[38;5;129;01min\u001b[39;00m model\u001b[38;5;241m.\u001b[39mclassifier\u001b[38;5;241m.\u001b[39mparameters():\n",
      "File \u001b[0;32m/opt/conda/lib/python3.10/site-packages/torch/nn/modules/module.py:1614\u001b[0m, in \u001b[0;36mModule.__getattr__\u001b[0;34m(self, name)\u001b[0m\n\u001b[1;32m   1612\u001b[0m     \u001b[38;5;28;01mif\u001b[39;00m name \u001b[38;5;129;01min\u001b[39;00m modules:\n\u001b[1;32m   1613\u001b[0m         \u001b[38;5;28;01mreturn\u001b[39;00m modules[name]\n\u001b[0;32m-> 1614\u001b[0m \u001b[38;5;28;01mraise\u001b[39;00m \u001b[38;5;167;01mAttributeError\u001b[39;00m(\u001b[38;5;124m\"\u001b[39m\u001b[38;5;124m'\u001b[39m\u001b[38;5;132;01m{}\u001b[39;00m\u001b[38;5;124m'\u001b[39m\u001b[38;5;124m object has no attribute \u001b[39m\u001b[38;5;124m'\u001b[39m\u001b[38;5;132;01m{}\u001b[39;00m\u001b[38;5;124m'\u001b[39m\u001b[38;5;124m\"\u001b[39m\u001b[38;5;241m.\u001b[39mformat(\n\u001b[1;32m   1615\u001b[0m     \u001b[38;5;28mtype\u001b[39m(\u001b[38;5;28mself\u001b[39m)\u001b[38;5;241m.\u001b[39m\u001b[38;5;18m__name__\u001b[39m, name))\n",
      "\u001b[0;31mAttributeError\u001b[0m: 'DistilBertForSequenceClassification' object has no attribute 'bert'"
     ]
    }
   ],
   "source": [
    "import torch.nn as nn\n",
    "num_ftrs = model.classifier.in_features\n",
    "num_classes = 2\n",
    "model.classifier = nn.Sequential(\n",
    "    nn.Linear(num_ftrs, 2048),\n",
    "    nn.LeakyReLU(negative_slope=0.01, inplace=True),         # Activation function (you can choose other activation functions too)\n",
    "    nn.Dropout(0.4),               # Dropout layer with 20% probability\n",
    "    nn.Linear(2048, num_classes)    # Final prediction fc layer\n",
    ")\n",
    "\n",
    "for param in model.bert.parameters():\n",
    "    param.requires_grad = False\n",
    "    \n",
    "for param in model.classifier.parameters():\n",
    "    param.requires_grad = True"
   ]
  },
  {
   "cell_type": "code",
   "execution_count": 87,
   "id": "1a535fba-893c-43da-8b76-11dc75e84480",
   "metadata": {
    "tags": []
   },
   "outputs": [
    {
     "name": "stderr",
     "output_type": "stream",
     "text": [
      "/opt/conda/lib/python3.10/site-packages/transformers/optimization.py:411: FutureWarning: This implementation of AdamW is deprecated and will be removed in a future version. Use the PyTorch implementation torch.optim.AdamW instead, or set `no_deprecation_warning=True` to disable this warning\n",
      "  warnings.warn(\n",
      "You're using a DistilBertTokenizerFast tokenizer. Please note that with a fast tokenizer, using the `__call__` method is faster than using a method to encode the text followed by a call to the `pad` method to get a padded encoding.\n"
     ]
    },
    {
     "data": {
      "text/html": [
       "\n",
       "    <div>\n",
       "      \n",
       "      <progress value='334' max='888' style='width:300px; height:20px; vertical-align: middle;'></progress>\n",
       "      [334/888 01:38 < 02:43, 3.38 it/s, Epoch 3/8]\n",
       "    </div>\n",
       "    <table border=\"1\" class=\"dataframe\">\n",
       "  <thead>\n",
       " <tr style=\"text-align: left;\">\n",
       "      <th>Epoch</th>\n",
       "      <th>Training Loss</th>\n",
       "      <th>Validation Loss</th>\n",
       "      <th>Accuracy</th>\n",
       "    </tr>\n",
       "  </thead>\n",
       "  <tbody>\n",
       "    <tr>\n",
       "      <td>1</td>\n",
       "      <td>No log</td>\n",
       "      <td>4.664889</td>\n",
       "      <td>0.864865</td>\n",
       "    </tr>\n",
       "    <tr>\n",
       "      <td>2</td>\n",
       "      <td>No log</td>\n",
       "      <td>4.001462</td>\n",
       "      <td>0.819820</td>\n",
       "    </tr>\n",
       "    <tr>\n",
       "      <td>3</td>\n",
       "      <td>No log</td>\n",
       "      <td>3.050168</td>\n",
       "      <td>0.878378</td>\n",
       "    </tr>\n",
       "    <tr>\n",
       "      <td>3</td>\n",
       "      <td>No log</td>\n",
       "      <td>4.293712</td>\n",
       "      <td>0.846154</td>\n",
       "    </tr>\n",
       "  </tbody>\n",
       "</table><p>\n",
       "    <div>\n",
       "      \n",
       "      <progress value='14' max='14' style='width:300px; height:20px; vertical-align: middle;'></progress>\n",
       "      [14/14 00:01]\n",
       "    </div>\n",
       "    "
      ],
      "text/plain": [
       "<IPython.core.display.HTML object>"
      ]
     },
     "metadata": {},
     "output_type": "display_data"
    },
    {
     "ename": "KeyboardInterrupt",
     "evalue": "",
     "output_type": "error",
     "traceback": [
      "\u001b[0;31m---------------------------------------------------------------------------\u001b[0m",
      "\u001b[0;31mKeyboardInterrupt\u001b[0m                         Traceback (most recent call last)",
      "Cell \u001b[0;32mIn[87], line 23\u001b[0m\n\u001b[1;32m     12\u001b[0m trainer \u001b[38;5;241m=\u001b[39m BertTrainer(penalty_factor \u001b[38;5;241m=\u001b[39m \u001b[38;5;241m2\u001b[39m,\n\u001b[1;32m     13\u001b[0m     model\u001b[38;5;241m=\u001b[39mmodel,\n\u001b[1;32m     14\u001b[0m     args\u001b[38;5;241m=\u001b[39mtraining_args,\n\u001b[0;32m   (...)\u001b[0m\n\u001b[1;32m     19\u001b[0m     compute_metrics\u001b[38;5;241m=\u001b[39mcompute_metrics,\n\u001b[1;32m     20\u001b[0m )\n\u001b[1;32m     22\u001b[0m \u001b[38;5;66;03m#trainer.train(resume_from_checkpoint=True)\u001b[39;00m\n\u001b[0;32m---> 23\u001b[0m \u001b[43mtrainer\u001b[49m\u001b[38;5;241;43m.\u001b[39;49m\u001b[43mtrain\u001b[49m\u001b[43m(\u001b[49m\u001b[43m)\u001b[49m\n\u001b[1;32m     24\u001b[0m \u001b[38;5;28mprint\u001b[39m(tokenized_train_test_valid_dataset[\u001b[38;5;124m\"\u001b[39m\u001b[38;5;124mtest\u001b[39m\u001b[38;5;124m\"\u001b[39m])\n\u001b[1;32m     25\u001b[0m test_input_data \u001b[38;5;241m=\u001b[39m tokenized_train_test_valid_dataset[\u001b[38;5;124m\"\u001b[39m\u001b[38;5;124mtest\u001b[39m\u001b[38;5;124m\"\u001b[39m][\u001b[38;5;124m\"\u001b[39m\u001b[38;5;124minput_ids\u001b[39m\u001b[38;5;124m\"\u001b[39m]\n",
      "File \u001b[0;32m/opt/conda/lib/python3.10/site-packages/transformers/trainer.py:1539\u001b[0m, in \u001b[0;36mTrainer.train\u001b[0;34m(self, resume_from_checkpoint, trial, ignore_keys_for_eval, **kwargs)\u001b[0m\n\u001b[1;32m   1534\u001b[0m     \u001b[38;5;28mself\u001b[39m\u001b[38;5;241m.\u001b[39mmodel_wrapped \u001b[38;5;241m=\u001b[39m \u001b[38;5;28mself\u001b[39m\u001b[38;5;241m.\u001b[39mmodel\n\u001b[1;32m   1536\u001b[0m inner_training_loop \u001b[38;5;241m=\u001b[39m find_executable_batch_size(\n\u001b[1;32m   1537\u001b[0m     \u001b[38;5;28mself\u001b[39m\u001b[38;5;241m.\u001b[39m_inner_training_loop, \u001b[38;5;28mself\u001b[39m\u001b[38;5;241m.\u001b[39m_train_batch_size, args\u001b[38;5;241m.\u001b[39mauto_find_batch_size\n\u001b[1;32m   1538\u001b[0m )\n\u001b[0;32m-> 1539\u001b[0m \u001b[38;5;28;01mreturn\u001b[39;00m \u001b[43minner_training_loop\u001b[49m\u001b[43m(\u001b[49m\n\u001b[1;32m   1540\u001b[0m \u001b[43m    \u001b[49m\u001b[43margs\u001b[49m\u001b[38;5;241;43m=\u001b[39;49m\u001b[43margs\u001b[49m\u001b[43m,\u001b[49m\n\u001b[1;32m   1541\u001b[0m \u001b[43m    \u001b[49m\u001b[43mresume_from_checkpoint\u001b[49m\u001b[38;5;241;43m=\u001b[39;49m\u001b[43mresume_from_checkpoint\u001b[49m\u001b[43m,\u001b[49m\n\u001b[1;32m   1542\u001b[0m \u001b[43m    \u001b[49m\u001b[43mtrial\u001b[49m\u001b[38;5;241;43m=\u001b[39;49m\u001b[43mtrial\u001b[49m\u001b[43m,\u001b[49m\n\u001b[1;32m   1543\u001b[0m \u001b[43m    \u001b[49m\u001b[43mignore_keys_for_eval\u001b[49m\u001b[38;5;241;43m=\u001b[39;49m\u001b[43mignore_keys_for_eval\u001b[49m\u001b[43m,\u001b[49m\n\u001b[1;32m   1544\u001b[0m \u001b[43m\u001b[49m\u001b[43m)\u001b[49m\n",
      "File \u001b[0;32m/opt/conda/lib/python3.10/site-packages/transformers/trainer.py:1916\u001b[0m, in \u001b[0;36mTrainer._inner_training_loop\u001b[0;34m(self, batch_size, args, resume_from_checkpoint, trial, ignore_keys_for_eval)\u001b[0m\n\u001b[1;32m   1913\u001b[0m     \u001b[38;5;28mself\u001b[39m\u001b[38;5;241m.\u001b[39mcontrol\u001b[38;5;241m.\u001b[39mshould_training_stop \u001b[38;5;241m=\u001b[39m \u001b[38;5;28;01mTrue\u001b[39;00m\n\u001b[1;32m   1915\u001b[0m \u001b[38;5;28mself\u001b[39m\u001b[38;5;241m.\u001b[39mcontrol \u001b[38;5;241m=\u001b[39m \u001b[38;5;28mself\u001b[39m\u001b[38;5;241m.\u001b[39mcallback_handler\u001b[38;5;241m.\u001b[39mon_epoch_end(args, \u001b[38;5;28mself\u001b[39m\u001b[38;5;241m.\u001b[39mstate, \u001b[38;5;28mself\u001b[39m\u001b[38;5;241m.\u001b[39mcontrol)\n\u001b[0;32m-> 1916\u001b[0m \u001b[38;5;28;43mself\u001b[39;49m\u001b[38;5;241;43m.\u001b[39;49m\u001b[43m_maybe_log_save_evaluate\u001b[49m\u001b[43m(\u001b[49m\u001b[43mtr_loss\u001b[49m\u001b[43m,\u001b[49m\u001b[43m \u001b[49m\u001b[43mmodel\u001b[49m\u001b[43m,\u001b[49m\u001b[43m \u001b[49m\u001b[43mtrial\u001b[49m\u001b[43m,\u001b[49m\u001b[43m \u001b[49m\u001b[43mepoch\u001b[49m\u001b[43m,\u001b[49m\u001b[43m \u001b[49m\u001b[43mignore_keys_for_eval\u001b[49m\u001b[43m)\u001b[49m\n\u001b[1;32m   1918\u001b[0m \u001b[38;5;28;01mif\u001b[39;00m DebugOption\u001b[38;5;241m.\u001b[39mTPU_METRICS_DEBUG \u001b[38;5;129;01min\u001b[39;00m \u001b[38;5;28mself\u001b[39m\u001b[38;5;241m.\u001b[39margs\u001b[38;5;241m.\u001b[39mdebug:\n\u001b[1;32m   1919\u001b[0m     \u001b[38;5;28;01mif\u001b[39;00m is_torch_tpu_available():\n\u001b[1;32m   1920\u001b[0m         \u001b[38;5;66;03m# tpu-comment: Logging debug metrics for PyTorch/XLA (compile, execute times, ops, etc.)\u001b[39;00m\n",
      "File \u001b[0;32m/opt/conda/lib/python3.10/site-packages/transformers/trainer.py:2237\u001b[0m, in \u001b[0;36mTrainer._maybe_log_save_evaluate\u001b[0;34m(self, tr_loss, model, trial, epoch, ignore_keys_for_eval)\u001b[0m\n\u001b[1;32m   2234\u001b[0m         \u001b[38;5;28mself\u001b[39m\u001b[38;5;241m.\u001b[39mlr_scheduler\u001b[38;5;241m.\u001b[39mstep(metrics[metric_to_check])\n\u001b[1;32m   2236\u001b[0m \u001b[38;5;28;01mif\u001b[39;00m \u001b[38;5;28mself\u001b[39m\u001b[38;5;241m.\u001b[39mcontrol\u001b[38;5;241m.\u001b[39mshould_save:\n\u001b[0;32m-> 2237\u001b[0m     \u001b[38;5;28;43mself\u001b[39;49m\u001b[38;5;241;43m.\u001b[39;49m\u001b[43m_save_checkpoint\u001b[49m\u001b[43m(\u001b[49m\u001b[43mmodel\u001b[49m\u001b[43m,\u001b[49m\u001b[43m \u001b[49m\u001b[43mtrial\u001b[49m\u001b[43m,\u001b[49m\u001b[43m \u001b[49m\u001b[43mmetrics\u001b[49m\u001b[38;5;241;43m=\u001b[39;49m\u001b[43mmetrics\u001b[49m\u001b[43m)\u001b[49m\n\u001b[1;32m   2238\u001b[0m     \u001b[38;5;28mself\u001b[39m\u001b[38;5;241m.\u001b[39mcontrol \u001b[38;5;241m=\u001b[39m \u001b[38;5;28mself\u001b[39m\u001b[38;5;241m.\u001b[39mcallback_handler\u001b[38;5;241m.\u001b[39mon_save(\u001b[38;5;28mself\u001b[39m\u001b[38;5;241m.\u001b[39margs, \u001b[38;5;28mself\u001b[39m\u001b[38;5;241m.\u001b[39mstate, \u001b[38;5;28mself\u001b[39m\u001b[38;5;241m.\u001b[39mcontrol)\n",
      "File \u001b[0;32m/opt/conda/lib/python3.10/site-packages/transformers/trainer.py:2342\u001b[0m, in \u001b[0;36mTrainer._save_checkpoint\u001b[0;34m(self, model, trial, metrics)\u001b[0m\n\u001b[1;32m   2340\u001b[0m     torch\u001b[38;5;241m.\u001b[39msave(full_osd, os\u001b[38;5;241m.\u001b[39mpath\u001b[38;5;241m.\u001b[39mjoin(output_dir, OPTIMIZER_NAME))\n\u001b[1;32m   2341\u001b[0m \u001b[38;5;28;01melse\u001b[39;00m:\n\u001b[0;32m-> 2342\u001b[0m     \u001b[43mtorch\u001b[49m\u001b[38;5;241;43m.\u001b[39;49m\u001b[43msave\u001b[49m\u001b[43m(\u001b[49m\u001b[38;5;28;43mself\u001b[39;49m\u001b[38;5;241;43m.\u001b[39;49m\u001b[43moptimizer\u001b[49m\u001b[38;5;241;43m.\u001b[39;49m\u001b[43mstate_dict\u001b[49m\u001b[43m(\u001b[49m\u001b[43m)\u001b[49m\u001b[43m,\u001b[49m\u001b[43m \u001b[49m\u001b[43mos\u001b[49m\u001b[38;5;241;43m.\u001b[39;49m\u001b[43mpath\u001b[49m\u001b[38;5;241;43m.\u001b[39;49m\u001b[43mjoin\u001b[49m\u001b[43m(\u001b[49m\u001b[43moutput_dir\u001b[49m\u001b[43m,\u001b[49m\u001b[43m \u001b[49m\u001b[43mOPTIMIZER_NAME\u001b[49m\u001b[43m)\u001b[49m\u001b[43m)\u001b[49m\n\u001b[1;32m   2344\u001b[0m \u001b[38;5;28;01mwith\u001b[39;00m warnings\u001b[38;5;241m.\u001b[39mcatch_warnings(record\u001b[38;5;241m=\u001b[39m\u001b[38;5;28;01mTrue\u001b[39;00m) \u001b[38;5;28;01mas\u001b[39;00m caught_warnings:\n\u001b[1;32m   2345\u001b[0m     torch\u001b[38;5;241m.\u001b[39msave(\u001b[38;5;28mself\u001b[39m\u001b[38;5;241m.\u001b[39mlr_scheduler\u001b[38;5;241m.\u001b[39mstate_dict(), os\u001b[38;5;241m.\u001b[39mpath\u001b[38;5;241m.\u001b[39mjoin(output_dir, SCHEDULER_NAME))\n",
      "File \u001b[0;32m/opt/conda/lib/python3.10/site-packages/torch/serialization.py:440\u001b[0m, in \u001b[0;36msave\u001b[0;34m(obj, f, pickle_module, pickle_protocol, _use_new_zipfile_serialization)\u001b[0m\n\u001b[1;32m    437\u001b[0m _check_save_filelike(f)\n\u001b[1;32m    439\u001b[0m \u001b[38;5;28;01mif\u001b[39;00m _use_new_zipfile_serialization:\n\u001b[0;32m--> 440\u001b[0m     \u001b[38;5;28;01mwith\u001b[39;00m _open_zipfile_writer(f) \u001b[38;5;28;01mas\u001b[39;00m opened_zipfile:\n\u001b[1;32m    441\u001b[0m         _save(obj, opened_zipfile, pickle_module, pickle_protocol)\n\u001b[1;32m    442\u001b[0m         \u001b[38;5;28;01mreturn\u001b[39;00m\n",
      "File \u001b[0;32m/opt/conda/lib/python3.10/site-packages/torch/serialization.py:291\u001b[0m, in \u001b[0;36m_open_zipfile_writer_file.__exit__\u001b[0;34m(self, *args)\u001b[0m\n\u001b[1;32m    290\u001b[0m \u001b[38;5;28;01mdef\u001b[39;00m \u001b[38;5;21m__exit__\u001b[39m(\u001b[38;5;28mself\u001b[39m, \u001b[38;5;241m*\u001b[39margs) \u001b[38;5;241m-\u001b[39m\u001b[38;5;241m>\u001b[39m \u001b[38;5;28;01mNone\u001b[39;00m:\n\u001b[0;32m--> 291\u001b[0m     \u001b[38;5;28;43mself\u001b[39;49m\u001b[38;5;241;43m.\u001b[39;49m\u001b[43mfile_like\u001b[49m\u001b[38;5;241;43m.\u001b[39;49m\u001b[43mwrite_end_of_file\u001b[49m\u001b[43m(\u001b[49m\u001b[43m)\u001b[49m\n",
      "\u001b[0;31mKeyboardInterrupt\u001b[0m: "
     ]
    }
   ],
   "source": [
    "training_args = TrainingArguments(\n",
    "    output_dir=\"accuracy_classifier\",\n",
    "    learning_rate=.0001,\n",
    "    per_device_train_batch_size=16,\n",
    "    per_device_eval_batch_size=16,\n",
    "    num_train_epochs=8,\n",
    "    weight_decay=0.01,\n",
    "    evaluation_strategy=\"epoch\",\n",
    "    save_strategy=\"epoch\",\n",
    "    load_best_model_at_end=True)\n",
    "\n",
    "trainer = BertTrainer(penalty_factor = 2,\n",
    "    model=model,\n",
    "    args=training_args,\n",
    "    train_dataset=tokenized_train_test_valid_dataset[\"train\"],\n",
    "    eval_dataset=tokenized_train_test_valid_dataset[\"valid\"],\n",
    "    tokenizer=tokenizer,\n",
    "    data_collator=data_collator,\n",
    "    compute_metrics=compute_metrics,\n",
    ")\n",
    "\n",
    "#trainer.train(resume_from_checkpoint=True)\n",
    "trainer.train()\n",
    "print(tokenized_train_test_valid_dataset[\"test\"])\n",
    "test_input_data = tokenized_train_test_valid_dataset[\"test\"][\"input_ids\"]"
   ]
  },
  {
   "cell_type": "code",
   "execution_count": 88,
   "id": "d6519a4f-760f-4652-bbf9-c68ac134a223",
   "metadata": {
    "tags": []
   },
   "outputs": [
    {
     "data": {
      "text/plain": [
       "{'eval_loss': 4.2937116622924805, 'eval_accuracy': 0.8461538461538461}"
      ]
     },
     "execution_count": 88,
     "metadata": {},
     "output_type": "execute_result"
    }
   ],
   "source": [
    "# predictions = trainer.predict(test_dataset=test_input_data)\n",
    "# print(predictions)\n",
    "trainer.evaluate(eval_dataset = tokenized_train_test_valid_dataset[\"test\"])"
   ]
  },
  {
   "cell_type": "code",
   "execution_count": 89,
   "id": "8f7e8e6e-d2fb-4cc4-a877-fe87ca3a21a2",
   "metadata": {
    "tags": []
   },
   "outputs": [
    {
     "data": {
      "text/plain": [
       "PredictionOutput(predictions=array([[-1.2440203 ,  1.5223162 ],\n",
       "       [-0.6233132 ,  0.7790685 ],\n",
       "       [-0.96761084,  1.1784246 ],\n",
       "       [-1.2625561 ,  1.5459605 ],\n",
       "       [-1.2511543 ,  1.5341315 ],\n",
       "       [-1.0308281 ,  1.2612792 ],\n",
       "       [-1.1869366 ,  1.4450778 ],\n",
       "       [-1.127009  ,  1.3716851 ],\n",
       "       [-1.2523204 ,  1.5372587 ],\n",
       "       [-1.1117508 ,  1.3562235 ],\n",
       "       [-1.1614438 ,  1.4168123 ],\n",
       "       [-1.1285315 ,  1.3772497 ],\n",
       "       [ 0.5784071 , -0.9037413 ],\n",
       "       [-1.2550079 ,  1.536453  ],\n",
       "       [-1.2607725 ,  1.5443048 ],\n",
       "       [-1.129681  ,  1.377318  ],\n",
       "       [-1.2776465 ,  1.5663002 ],\n",
       "       [ 0.6388945 , -0.9863629 ],\n",
       "       [-1.2820437 ,  1.5772834 ],\n",
       "       [-1.2830944 ,  1.5766681 ],\n",
       "       [-1.1743785 ,  1.4321872 ],\n",
       "       [-0.74474156,  0.907014  ],\n",
       "       [-1.1579347 ,  1.4140929 ],\n",
       "       [-1.1754882 ,  1.4351927 ],\n",
       "       [-1.21394   ,  1.4841042 ],\n",
       "       [-0.29844674,  0.33376005],\n",
       "       [-1.1508745 ,  1.4043765 ],\n",
       "       [-0.90883744,  1.1002936 ],\n",
       "       [-1.0668706 ,  1.3013774 ],\n",
       "       [-1.2566313 ,  1.5470492 ],\n",
       "       [-1.0950669 ,  1.3341002 ],\n",
       "       [-1.2439307 ,  1.5264251 ],\n",
       "       [-1.2499024 ,  1.5355663 ],\n",
       "       [-1.209385  ,  1.478575  ],\n",
       "       [-1.2838522 ,  1.5729488 ],\n",
       "       [-1.253289  ,  1.5336348 ],\n",
       "       [-1.2322538 ,  1.5092976 ],\n",
       "       [ 0.11501701, -0.26846096],\n",
       "       [-1.2329881 ,  1.5157089 ],\n",
       "       [-0.86947894,  1.0540373 ],\n",
       "       [-1.2391661 ,  1.5182333 ],\n",
       "       [-1.3394039 ,  1.6414037 ],\n",
       "       [-1.2736303 ,  1.5613782 ],\n",
       "       [-1.2408842 ,  1.5237505 ],\n",
       "       [-1.2700776 ,  1.5577447 ],\n",
       "       [-1.2901149 ,  1.5838486 ],\n",
       "       [-1.2252475 ,  1.5004517 ],\n",
       "       [-1.2017518 ,  1.4696188 ],\n",
       "       [-1.2262746 ,  1.502728  ],\n",
       "       [-1.2045214 ,  1.4682451 ],\n",
       "       [-1.2300766 ,  1.5069003 ],\n",
       "       [-1.1234353 ,  1.372185  ],\n",
       "       [-1.2118472 ,  1.4843605 ],\n",
       "       [-1.2728491 ,  1.5614779 ],\n",
       "       [-1.2288189 ,  1.5017474 ],\n",
       "       [-1.2831539 ,  1.5767043 ],\n",
       "       [-1.1145842 ,  1.3591478 ],\n",
       "       [-0.8495635 ,  1.0280854 ],\n",
       "       [-1.1240124 ,  1.3741874 ],\n",
       "       [-1.2454052 ,  1.5249999 ],\n",
       "       [-0.96786165,  1.1754482 ],\n",
       "       [-1.1858431 ,  1.4460387 ],\n",
       "       [-1.0376662 ,  1.2639878 ],\n",
       "       [-1.1680313 ,  1.4275154 ],\n",
       "       [-0.1935905 ,  0.14829226],\n",
       "       [-1.0393379 ,  1.271791  ],\n",
       "       [-1.1300931 ,  1.376209  ],\n",
       "       [-1.1063678 ,  1.3474474 ],\n",
       "       [-1.1107445 ,  1.3511254 ],\n",
       "       [-1.132044  ,  1.378889  ],\n",
       "       [-0.7275483 ,  0.8782687 ],\n",
       "       [-1.131944  ,  1.381235  ],\n",
       "       [-1.2927017 ,  1.5893636 ],\n",
       "       [-1.2791269 ,  1.5653843 ],\n",
       "       [-1.2564892 ,  1.5385009 ],\n",
       "       [-1.1647134 ,  1.4193351 ],\n",
       "       [-1.2699039 ,  1.5560213 ],\n",
       "       [-1.2245983 ,  1.497191  ],\n",
       "       [-1.2800754 ,  1.5698612 ],\n",
       "       [-1.0209574 ,  1.2419498 ],\n",
       "       [-1.0866708 ,  1.325518  ],\n",
       "       [-1.2880774 ,  1.5780581 ],\n",
       "       [-1.0889963 ,  1.3293455 ],\n",
       "       [-1.1832361 ,  1.4456323 ],\n",
       "       [-1.2592843 ,  1.5452278 ],\n",
       "       [-0.9640365 ,  1.1710519 ],\n",
       "       [-1.2687582 ,  1.558125  ],\n",
       "       [-1.2703302 ,  1.5576628 ],\n",
       "       [-0.5158606 ,  0.6500203 ],\n",
       "       [-0.34204593,  0.3872333 ],\n",
       "       [-1.2423041 ,  1.5227734 ],\n",
       "       [-1.2709703 ,  1.5588204 ],\n",
       "       [-1.2079215 ,  1.4773517 ],\n",
       "       [-0.71326804,  0.87389153],\n",
       "       [-1.2353969 ,  1.5121082 ],\n",
       "       [-1.1817883 ,  1.4410785 ],\n",
       "       [-1.1434764 ,  1.4001808 ],\n",
       "       [-1.2921629 ,  1.5848782 ],\n",
       "       [-1.2876323 ,  1.5792419 ],\n",
       "       [-1.2421622 ,  1.518965  ],\n",
       "       [-1.2467126 ,  1.5261085 ],\n",
       "       [-1.2122685 ,  1.4843554 ],\n",
       "       [-1.1599674 ,  1.4137788 ],\n",
       "       [-0.59963995,  0.749946  ],\n",
       "       [-1.2801366 ,  1.5680003 ],\n",
       "       [-1.2315836 ,  1.5088812 ],\n",
       "       [-1.2842847 ,  1.5810285 ],\n",
       "       [-0.9476187 ,  1.1467109 ],\n",
       "       [-1.2385228 ,  1.5182278 ],\n",
       "       [-1.2236915 ,  1.4960736 ],\n",
       "       [-1.2411993 ,  1.5267137 ],\n",
       "       [-0.26284745,  0.27589762],\n",
       "       [-0.9680974 ,  1.1807885 ],\n",
       "       [-1.0625323 ,  1.2936466 ],\n",
       "       [-1.2254314 ,  1.4998703 ],\n",
       "       [-1.2589457 ,  1.5459087 ],\n",
       "       [ 0.5692064 , -0.8598868 ],\n",
       "       [-1.2623456 ,  1.5493599 ],\n",
       "       [-1.0871595 ,  1.3279158 ],\n",
       "       [-0.6110206 ,  0.75975245],\n",
       "       [-1.2979563 ,  1.5923302 ],\n",
       "       [-1.3092511 ,  1.6055198 ],\n",
       "       [-1.2333956 ,  1.5098795 ],\n",
       "       [-1.0170801 ,  1.2387651 ],\n",
       "       [-1.1692476 ,  1.4249575 ],\n",
       "       [-0.9297472 ,  1.118512  ],\n",
       "       [-1.2268202 ,  1.4973848 ],\n",
       "       [-1.252924  ,  1.534239  ],\n",
       "       [-1.1185635 ,  1.3635972 ],\n",
       "       [-1.2226877 ,  1.4951534 ],\n",
       "       [-1.2356261 ,  1.5116469 ],\n",
       "       [-1.2625214 ,  1.5567646 ],\n",
       "       [-1.228934  ,  1.5024656 ],\n",
       "       [-0.10687359,  0.05774982],\n",
       "       [-1.2176385 ,  1.4861362 ],\n",
       "       [-1.1849864 ,  1.4439754 ],\n",
       "       [-1.255709  ,  1.5355952 ],\n",
       "       [ 0.42678854, -0.7079752 ],\n",
       "       [-1.1884015 ,  1.4524065 ],\n",
       "       [ 0.45694923, -0.7457193 ],\n",
       "       [-1.182695  ,  1.4420637 ],\n",
       "       [-1.2448353 ,  1.5239009 ],\n",
       "       [-1.1992627 ,  1.4656627 ],\n",
       "       [-0.88290626,  1.0687752 ],\n",
       "       [-1.1791958 ,  1.4401435 ],\n",
       "       [-1.2089399 ,  1.477317  ],\n",
       "       [-1.1326157 ,  1.3855243 ],\n",
       "       [-0.6888382 ,  0.8441407 ],\n",
       "       [-1.222766  ,  1.4964793 ],\n",
       "       [-1.284789  ,  1.57689   ],\n",
       "       [-1.1693919 ,  1.4249483 ],\n",
       "       [-1.2545892 ,  1.5425144 ],\n",
       "       [-0.52045846,  0.6283889 ],\n",
       "       [-1.3087941 ,  1.6074146 ],\n",
       "       [-1.1827717 ,  1.4448974 ],\n",
       "       [-1.2749474 ,  1.5614547 ],\n",
       "       [-1.2223842 ,  1.498233  ],\n",
       "       [-1.2501554 ,  1.531674  ],\n",
       "       [-1.2029462 ,  1.4672891 ],\n",
       "       [-1.2190914 ,  1.4892977 ],\n",
       "       [-1.2494524 ,  1.5304414 ],\n",
       "       [ 0.3110212 , -0.53869796],\n",
       "       [-1.2746805 ,  1.5621402 ],\n",
       "       [-1.258835  ,  1.5445663 ],\n",
       "       [-0.72490203,  0.8763493 ],\n",
       "       [-1.20478   ,  1.4692559 ],\n",
       "       [-1.1410332 ,  1.3960594 ],\n",
       "       [-1.0408293 ,  1.2725306 ],\n",
       "       [-1.0812618 ,  1.3221111 ],\n",
       "       [-0.64345956,  0.798461  ],\n",
       "       [-1.1885957 ,  1.4510069 ],\n",
       "       [-1.203706  ,  1.466883  ],\n",
       "       [-1.2964543 ,  1.5861479 ],\n",
       "       [-1.0946833 ,  1.3377395 ],\n",
       "       [ 0.6503902 , -1.0955592 ],\n",
       "       [-1.2484224 ,  1.5295407 ],\n",
       "       [ 0.7550978 , -1.1757631 ],\n",
       "       [-1.0370971 ,  1.2664087 ],\n",
       "       [-1.2193506 ,  1.4883721 ],\n",
       "       [-1.2692652 ,  1.555388  ],\n",
       "       [-1.2949203 ,  1.5871326 ],\n",
       "       [-1.2899278 ,  1.5848851 ],\n",
       "       [-1.2083044 ,  1.4789038 ],\n",
       "       [-1.2416537 ,  1.5193352 ],\n",
       "       [-1.2438484 ,  1.5242733 ],\n",
       "       [ 0.17645225, -0.3433064 ],\n",
       "       [ 0.7348282 , -1.165251  ],\n",
       "       [-1.2621746 ,  1.5484289 ],\n",
       "       [-1.154835  ,  1.4089069 ],\n",
       "       [-0.15147838,  0.11483436],\n",
       "       [-0.9686728 ,  1.1738937 ],\n",
       "       [-0.9998277 ,  1.2125566 ],\n",
       "       [-1.1849877 ,  1.4459155 ],\n",
       "       [-1.2569449 ,  1.5431521 ],\n",
       "       [-1.057133  ,  1.2939187 ],\n",
       "       [-1.0070022 ,  1.2252531 ],\n",
       "       [-1.2450551 ,  1.5306556 ],\n",
       "       [-1.2426221 ,  1.5203018 ],\n",
       "       [-1.2319889 ,  1.5067664 ],\n",
       "       [ 0.350482  , -0.57197636],\n",
       "       [-1.1583081 ,  1.4143106 ],\n",
       "       [-1.2525191 ,  1.5375407 ],\n",
       "       [-1.2228533 ,  1.4936429 ],\n",
       "       [-1.1497324 ,  1.4034576 ],\n",
       "       [-1.1066397 ,  1.3502476 ],\n",
       "       [-1.036188  ,  1.2603197 ],\n",
       "       [-1.257905  ,  1.5407861 ],\n",
       "       [-1.238148  ,  1.5161822 ],\n",
       "       [ 0.7550479 , -1.1808064 ],\n",
       "       [-1.2342937 ,  1.5112307 ],\n",
       "       [-1.2805504 ,  1.5714258 ],\n",
       "       [-1.2872442 ,  1.583402  ],\n",
       "       [-1.1242886 ,  1.3672134 ],\n",
       "       [-1.275124  ,  1.5653708 ],\n",
       "       [-1.1622307 ,  1.4176241 ],\n",
       "       [-1.2886995 ,  1.5803322 ],\n",
       "       [-1.2631156 ,  1.549233  ],\n",
       "       [-1.2870944 ,  1.5769103 ],\n",
       "       [-1.123312  ,  1.3710048 ],\n",
       "       [-1.1861303 ,  1.4478631 ],\n",
       "       [-1.1774949 ,  1.4361377 ]], dtype=float32), label_ids=array([1, 0, 0, 1, 1, 1, 1, 1, 1, 1, 1, 0, 0, 0, 1, 1, 1, 0, 1, 1, 1, 1,\n",
       "       1, 0, 1, 1, 1, 1, 1, 1, 0, 1, 1, 1, 1, 1, 1, 1, 1, 1, 1, 1, 1, 1,\n",
       "       1, 1, 1, 0, 1, 1, 1, 1, 1, 1, 1, 1, 1, 1, 1, 1, 1, 1, 1, 1, 0, 1,\n",
       "       1, 1, 1, 1, 1, 1, 0, 1, 1, 1, 1, 1, 1, 1, 1, 1, 1, 1, 1, 1, 1, 0,\n",
       "       0, 0, 1, 1, 1, 0, 0, 1, 0, 1, 1, 1, 1, 1, 1, 1, 1, 1, 1, 1, 1, 1,\n",
       "       1, 1, 1, 1, 1, 1, 0, 1, 1, 1, 0, 1, 1, 1, 1, 1, 0, 1, 0, 1, 1, 1,\n",
       "       1, 0, 1, 1, 1, 0, 1, 1, 1, 1, 1, 1, 1, 1, 1, 1, 1, 1, 1, 1, 0, 1,\n",
       "       1, 1, 1, 1, 1, 1, 1, 1, 1, 1, 0, 1, 1, 1, 0, 0, 0, 1, 1, 1, 1, 1,\n",
       "       0, 0, 1, 1, 1, 1, 1, 0, 1, 1, 1, 1, 1, 0, 1, 1, 1, 1, 1, 1, 1, 1,\n",
       "       1, 0, 1, 1, 1, 1, 1, 1, 1, 1, 1, 1, 1, 1, 1, 1, 1, 1, 1, 1, 1, 1,\n",
       "       1]), metrics={'test_loss': 4.2937116622924805, 'test_accuracy': 0.8461538461538461, 'test_runtime': 1.1964, 'test_samples_per_second': 184.717, 'test_steps_per_second': 11.702})"
      ]
     },
     "execution_count": 89,
     "metadata": {},
     "output_type": "execute_result"
    }
   ],
   "source": [
    "predictions = trainer.predict(test_dataset = tokenized_train_test_valid_dataset[\"test\"])\n",
    "predictions"
   ]
  },
  {
   "cell_type": "code",
   "execution_count": 90,
   "id": "72da880e-429a-480a-b980-5fab00a0e5db",
   "metadata": {
    "tags": []
   },
   "outputs": [
    {
     "data": {
      "text/plain": [
       "(0.8181818181818182, 0.9627659574468085)"
      ]
     },
     "execution_count": 90,
     "metadata": {},
     "output_type": "execute_result"
    }
   ],
   "source": [
    "compute_fp_tp(predictions)"
   ]
  },
  {
   "cell_type": "code",
   "execution_count": 91,
   "id": "c3965c14-8904-42d8-a7dc-2b464841be52",
   "metadata": {
    "tags": []
   },
   "outputs": [
    {
     "data": {
      "image/png": "[encoded data removed]",
      "text/plain": [
       "<Figure size 800x800 with 1 Axes>"
      ]
     },
     "metadata": {},
     "output_type": "display_data"
    }
   ],
   "source": [
    "from sklearn.metrics import roc_curve, auc\n",
    "import matplotlib.pyplot as plt\n",
    "import torch\n",
    "import torch.nn.functional as F\n",
    "y_scores = predictions[0]\n",
    "y_scores = torch.tensor(y_scores)\n",
    "y_scores = F.softmax(y_scores, dim=1).numpy()\n",
    "y_scores = y_scores[:, 1]\n",
    "y_true = predictions[1]\n",
    "\n",
    "# Assuming y_true contains true labels (0 or 1) and y_scores contains predicted probabilities\n",
    "fpr, tpr, thresholds = roc_curve(y_true, y_scores)\n",
    "roc_auc = auc(fpr, tpr)\n",
    "\n",
    "# Plot ROC curve\n",
    "plt.figure(figsize=(8, 8))\n",
    "plt.plot(fpr, tpr, color='darkorange', lw=2, label=f'ROC curve (AUC = {roc_auc:.2f})')\n",
    "plt.plot([0, 1], [0, 1], color='navy', lw=2, linestyle='--')\n",
    "plt.xlabel('False Positive Rate')\n",
    "plt.ylabel('True Positive Rate')\n",
    "plt.title('Receiver Operating Characteristic (ROC) Curve')\n",
    "plt.legend(loc='lower right')\n",
    "plt.show()"
   ]
  },
  {
   "cell_type": "markdown",
   "id": "b1b48f6e-7b4c-4224-bad7-ab437f2b0255",
   "metadata": {},
   "source": [
    "## Overall Goodness Classifier"
   ]
  },
  {
   "cell_type": "code",
   "execution_count": 174,
   "id": "29264152-3e04-4f2c-bca4-be016b4eafa5",
   "metadata": {
    "tags": []
   },
   "outputs": [
    {
     "data": {
      "text/html": [
       "<div>\n",
       "<style scoped>\n",
       "    .dataframe tbody tr th:only-of-type {\n",
       "        vertical-align: middle;\n",
       "    }\n",
       "\n",
       "    .dataframe tbody tr th {\n",
       "        vertical-align: top;\n",
       "    }\n",
       "\n",
       "    .dataframe thead th {\n",
       "        text-align: right;\n",
       "    }\n",
       "</style>\n",
       "<table border=\"1\" class=\"dataframe\">\n",
       "  <thead>\n",
       "    <tr style=\"text-align: right;\">\n",
       "      <th></th>\n",
       "      <th>label</th>\n",
       "      <th>text</th>\n",
       "    </tr>\n",
       "  </thead>\n",
       "  <tbody>\n",
       "    <tr>\n",
       "      <th>0</th>\n",
       "      <td>1</td>\n",
       "      <td>Question: A candy store has 45000 pieces of ca...</td>\n",
       "    </tr>\n",
       "    <tr>\n",
       "      <th>1</th>\n",
       "      <td>0</td>\n",
       "      <td>Question: The 12:05 p.m. train from New York t...</td>\n",
       "    </tr>\n",
       "    <tr>\n",
       "      <th>2</th>\n",
       "      <td>0</td>\n",
       "      <td>Question: Taylor Swift is on a 2-year contract...</td>\n",
       "    </tr>\n",
       "    <tr>\n",
       "      <th>3</th>\n",
       "      <td>1</td>\n",
       "      <td>Question: The Beverly Hills Bakery baked 200 l...</td>\n",
       "    </tr>\n",
       "    <tr>\n",
       "      <th>4</th>\n",
       "      <td>0</td>\n",
       "      <td>Question: There are 4 Ninja Turtles. 3 of them...</td>\n",
       "    </tr>\n",
       "    <tr>\n",
       "      <th>...</th>\n",
       "      <td>...</td>\n",
       "      <td>...</td>\n",
       "    </tr>\n",
       "    <tr>\n",
       "      <th>2536</th>\n",
       "      <td>0</td>\n",
       "      <td>Question: The volleyball team has 12 players. ...</td>\n",
       "    </tr>\n",
       "    <tr>\n",
       "      <th>2537</th>\n",
       "      <td>1</td>\n",
       "      <td>Question: Captain America is a superhero. He c...</td>\n",
       "    </tr>\n",
       "    <tr>\n",
       "      <th>2538</th>\n",
       "      <td>0</td>\n",
       "      <td>Question: 11111 is a 5-digit number. 22222 is ...</td>\n",
       "    </tr>\n",
       "    <tr>\n",
       "      <th>2539</th>\n",
       "      <td>1</td>\n",
       "      <td>Question: The T-Rex is 30 feet long. The Veloc...</td>\n",
       "    </tr>\n",
       "    <tr>\n",
       "      <th>2540</th>\n",
       "      <td>1</td>\n",
       "      <td>Question: A volleyball team has 12 players. 4 ...</td>\n",
       "    </tr>\n",
       "  </tbody>\n",
       "</table>\n",
       "<p>2540 rows × 2 columns</p>\n",
       "</div>"
      ],
      "text/plain": [
       "      label                                               text\n",
       "0         1  Question: A candy store has 45000 pieces of ca...\n",
       "1         0  Question: The 12:05 p.m. train from New York t...\n",
       "2         0  Question: Taylor Swift is on a 2-year contract...\n",
       "3         1  Question: The Beverly Hills Bakery baked 200 l...\n",
       "4         0  Question: There are 4 Ninja Turtles. 3 of them...\n",
       "...     ...                                                ...\n",
       "2536      0  Question: The volleyball team has 12 players. ...\n",
       "2537      1  Question: Captain America is a superhero. He c...\n",
       "2538      0  Question: 11111 is a 5-digit number. 22222 is ...\n",
       "2539      1  Question: The T-Rex is 30 feet long. The Veloc...\n",
       "2540      1  Question: A volleyball team has 12 players. 4 ...\n",
       "\n",
       "[2540 rows x 2 columns]"
      ]
     },
     "execution_count": 174,
     "metadata": {},
     "output_type": "execute_result"
    }
   ],
   "source": [
    "df = pd.read_csv('data/good.csv')\n",
    "df['label'] = df['label'].astype('int')\n",
    "df = df.drop('Unnamed: 0', axis =1)\n",
    "df = df[df['text'].notnull()]\n",
    "df.to_csv('data/good.csv')\n",
    "df"
   ]
  },
  {
   "cell_type": "code",
   "execution_count": 175,
   "id": "bc008617-ce8a-49f0-be42-619e1a66f24e",
   "metadata": {
    "tags": []
   },
   "outputs": [
    {
     "data": {
      "application/vnd.jupyter.widget-view+json": {
       "model_id": "11c4c43b16ff4cd0bef5835bd0e53165",
       "version_major": 2,
       "version_minor": 0
      },
      "text/plain": [
       "Downloading data files:   0%|          | 0/1 [00:00<?, ?it/s]"
      ]
     },
     "metadata": {},
     "output_type": "display_data"
    },
    {
     "data": {
      "application/vnd.jupyter.widget-view+json": {
       "model_id": "567d5766bb3442cdaba739a82e124f39",
       "version_major": 2,
       "version_minor": 0
      },
      "text/plain": [
       "Extracting data files:   0%|          | 0/1 [00:00<?, ?it/s]"
      ]
     },
     "metadata": {},
     "output_type": "display_data"
    },
    {
     "data": {
      "application/vnd.jupyter.widget-view+json": {
       "model_id": "b9aa091e517647dfb9799a81fb4c7bc1",
       "version_major": 2,
       "version_minor": 0
      },
      "text/plain": [
       "Generating train split: 0 examples [00:00, ? examples/s]"
      ]
     },
     "metadata": {},
     "output_type": "display_data"
    }
   ],
   "source": [
    "# Load the dataset\n",
    "dataset = load_dataset('csv', data_files=\"data/good.csv\")\n",
    "\n",
    "# Get the total number of examples in the dataset\n",
    "# total_examples = len(dataset['train'])\n",
    "\n",
    "# # Calculate the sizes of the training, test, and validation sets\n",
    "# train_size = int(0.8 * total_examples)\n",
    "# test_size = int(0.1 * total_examples)\n",
    "# valid_size = total_examples - train_size - test_size\n",
    "\n",
    "# # Manually split the dataset into training, test, and validation sets\n",
    "# train_dataset = dataset['train'].shuffle(seed=42).select(range(train_size))\n",
    "# test_dataset = dataset['train'].shuffle(seed=42).select(range(train_size, train_size + test_size))\n",
    "# valid_dataset = dataset['train'].shuffle(seed=42).select(range(train_size + test_size, total_examples))\n",
    "\n",
    "dataset_train_valid_test = dataset['train'].train_test_split(test_size = .2, seed = 42)\n",
    "dataset_valid_test = dataset_train_valid_test['test'].train_test_split(test_size = .5, seed = 42)\n",
    "# Create a DatasetDict to hold the splits\n",
    "train_test_valid_dataset = DatasetDict({\n",
    "    'train': dataset_train_valid_test['train'],\n",
    "    'test': dataset_valid_test['train'],\n",
    "    'valid': dataset_valid_test['test']\n",
    "})"
   ]
  },
  {
   "cell_type": "code",
   "execution_count": 176,
   "id": "9910815e-6dcd-4bd6-8579-cc8fd636430f",
   "metadata": {
    "tags": []
   },
   "outputs": [
    {
     "data": {
      "application/vnd.jupyter.widget-view+json": {
       "model_id": "6e6cf38b617e4692af7af9e4ce509837",
       "version_major": 2,
       "version_minor": 0
      },
      "text/plain": [
       "Map:   0%|          | 0/2032 [00:00<?, ? examples/s]"
      ]
     },
     "metadata": {},
     "output_type": "display_data"
    },
    {
     "data": {
      "application/vnd.jupyter.widget-view+json": {
       "model_id": "9b8f691607f146d38d7696133c917525",
       "version_major": 2,
       "version_minor": 0
      },
      "text/plain": [
       "Map:   0%|          | 0/254 [00:00<?, ? examples/s]"
      ]
     },
     "metadata": {},
     "output_type": "display_data"
    },
    {
     "data": {
      "application/vnd.jupyter.widget-view+json": {
       "model_id": "0641680d30c24a678cf0d1ec1c2479e2",
       "version_major": 2,
       "version_minor": 0
      },
      "text/plain": [
       "Map:   0%|          | 0/254 [00:00<?, ? examples/s]"
      ]
     },
     "metadata": {},
     "output_type": "display_data"
    }
   ],
   "source": [
    "#Set up tokenizer\n",
    "from transformers import AutoTokenizer\n",
    "# tokenizer = AutoTokenizer.from_pretrained(\"meta-llama/Llama-2-7b-hf\", use_auth_token=True)\n",
    "# tokenizer.add_special_tokens({\"pad_token\":\"[PAD]\"})\n",
    "\n",
    "tokenizer = AutoTokenizer.from_pretrained(\"distilbert-base-uncased\")\n",
    "#tokenizer.add_special_tokens({\"pad_token\":\"[PAD]\"})\n",
    "\n",
    "#Preprocess and collate data\n",
    "def preprocess_function(examples):\n",
    "    return tokenizer(examples[\"text\"], truncation=True)\n",
    "\n",
    "tokenized_train_test_valid_dataset = train_test_valid_dataset.map(preprocess_function, batched=True)"
   ]
  },
  {
   "cell_type": "code",
   "execution_count": 177,
   "id": "15462d34-8623-4739-aa2f-e48efc2498f2",
   "metadata": {
    "tags": []
   },
   "outputs": [],
   "source": [
    "from transformers import DataCollatorWithPadding\n",
    "data_collator = DataCollatorWithPadding(tokenizer=tokenizer)\n",
    "\n",
    "#Prepare evaluation function\n",
    "import evaluate\n",
    "accuracy = evaluate.load(\"accuracy\")\n",
    "\n",
    "import numpy as np\n",
    "def compute_metrics(eval_pred):\n",
    "    predictions, labels = eval_pred\n",
    "    predictions = np.argmax(predictions, axis=1)\n",
    "    return accuracy.compute(predictions=predictions, references=labels)\n",
    "\n",
    "# roc_auc = evaluate.load(\"roc_auc\")\n",
    "\n",
    "# import numpy as np\n",
    "# def compute_metrics(eval_pred):\n",
    "#     predictions, labels = eval_pred\n",
    "#     predictions = np.argmax(predictions, axis=1)\n",
    "#     return roc_auc.compute(prediction_scores=predictions, references=labels)\n",
    "\n",
    "#Training\n",
    "id2label = {0: \"BAD\", 1: \"GOOD\"}\n",
    "label2id = {\"BAD\": 0, \"GOOD\": 1}"
   ]
  },
  {
   "cell_type": "code",
   "execution_count": 178,
   "id": "99cc9785-73b0-4139-af5f-c8fe865d7bec",
   "metadata": {
    "tags": []
   },
   "outputs": [
    {
     "name": "stderr",
     "output_type": "stream",
     "text": [
      "Some weights of DistilBertForSequenceClassification were not initialized from the model checkpoint at distilbert-base-uncased and are newly initialized: ['classifier.weight', 'pre_classifier.weight', 'classifier.bias', 'pre_classifier.bias']\n",
      "You should probably TRAIN this model on a down-stream task to be able to use it for predictions and inference.\n"
     ]
    }
   ],
   "source": [
    "#Import model\n",
    "from transformers import AutoModelForSequenceClassification, TrainingArguments, Trainer\n",
    "\n",
    "# model = AutoModelForSequenceClassification.from_pretrained(\n",
    "#     \"meta-llama/Llama-2-7b-hf\", num_labels=2, id2label=id2label, label2id=label2id,\n",
    "#         use_auth_token=True,  \n",
    "#       # max_memory=max_memory,\n",
    "#       # torch_dtype=torch.bfloat16, \n",
    "#       device_map = 'auto',\n",
    "#         quantization_config=BitsAndBytesConfig(\n",
    "#             load_in_4bit=True,\n",
    "#             bnb_4bit_compute_dtype=torch.bfloat16,\n",
    "#             bnb_4bit_use_double_quant=True,\n",
    "#             bnb_4bit_quant_type='nf4'))\n",
    "\n",
    "# model = AutoModelForSequenceClassification.from_pretrained(\n",
    "#     \"bert-base-uncased\", num_labels=2, id2label=id2label, label2id=label2id,\n",
    "#         use_auth_token=True,  \n",
    "#       # max_memory=max_memory,\n",
    "#       # torch_dtype=torch.bfloat16, \n",
    "#         quantization_config=BitsAndBytesConfig(\n",
    "#             load_in_4bit=True,\n",
    "#             bnb_4bit_compute_dtype=torch.bfloat16,\n",
    "#             bnb_4bit_use_double_quant=True,\n",
    "#             bnb_4bit_quant_type='nf4'))\n",
    "\n",
    "model = AutoModelForSequenceClassification.from_pretrained(\n",
    "    \"distilbert-base-uncased\", num_labels=2, id2label=id2label, label2id=label2id\n",
    ")"
   ]
  },
  {
   "cell_type": "code",
   "execution_count": 179,
   "id": "aa9a0dce-5f6b-4ea2-a59a-026f93b07bf7",
   "metadata": {
    "tags": []
   },
   "outputs": [
    {
     "name": "stderr",
     "output_type": "stream",
     "text": [
      "/opt/conda/lib/python3.10/site-packages/transformers/optimization.py:411: FutureWarning: This implementation of AdamW is deprecated and will be removed in a future version. Use the PyTorch implementation torch.optim.AdamW instead, or set `no_deprecation_warning=True` to disable this warning\n",
      "  warnings.warn(\n",
      "You're using a DistilBertTokenizerFast tokenizer. Please note that with a fast tokenizer, using the `__call__` method is faster than using a method to encode the text followed by a call to the `pad` method to get a padded encoding.\n"
     ]
    },
    {
     "data": {
      "text/html": [
       "\n",
       "    <div>\n",
       "      \n",
       "      <progress value='1016' max='1016' style='width:300px; height:20px; vertical-align: middle;'></progress>\n",
       "      [1016/1016 05:05, Epoch 8/8]\n",
       "    </div>\n",
       "    <table border=\"1\" class=\"dataframe\">\n",
       "  <thead>\n",
       " <tr style=\"text-align: left;\">\n",
       "      <th>Epoch</th>\n",
       "      <th>Training Loss</th>\n",
       "      <th>Validation Loss</th>\n",
       "      <th>Accuracy</th>\n",
       "    </tr>\n",
       "  </thead>\n",
       "  <tbody>\n",
       "    <tr>\n",
       "      <td>1</td>\n",
       "      <td>No log</td>\n",
       "      <td>0.631144</td>\n",
       "      <td>0.574803</td>\n",
       "    </tr>\n",
       "    <tr>\n",
       "      <td>2</td>\n",
       "      <td>No log</td>\n",
       "      <td>0.625854</td>\n",
       "      <td>0.602362</td>\n",
       "    </tr>\n",
       "    <tr>\n",
       "      <td>3</td>\n",
       "      <td>No log</td>\n",
       "      <td>0.582048</td>\n",
       "      <td>0.704724</td>\n",
       "    </tr>\n",
       "    <tr>\n",
       "      <td>4</td>\n",
       "      <td>0.548300</td>\n",
       "      <td>0.615226</td>\n",
       "      <td>0.740157</td>\n",
       "    </tr>\n",
       "    <tr>\n",
       "      <td>5</td>\n",
       "      <td>0.548300</td>\n",
       "      <td>0.790113</td>\n",
       "      <td>0.708661</td>\n",
       "    </tr>\n",
       "    <tr>\n",
       "      <td>6</td>\n",
       "      <td>0.548300</td>\n",
       "      <td>1.006566</td>\n",
       "      <td>0.696850</td>\n",
       "    </tr>\n",
       "    <tr>\n",
       "      <td>7</td>\n",
       "      <td>0.548300</td>\n",
       "      <td>1.183374</td>\n",
       "      <td>0.724409</td>\n",
       "    </tr>\n",
       "    <tr>\n",
       "      <td>8</td>\n",
       "      <td>0.185400</td>\n",
       "      <td>1.240531</td>\n",
       "      <td>0.692913</td>\n",
       "    </tr>\n",
       "  </tbody>\n",
       "</table><p>"
      ],
      "text/plain": [
       "<IPython.core.display.HTML object>"
      ]
     },
     "metadata": {},
     "output_type": "display_data"
    },
    {
     "name": "stdout",
     "output_type": "stream",
     "text": [
      "Dataset({\n",
      "    features: ['Unnamed: 0', 'label', 'text', 'input_ids', 'attention_mask'],\n",
      "    num_rows: 254\n",
      "})\n"
     ]
    }
   ],
   "source": [
    "training_args = TrainingArguments(\n",
    "    output_dir=\"good_classifier\",\n",
    "    learning_rate=.0001,\n",
    "    per_device_train_batch_size=16,\n",
    "    per_device_eval_batch_size=16,\n",
    "    num_train_epochs=8,\n",
    "    weight_decay=0.1,\n",
    "    evaluation_strategy=\"epoch\",\n",
    "    save_strategy=\"epoch\",\n",
    "    load_best_model_at_end=True)\n",
    "\n",
    "trainer = Trainer(\n",
    "    model=model,\n",
    "    args=training_args,\n",
    "    train_dataset=tokenized_train_test_valid_dataset[\"train\"],\n",
    "    eval_dataset=tokenized_train_test_valid_dataset[\"valid\"],\n",
    "    tokenizer=tokenizer,\n",
    "    data_collator=data_collator,\n",
    "    compute_metrics=compute_metrics,\n",
    ")\n",
    "\n",
    "#trainer.train(resume_from_checkpoint=True)\n",
    "trainer.train()\n",
    "print(tokenized_train_test_valid_dataset[\"test\"])\n",
    "test_input_data = tokenized_train_test_valid_dataset[\"test\"][\"input_ids\"]"
   ]
  },
  {
   "cell_type": "code",
   "execution_count": 180,
   "id": "ebfe321e-b515-4c4a-bce2-20b881d8f349",
   "metadata": {
    "tags": []
   },
   "outputs": [
    {
     "data": {
      "text/html": [],
      "text/plain": [
       "<IPython.core.display.HTML object>"
      ]
     },
     "metadata": {},
     "output_type": "display_data"
    },
    {
     "data": {
      "text/plain": [
       "PredictionOutput(predictions=array([[-1.05403580e-01,  1.53633922e-01],\n",
       "       [ 6.09290414e-02, -5.34317605e-02],\n",
       "       [-4.42979664e-01,  3.64052027e-01],\n",
       "       [ 7.41577387e-01, -5.98230779e-01],\n",
       "       [-1.39217234e+00,  1.22615516e+00],\n",
       "       [ 3.11386377e-01, -2.59676754e-01],\n",
       "       [-8.81905794e-01,  7.69264221e-01],\n",
       "       [ 3.58980715e-01, -2.98232138e-01],\n",
       "       [-2.16182977e-01,  1.81804225e-01],\n",
       "       [ 7.90851533e-01, -6.31054401e-01],\n",
       "       [ 6.89657569e-01, -5.51742911e-01],\n",
       "       [-1.31638515e+00,  1.14057374e+00],\n",
       "       [ 7.78490365e-01, -6.26768827e-01],\n",
       "       [-6.13770541e-03,  3.65272909e-02],\n",
       "       [-4.17527884e-01,  3.33091706e-01],\n",
       "       [ 9.64136273e-02, -5.37400506e-02],\n",
       "       [ 7.72704840e-01, -6.20708764e-01],\n",
       "       [-1.95953667e-01,  1.85208619e-01],\n",
       "       [-1.33032691e+00,  1.12376618e+00],\n",
       "       [-1.07179654e+00,  9.31076288e-01],\n",
       "       [-8.86894882e-01,  7.71629632e-01],\n",
       "       [-1.46392405e-01,  1.26147375e-01],\n",
       "       [-1.03455544e-01,  9.32414308e-02],\n",
       "       [-1.22819769e+00,  1.03995299e+00],\n",
       "       [ 7.29240775e-01, -5.71461320e-01],\n",
       "       [ 7.51637042e-01, -5.98467469e-01],\n",
       "       [ 2.93538451e-01, -2.40573496e-01],\n",
       "       [-6.90943122e-01,  5.80491602e-01],\n",
       "       [-1.19078743e+00,  1.02934825e+00],\n",
       "       [-7.05076396e-01,  5.81189096e-01],\n",
       "       [-1.33339429e+00,  1.14376462e+00],\n",
       "       [-1.27454627e+00,  1.13863754e+00],\n",
       "       [ 7.05902815e-01, -5.44936121e-01],\n",
       "       [ 3.57375354e-01, -2.70424545e-01],\n",
       "       [-1.26637854e-02, -7.26567116e-03],\n",
       "       [ 4.34673369e-01, -3.53600919e-01],\n",
       "       [ 7.32361436e-01, -5.85261941e-01],\n",
       "       [ 2.46396825e-01, -1.87362105e-01],\n",
       "       [ 6.69372201e-01, -5.44757843e-01],\n",
       "       [-1.26849341e+00,  1.09414637e+00],\n",
       "       [ 4.13727969e-01, -3.33552331e-01],\n",
       "       [ 1.08892940e-01, -8.13194662e-02],\n",
       "       [-1.13313019e+00,  1.02831435e+00],\n",
       "       [-5.21988571e-01,  4.68175322e-01],\n",
       "       [-6.27221704e-01,  5.28806329e-01],\n",
       "       [-6.74616873e-01,  5.88345647e-01],\n",
       "       [-1.17174840e+00,  1.05205524e+00],\n",
       "       [ 7.69268215e-01, -6.11830056e-01],\n",
       "       [ 7.68142402e-01, -6.20610118e-01],\n",
       "       [-1.04069221e+00,  8.84468257e-01],\n",
       "       [-1.10828602e+00,  9.75071728e-01],\n",
       "       [ 6.49766743e-01, -5.10215044e-01],\n",
       "       [ 3.23508382e-01, -2.67164320e-01],\n",
       "       [-6.68081939e-01,  5.69114864e-01],\n",
       "       [-2.27676466e-01,  2.18145236e-01],\n",
       "       [ 7.27943122e-01, -5.87134242e-01],\n",
       "       [ 6.42620623e-01, -5.10898650e-01],\n",
       "       [ 7.87445903e-01, -6.30976677e-01],\n",
       "       [-1.16687095e+00,  1.03832281e+00],\n",
       "       [ 6.99793041e-01, -5.65588653e-01],\n",
       "       [ 2.96717227e-01, -2.46585518e-01],\n",
       "       [-6.45044222e-02,  4.96073440e-02],\n",
       "       [ 7.73543835e-01, -6.17658257e-01],\n",
       "       [-1.34991288e+00,  1.20464790e+00],\n",
       "       [-2.28630096e-01,  2.28582114e-01],\n",
       "       [ 5.03709674e-01, -4.03123468e-01],\n",
       "       [-9.63873327e-01,  8.37177992e-01],\n",
       "       [ 7.24984586e-01, -5.77466726e-01],\n",
       "       [-1.34575665e+00,  1.20232141e+00],\n",
       "       [ 1.98681861e-01, -1.57411650e-01],\n",
       "       [ 7.70492375e-01, -6.18619978e-01],\n",
       "       [ 4.61563170e-01, -3.65157068e-01],\n",
       "       [-1.34134245e+00,  1.19360971e+00],\n",
       "       [-9.91447985e-01,  8.95336390e-01],\n",
       "       [ 2.02531621e-01, -1.56650364e-01],\n",
       "       [-4.20521587e-01,  3.58283907e-01],\n",
       "       [-1.04142880e+00,  8.75971437e-01],\n",
       "       [-3.66598010e-01,  3.17256987e-01],\n",
       "       [ 3.71437818e-01, -3.05310905e-01],\n",
       "       [-9.37525451e-01,  7.97723651e-01],\n",
       "       [ 7.40970969e-01, -5.95178425e-01],\n",
       "       [-1.73766464e-01,  1.55677095e-01],\n",
       "       [-1.53087944e-01,  1.35505319e-01],\n",
       "       [ 2.71327756e-02, -1.68079920e-02],\n",
       "       [-8.33425581e-01,  7.52828360e-01],\n",
       "       [-2.54631639e-01,  1.95708618e-01],\n",
       "       [-3.24412376e-01,  2.68431038e-01],\n",
       "       [-3.31080228e-01,  2.98404753e-01],\n",
       "       [-8.59328955e-02,  5.31794056e-02],\n",
       "       [-6.47704303e-01,  5.30969024e-01],\n",
       "       [-7.77735293e-01,  6.71452463e-01],\n",
       "       [ 7.83938944e-01, -6.23315573e-01],\n",
       "       [ 7.38957226e-01, -5.93010783e-01],\n",
       "       [-4.45502885e-02,  5.73269241e-02],\n",
       "       [-4.29309547e-01,  3.16323280e-01],\n",
       "       [-1.08739209e+00,  9.58116353e-01],\n",
       "       [-1.34452891e+00,  1.19876420e+00],\n",
       "       [-6.66377127e-01,  6.33559525e-01],\n",
       "       [ 5.10173321e-01, -4.11134154e-01],\n",
       "       [ 5.11328399e-01, -4.16131735e-01],\n",
       "       [ 5.59459567e-01, -4.56414461e-01],\n",
       "       [ 4.21349198e-01, -3.30648124e-01],\n",
       "       [-1.35043752e+00,  1.20733070e+00],\n",
       "       [ 6.98530853e-01, -5.57203591e-01],\n",
       "       [ 5.77863574e-01, -4.68347847e-01],\n",
       "       [-6.83931649e-01,  6.01949036e-01],\n",
       "       [ 7.19667494e-01, -5.80306411e-01],\n",
       "       [ 2.38445342e-01, -2.00071141e-01],\n",
       "       [ 7.71528423e-01, -6.13711774e-01],\n",
       "       [-8.85815799e-01,  7.58012712e-01],\n",
       "       [-4.09366012e-01,  3.31595421e-01],\n",
       "       [-2.10370272e-01,  1.83873773e-01],\n",
       "       [ 6.24860406e-01, -5.11409640e-01],\n",
       "       [ 7.60375917e-01, -6.12989962e-01],\n",
       "       [ 1.44048646e-01, -1.06411017e-01],\n",
       "       [-2.24237576e-01,  2.07122236e-01],\n",
       "       [-9.02044475e-01,  8.10217977e-01],\n",
       "       [ 6.56931341e-01, -5.27400494e-01],\n",
       "       [-1.17635763e+00,  9.97239888e-01],\n",
       "       [ 7.28491604e-01, -5.85209131e-01],\n",
       "       [-1.33128583e+00,  1.18273354e+00],\n",
       "       [ 7.50465512e-01, -6.04177177e-01],\n",
       "       [ 7.33914196e-01, -5.82694709e-01],\n",
       "       [ 7.30919361e-01, -5.87334096e-01],\n",
       "       [ 7.22518384e-01, -5.84779680e-01],\n",
       "       [ 3.01872671e-01, -2.43985012e-01],\n",
       "       [ 6.23192608e-01, -4.80114877e-01],\n",
       "       [ 5.81874073e-01, -4.75271970e-01],\n",
       "       [-1.23297656e+00,  1.10096133e+00],\n",
       "       [-1.29841924e-01,  1.08938850e-01],\n",
       "       [ 7.68353224e-01, -6.17034495e-01],\n",
       "       [-5.55532016e-02,  6.81905001e-02],\n",
       "       [-8.89511257e-02,  7.33888820e-02],\n",
       "       [-2.31768101e-01,  1.98594972e-01],\n",
       "       [-1.38066518e+00,  1.21008193e+00],\n",
       "       [-2.59802014e-01,  2.69648880e-01],\n",
       "       [-7.88124442e-01,  6.75255656e-01],\n",
       "       [ 6.37035131e-01, -5.17891943e-01],\n",
       "       [-7.30621219e-01,  6.17245317e-01],\n",
       "       [ 2.11481228e-01, -1.76471323e-01],\n",
       "       [ 7.44954348e-01, -5.99788964e-01],\n",
       "       [ 6.57291055e-01, -5.27432799e-01],\n",
       "       [-2.16217600e-02,  9.24810860e-03],\n",
       "       [-6.20657921e-01,  5.33099711e-01],\n",
       "       [ 7.69612670e-01, -6.21236742e-01],\n",
       "       [ 7.07828104e-01, -5.66030920e-01],\n",
       "       [ 3.42694819e-01, -2.55161226e-01],\n",
       "       [-7.21591592e-01,  6.19898975e-01],\n",
       "       [ 7.18736708e-01, -5.73371410e-01],\n",
       "       [ 9.51884836e-02, -7.33342692e-02],\n",
       "       [ 7.80548215e-01, -6.24409556e-01],\n",
       "       [-6.81249022e-01,  5.89269698e-01],\n",
       "       [ 7.92371154e-01, -6.29618049e-01],\n",
       "       [ 4.07695733e-02, -8.32307991e-03],\n",
       "       [ 7.61084914e-01, -6.14137828e-01],\n",
       "       [-6.35999560e-01,  5.40828526e-01],\n",
       "       [ 4.65949886e-02, -1.95642617e-02],\n",
       "       [-7.91383013e-02,  8.61764476e-02],\n",
       "       [-2.36488894e-01,  2.03885660e-01],\n",
       "       [ 7.65692294e-01, -6.15071476e-01],\n",
       "       [-7.95378257e-03,  1.69802699e-02],\n",
       "       [ 7.70523667e-01, -6.19293094e-01],\n",
       "       [-1.52102113e-01,  1.44824699e-01],\n",
       "       [-3.74543816e-01,  3.09893042e-01],\n",
       "       [-4.15118694e-01,  3.54127645e-01],\n",
       "       [-2.22742900e-01,  2.33251825e-01],\n",
       "       [-2.90271342e-01,  2.16240644e-01],\n",
       "       [-1.01462398e-02,  7.04498310e-03],\n",
       "       [ 7.74643660e-01, -6.13545954e-01],\n",
       "       [ 7.66372561e-01, -6.08342290e-01],\n",
       "       [ 4.13993187e-02, -1.56719591e-02],\n",
       "       [ 1.33888543e-01, -1.02009870e-01],\n",
       "       [ 6.57563031e-01, -5.37175417e-01],\n",
       "       [-6.86524034e-01,  5.97582161e-01],\n",
       "       [ 5.08132242e-02, -2.71744560e-03],\n",
       "       [-3.91210407e-01,  3.14789802e-01],\n",
       "       [ 1.22781232e-01, -7.82596990e-02],\n",
       "       [ 2.57954210e-01, -1.84592471e-01],\n",
       "       [-1.04583395e+00,  9.09915209e-01],\n",
       "       [-7.70408630e-01,  6.71034038e-01],\n",
       "       [-1.35475564e+00,  1.20153677e+00],\n",
       "       [-1.01330578e+00,  8.83230090e-01],\n",
       "       [-6.52127445e-01,  5.16637385e-01],\n",
       "       [ 7.09984601e-01, -5.77445626e-01],\n",
       "       [-1.23167253e+00,  1.08912921e+00],\n",
       "       [ 6.42250240e-01, -5.14890254e-01],\n",
       "       [-3.43607932e-01,  2.81253070e-01],\n",
       "       [-2.42359474e-01,  2.25810990e-01],\n",
       "       [ 6.77274048e-01, -5.36135375e-01],\n",
       "       [-1.35275817e+00,  1.20605981e+00],\n",
       "       [-4.49404120e-01,  4.16197449e-01],\n",
       "       [ 7.75701404e-01, -6.21589184e-01],\n",
       "       [ 7.68681526e-01, -6.17243111e-01],\n",
       "       [ 3.06834400e-01, -2.41147935e-01],\n",
       "       [ 7.81028450e-01, -6.19808078e-01],\n",
       "       [ 5.96939802e-01, -4.81796771e-01],\n",
       "       [-8.89108658e-01,  7.49448001e-01],\n",
       "       [-1.44428268e-01,  1.43326759e-01],\n",
       "       [ 7.47159898e-01, -6.01086140e-01],\n",
       "       [-2.85874754e-01,  2.47358724e-01],\n",
       "       [ 6.48812890e-01, -5.32284319e-01],\n",
       "       [-1.23028433e+00,  1.05500150e+00],\n",
       "       [-1.12138405e-01,  1.29168391e-01],\n",
       "       [-7.42905855e-01,  6.53885186e-01],\n",
       "       [-5.56636602e-02,  6.13760240e-02],\n",
       "       [-1.22712040e+00,  1.05756760e+00],\n",
       "       [ 2.13265568e-01, -1.90601677e-01],\n",
       "       [-7.47886777e-01,  6.03223443e-01],\n",
       "       [ 7.26856947e-01, -5.85522413e-01],\n",
       "       [-1.07725000e+00,  9.58965778e-01],\n",
       "       [ 7.72295818e-02, -5.28792068e-02],\n",
       "       [ 9.94900838e-02, -3.68204787e-02],\n",
       "       [-2.21906200e-01,  1.90522760e-01],\n",
       "       [ 5.78593254e-01, -4.65594530e-01],\n",
       "       [ 7.37899005e-01, -5.91297925e-01],\n",
       "       [-1.35057974e+00,  1.16008079e+00],\n",
       "       [ 7.80687213e-01, -6.25532329e-01],\n",
       "       [ 3.82189125e-01, -3.15821826e-01],\n",
       "       [-2.79646844e-01,  2.74055958e-01],\n",
       "       [ 7.64177501e-01, -6.10063195e-01],\n",
       "       [-1.24425173e+00,  1.10515893e+00],\n",
       "       [-7.84445286e-01,  6.67387843e-01],\n",
       "       [-1.08822024e+00,  9.62186933e-01],\n",
       "       [ 3.27774346e-01, -2.86499560e-01],\n",
       "       [ 7.63542652e-02, -7.09938332e-02],\n",
       "       [ 3.23936641e-01, -2.65216321e-01],\n",
       "       [ 3.37632805e-01, -2.83136696e-01],\n",
       "       [-7.48474360e-01,  5.80105364e-01],\n",
       "       [-5.86030781e-01,  4.94824111e-01],\n",
       "       [ 7.41528273e-01, -5.99345803e-01],\n",
       "       [ 6.47639155e-01, -5.12263000e-01],\n",
       "       [ 6.94728196e-01, -5.67376792e-01],\n",
       "       [-2.02988699e-01,  1.85500875e-01],\n",
       "       [ 7.71151111e-02, -4.19226959e-02],\n",
       "       [ 5.57850122e-01, -4.45785612e-01],\n",
       "       [-7.77019680e-01,  6.73976243e-01],\n",
       "       [ 1.28933400e-01, -8.68851170e-02],\n",
       "       [ 7.46782601e-01, -6.03189766e-01],\n",
       "       [ 5.06885111e-01, -4.07379508e-01],\n",
       "       [ 7.54050791e-01, -6.07210040e-01],\n",
       "       [ 1.02451764e-01,  9.46388580e-04],\n",
       "       [ 5.04688680e-01, -4.25173163e-01],\n",
       "       [-2.53955573e-01,  1.92881212e-01],\n",
       "       [ 3.83895576e-01, -2.87932724e-01],\n",
       "       [-1.09713770e-01,  1.23598255e-01],\n",
       "       [-9.88400996e-01,  8.62573087e-01],\n",
       "       [ 4.24767673e-01, -3.61483663e-01],\n",
       "       [-1.14648294e+00,  9.88251448e-01],\n",
       "       [ 6.98189616e-01, -5.60649335e-01],\n",
       "       [-1.01910722e+00,  9.22957301e-01],\n",
       "       [ 1.63038686e-01, -1.18762106e-01],\n",
       "       [ 4.87143070e-01, -3.66047621e-01],\n",
       "       [ 2.26774529e-01, -1.83194801e-01],\n",
       "       [-1.02803528e-01,  1.48726940e-01]], dtype=float32), label_ids=array([1, 0, 1, 0, 1, 1, 1, 0, 1, 1, 0, 1, 0, 0, 0, 1, 0, 1, 1, 0, 0, 0,\n",
       "       1, 1, 0, 0, 0, 1, 1, 0, 1, 1, 0, 0, 0, 0, 1, 1, 0, 1, 1, 0, 1, 0,\n",
       "       0, 0, 1, 0, 0, 1, 1, 0, 0, 0, 1, 0, 1, 0, 1, 0, 0, 0, 0, 1, 1, 1,\n",
       "       1, 0, 1, 1, 0, 1, 1, 1, 1, 1, 1, 1, 0, 1, 1, 0, 0, 1, 1, 1, 1, 0,\n",
       "       1, 1, 1, 0, 0, 1, 1, 1, 0, 1, 0, 1, 1, 0, 1, 0, 0, 1, 0, 1, 0, 1,\n",
       "       0, 0, 0, 1, 1, 1, 1, 0, 0, 1, 1, 1, 0, 1, 1, 1, 0, 0, 1, 0, 0, 1,\n",
       "       1, 0, 1, 1, 1, 0, 1, 0, 0, 0, 1, 1, 1, 1, 0, 1, 1, 0, 0, 1, 0, 0,\n",
       "       1, 1, 1, 1, 0, 0, 1, 1, 1, 1, 1, 1, 0, 0, 0, 0, 1, 1, 0, 0, 1, 1,\n",
       "       1, 0, 1, 1, 1, 1, 1, 1, 1, 0, 0, 0, 0, 1, 1, 1, 0, 1, 0, 1, 0, 0,\n",
       "       1, 1, 0, 1, 0, 1, 0, 1, 1, 1, 0, 0, 1, 1, 0, 1, 1, 1, 0, 0, 1, 0,\n",
       "       1, 1, 1, 0, 0, 0, 1, 1, 1, 0, 0, 0, 1, 1, 1, 1, 1, 0, 0, 0, 1, 0,\n",
       "       1, 0, 0, 1, 0, 1, 0, 1, 1, 1, 0, 1]), metrics={'test_loss': 0.5893213748931885, 'test_accuracy': 0.6692913385826772, 'test_runtime': 1.3558, 'test_samples_per_second': 187.339, 'test_steps_per_second': 11.801})"
      ]
     },
     "execution_count": 180,
     "metadata": {},
     "output_type": "execute_result"
    }
   ],
   "source": [
    "predictions = trainer.predict(test_dataset = tokenized_train_test_valid_dataset[\"test\"])\n",
    "predictions"
   ]
  },
  {
   "cell_type": "code",
   "execution_count": null,
   "id": "8c1f2674-b128-4c90-b1c7-2c38c99a1707",
   "metadata": {},
   "outputs": [],
   "source": [
    "from sklearn.metrics import roc_curve, auc\n",
    "import matplotlib.pyplot as plt\n",
    "import torch\n",
    "import torch.nn.functional as F\n",
    "y_scores = predictions[0]\n",
    "y_scores = torch.tensor(y_scores)\n",
    "y_scores = F.softmax(y_scores, dim=1).numpy()\n",
    "y_scores = y_scores[:, 1]\n",
    "y_true = predictions[1]\n",
    "\n",
    "# Assuming y_true contains true labels (0 or 1) and y_scores contains predicted probabilities\n",
    "fpr, tpr, thresholds = roc_curve(y_true, y_scores)\n",
    "roc_auc = auc(fpr, tpr)\n",
    "\n",
    "# Plot ROC curve\n",
    "plt.figure(figsize=(8, 8))\n",
    "plt.plot(fpr, tpr, color='darkorange', lw=2, label=f'ROC curve (AUC = {roc_auc:.2f})')\n",
    "plt.plot([0, 1], [0, 1], color='navy', lw=2, linestyle='--')\n",
    "plt.xlabel('False Positive Rate')\n",
    "plt.ylabel('True Positive Rate')\n",
    "plt.title('Receiver Operating Characteristic (ROC) Curve')\n",
    "plt.legend(loc='lower right')\n",
    "plt.show()"
   ]
  },
  {
   "cell_type": "markdown",
   "id": "0f3d5663-07de-4e0a-be2d-3e08f25dd866",
   "metadata": {},
   "source": [
    "# Testing on IMDB Dataset"
   ]
  },
  {
   "cell_type": "code",
   "execution_count": 16,
   "id": "f3377afa-26bb-4be5-96ee-00969879a288",
   "metadata": {
    "tags": []
   },
   "outputs": [],
   "source": [
    "from datasets import load_dataset\n",
    "\n",
    "imdb = load_dataset(\"imdb\")\n",
    "\n",
    "from transformers import AutoTokenizer\n",
    "\n",
    "tokenizer = AutoTokenizer.from_pretrained(\"distilbert-base-uncased\")\n",
    "\n",
    "def preprocess_function(examples):\n",
    "    return tokenizer(examples[\"text\"], truncation=True)\n",
    "tokenized_imdb = imdb.map(preprocess_function, batched=True)\n",
    "from transformers import DataCollatorWithPadding\n",
    "\n",
    "data_collator = DataCollatorWithPadding(tokenizer=tokenizer)\n",
    "import evaluate\n",
    "\n",
    "accuracy = evaluate.load(\"accuracy\")\n",
    "\n",
    "import numpy as np\n",
    "\n",
    "\n",
    "def compute_metrics(eval_pred):\n",
    "    predictions, labels = eval_pred\n",
    "    predictions = np.argmax(predictions, axis=1)\n",
    "    return accuracy.compute(predictions=predictions, references=labels)\n",
    "\n",
    "id2label = {0: \"NEGATIVE\", 1: \"POSITIVE\"}\n",
    "label2id = {\"NEGATIVE\": 0, \"POSITIVE\": 1}"
   ]
  },
  {
   "cell_type": "code",
   "execution_count": 17,
   "id": "a8bf2caf-f0b9-468f-970b-3d8a50751958",
   "metadata": {
    "tags": []
   },
   "outputs": [],
   "source": [
    "import sys\n",
    "#sys.path.append(\"/home/sagemaker-user/bitsandbytes\")\n",
    "from transformers import AutoModelForSequenceClassification, TrainingArguments, Trainer\n",
    "import bitsandbytes"
   ]
  },
  {
   "cell_type": "code",
   "execution_count": 20,
   "id": "023e2b34-54b4-45d1-8028-f357e869b9be",
   "metadata": {
    "tags": []
   },
   "outputs": [
    {
     "name": "stderr",
     "output_type": "stream",
     "text": [
      "Some weights of DistilBertForSequenceClassification were not initialized from the model checkpoint at distilbert-base-uncased and are newly initialized: ['pre_classifier.weight', 'pre_classifier.bias', 'classifier.weight', 'classifier.bias']\n",
      "You should probably TRAIN this model on a down-stream task to be able to use it for predictions and inference.\n",
      "You're using a DistilBertTokenizerFast tokenizer. Please note that with a fast tokenizer, using the `__call__` method is faster than using a method to encode the text followed by a call to the `pad` method to get a padded encoding.\n"
     ]
    },
    {
     "data": {
      "text/html": [
       "\n",
       "    <div>\n",
       "      \n",
       "      <progress value='351' max='6252' style='width:300px; height:20px; vertical-align: middle;'></progress>\n",
       "      [ 351/6252 23:41 < 6:40:27, 0.25 it/s, Epoch 0.22/4]\n",
       "    </div>\n",
       "    <table border=\"1\" class=\"dataframe\">\n",
       "  <thead>\n",
       " <tr style=\"text-align: left;\">\n",
       "      <th>Step</th>\n",
       "      <th>Training Loss</th>\n",
       "      <th>Validation Loss</th>\n",
       "      <th>Accuracy</th>\n",
       "    </tr>\n",
       "  </thead>\n",
       "  <tbody>\n",
       "    <tr>\n",
       "      <td>100</td>\n",
       "      <td>No log</td>\n",
       "      <td>0.302497</td>\n",
       "      <td>0.876960</td>\n",
       "    </tr>\n",
       "    <tr>\n",
       "      <td>200</td>\n",
       "      <td>No log</td>\n",
       "      <td>0.250724</td>\n",
       "      <td>0.900440</td>\n",
       "    </tr>\n",
       "    <tr>\n",
       "      <td>300</td>\n",
       "      <td>No log</td>\n",
       "      <td>0.263815</td>\n",
       "      <td>0.904360</td>\n",
       "    </tr>\n",
       "  </tbody>\n",
       "</table><p>"
      ],
      "text/plain": [
       "<IPython.core.display.HTML object>"
      ]
     },
     "metadata": {},
     "output_type": "display_data"
    },
    {
     "ename": "KeyboardInterrupt",
     "evalue": "",
     "output_type": "error",
     "traceback": [
      "\u001b[0;31m---------------------------------------------------------------------------\u001b[0m",
      "\u001b[0;31mKeyboardInterrupt\u001b[0m                         Traceback (most recent call last)",
      "Cell \u001b[0;32mIn[20], line 28\u001b[0m\n\u001b[1;32m      5\u001b[0m training_args \u001b[38;5;241m=\u001b[39m TrainingArguments(\n\u001b[1;32m      6\u001b[0m     output_dir\u001b[38;5;241m=\u001b[39m\u001b[38;5;124m\"\u001b[39m\u001b[38;5;124mtext_classifier\u001b[39m\u001b[38;5;124m\"\u001b[39m,\n\u001b[1;32m      7\u001b[0m     learning_rate\u001b[38;5;241m=\u001b[39m\u001b[38;5;241m2e-5\u001b[39m,\n\u001b[0;32m   (...)\u001b[0m\n\u001b[1;32m     15\u001b[0m     load_best_model_at_end\u001b[38;5;241m=\u001b[39m\u001b[38;5;28;01mTrue\u001b[39;00m,\n\u001b[1;32m     16\u001b[0m )\n\u001b[1;32m     18\u001b[0m trainer \u001b[38;5;241m=\u001b[39m Trainer(\n\u001b[1;32m     19\u001b[0m     model\u001b[38;5;241m=\u001b[39mmodel,\n\u001b[1;32m     20\u001b[0m     args\u001b[38;5;241m=\u001b[39mtraining_args,\n\u001b[0;32m   (...)\u001b[0m\n\u001b[1;32m     25\u001b[0m     compute_metrics\u001b[38;5;241m=\u001b[39mcompute_metrics,\n\u001b[1;32m     26\u001b[0m )\n\u001b[0;32m---> 28\u001b[0m \u001b[43mtrainer\u001b[49m\u001b[38;5;241;43m.\u001b[39;49m\u001b[43mtrain\u001b[49m\u001b[43m(\u001b[49m\u001b[43m)\u001b[49m\n",
      "File \u001b[0;32m/opt/conda/lib/python3.10/site-packages/transformers/trainer.py:1539\u001b[0m, in \u001b[0;36mTrainer.train\u001b[0;34m(self, resume_from_checkpoint, trial, ignore_keys_for_eval, **kwargs)\u001b[0m\n\u001b[1;32m   1534\u001b[0m     \u001b[38;5;28mself\u001b[39m\u001b[38;5;241m.\u001b[39mmodel_wrapped \u001b[38;5;241m=\u001b[39m \u001b[38;5;28mself\u001b[39m\u001b[38;5;241m.\u001b[39mmodel\n\u001b[1;32m   1536\u001b[0m inner_training_loop \u001b[38;5;241m=\u001b[39m find_executable_batch_size(\n\u001b[1;32m   1537\u001b[0m     \u001b[38;5;28mself\u001b[39m\u001b[38;5;241m.\u001b[39m_inner_training_loop, \u001b[38;5;28mself\u001b[39m\u001b[38;5;241m.\u001b[39m_train_batch_size, args\u001b[38;5;241m.\u001b[39mauto_find_batch_size\n\u001b[1;32m   1538\u001b[0m )\n\u001b[0;32m-> 1539\u001b[0m \u001b[38;5;28;01mreturn\u001b[39;00m \u001b[43minner_training_loop\u001b[49m\u001b[43m(\u001b[49m\n\u001b[1;32m   1540\u001b[0m \u001b[43m    \u001b[49m\u001b[43margs\u001b[49m\u001b[38;5;241;43m=\u001b[39;49m\u001b[43margs\u001b[49m\u001b[43m,\u001b[49m\n\u001b[1;32m   1541\u001b[0m \u001b[43m    \u001b[49m\u001b[43mresume_from_checkpoint\u001b[49m\u001b[38;5;241;43m=\u001b[39;49m\u001b[43mresume_from_checkpoint\u001b[49m\u001b[43m,\u001b[49m\n\u001b[1;32m   1542\u001b[0m \u001b[43m    \u001b[49m\u001b[43mtrial\u001b[49m\u001b[38;5;241;43m=\u001b[39;49m\u001b[43mtrial\u001b[49m\u001b[43m,\u001b[49m\n\u001b[1;32m   1543\u001b[0m \u001b[43m    \u001b[49m\u001b[43mignore_keys_for_eval\u001b[49m\u001b[38;5;241;43m=\u001b[39;49m\u001b[43mignore_keys_for_eval\u001b[49m\u001b[43m,\u001b[49m\n\u001b[1;32m   1544\u001b[0m \u001b[43m\u001b[49m\u001b[43m)\u001b[49m\n",
      "File \u001b[0;32m/opt/conda/lib/python3.10/site-packages/transformers/trainer.py:1809\u001b[0m, in \u001b[0;36mTrainer._inner_training_loop\u001b[0;34m(self, batch_size, args, resume_from_checkpoint, trial, ignore_keys_for_eval)\u001b[0m\n\u001b[1;32m   1806\u001b[0m     \u001b[38;5;28mself\u001b[39m\u001b[38;5;241m.\u001b[39mcontrol \u001b[38;5;241m=\u001b[39m \u001b[38;5;28mself\u001b[39m\u001b[38;5;241m.\u001b[39mcallback_handler\u001b[38;5;241m.\u001b[39mon_step_begin(args, \u001b[38;5;28mself\u001b[39m\u001b[38;5;241m.\u001b[39mstate, \u001b[38;5;28mself\u001b[39m\u001b[38;5;241m.\u001b[39mcontrol)\n\u001b[1;32m   1808\u001b[0m \u001b[38;5;28;01mwith\u001b[39;00m \u001b[38;5;28mself\u001b[39m\u001b[38;5;241m.\u001b[39maccelerator\u001b[38;5;241m.\u001b[39maccumulate(model):\n\u001b[0;32m-> 1809\u001b[0m     tr_loss_step \u001b[38;5;241m=\u001b[39m \u001b[38;5;28;43mself\u001b[39;49m\u001b[38;5;241;43m.\u001b[39;49m\u001b[43mtraining_step\u001b[49m\u001b[43m(\u001b[49m\u001b[43mmodel\u001b[49m\u001b[43m,\u001b[49m\u001b[43m \u001b[49m\u001b[43minputs\u001b[49m\u001b[43m)\u001b[49m\n\u001b[1;32m   1811\u001b[0m \u001b[38;5;28;01mif\u001b[39;00m (\n\u001b[1;32m   1812\u001b[0m     args\u001b[38;5;241m.\u001b[39mlogging_nan_inf_filter\n\u001b[1;32m   1813\u001b[0m     \u001b[38;5;129;01mand\u001b[39;00m \u001b[38;5;129;01mnot\u001b[39;00m is_torch_tpu_available()\n\u001b[1;32m   1814\u001b[0m     \u001b[38;5;129;01mand\u001b[39;00m (torch\u001b[38;5;241m.\u001b[39misnan(tr_loss_step) \u001b[38;5;129;01mor\u001b[39;00m torch\u001b[38;5;241m.\u001b[39misinf(tr_loss_step))\n\u001b[1;32m   1815\u001b[0m ):\n\u001b[1;32m   1816\u001b[0m     \u001b[38;5;66;03m# if loss is nan or inf simply add the average of previous logged losses\u001b[39;00m\n\u001b[1;32m   1817\u001b[0m     tr_loss \u001b[38;5;241m+\u001b[39m\u001b[38;5;241m=\u001b[39m tr_loss \u001b[38;5;241m/\u001b[39m (\u001b[38;5;241m1\u001b[39m \u001b[38;5;241m+\u001b[39m \u001b[38;5;28mself\u001b[39m\u001b[38;5;241m.\u001b[39mstate\u001b[38;5;241m.\u001b[39mglobal_step \u001b[38;5;241m-\u001b[39m \u001b[38;5;28mself\u001b[39m\u001b[38;5;241m.\u001b[39m_globalstep_last_logged)\n",
      "File \u001b[0;32m/opt/conda/lib/python3.10/site-packages/transformers/trainer.py:2665\u001b[0m, in \u001b[0;36mTrainer.training_step\u001b[0;34m(self, model, inputs)\u001b[0m\n\u001b[1;32m   2663\u001b[0m         scaled_loss\u001b[38;5;241m.\u001b[39mbackward()\n\u001b[1;32m   2664\u001b[0m \u001b[38;5;28;01melse\u001b[39;00m:\n\u001b[0;32m-> 2665\u001b[0m     \u001b[38;5;28;43mself\u001b[39;49m\u001b[38;5;241;43m.\u001b[39;49m\u001b[43maccelerator\u001b[49m\u001b[38;5;241;43m.\u001b[39;49m\u001b[43mbackward\u001b[49m\u001b[43m(\u001b[49m\u001b[43mloss\u001b[49m\u001b[43m)\u001b[49m\n\u001b[1;32m   2667\u001b[0m \u001b[38;5;28;01mreturn\u001b[39;00m loss\u001b[38;5;241m.\u001b[39mdetach() \u001b[38;5;241m/\u001b[39m \u001b[38;5;28mself\u001b[39m\u001b[38;5;241m.\u001b[39margs\u001b[38;5;241m.\u001b[39mgradient_accumulation_steps\n",
      "File \u001b[0;32m/opt/conda/lib/python3.10/site-packages/accelerate/accelerator.py:1853\u001b[0m, in \u001b[0;36mAccelerator.backward\u001b[0;34m(self, loss, **kwargs)\u001b[0m\n\u001b[1;32m   1851\u001b[0m     \u001b[38;5;28mself\u001b[39m\u001b[38;5;241m.\u001b[39mscaler\u001b[38;5;241m.\u001b[39mscale(loss)\u001b[38;5;241m.\u001b[39mbackward(\u001b[38;5;241m*\u001b[39m\u001b[38;5;241m*\u001b[39mkwargs)\n\u001b[1;32m   1852\u001b[0m \u001b[38;5;28;01melse\u001b[39;00m:\n\u001b[0;32m-> 1853\u001b[0m     \u001b[43mloss\u001b[49m\u001b[38;5;241;43m.\u001b[39;49m\u001b[43mbackward\u001b[49m\u001b[43m(\u001b[49m\u001b[38;5;241;43m*\u001b[39;49m\u001b[38;5;241;43m*\u001b[39;49m\u001b[43mkwargs\u001b[49m\u001b[43m)\u001b[49m\n",
      "File \u001b[0;32m/opt/conda/lib/python3.10/site-packages/torch/_tensor.py:487\u001b[0m, in \u001b[0;36mTensor.backward\u001b[0;34m(self, gradient, retain_graph, create_graph, inputs)\u001b[0m\n\u001b[1;32m    477\u001b[0m \u001b[38;5;28;01mif\u001b[39;00m has_torch_function_unary(\u001b[38;5;28mself\u001b[39m):\n\u001b[1;32m    478\u001b[0m     \u001b[38;5;28;01mreturn\u001b[39;00m handle_torch_function(\n\u001b[1;32m    479\u001b[0m         Tensor\u001b[38;5;241m.\u001b[39mbackward,\n\u001b[1;32m    480\u001b[0m         (\u001b[38;5;28mself\u001b[39m,),\n\u001b[0;32m   (...)\u001b[0m\n\u001b[1;32m    485\u001b[0m         inputs\u001b[38;5;241m=\u001b[39minputs,\n\u001b[1;32m    486\u001b[0m     )\n\u001b[0;32m--> 487\u001b[0m \u001b[43mtorch\u001b[49m\u001b[38;5;241;43m.\u001b[39;49m\u001b[43mautograd\u001b[49m\u001b[38;5;241;43m.\u001b[39;49m\u001b[43mbackward\u001b[49m\u001b[43m(\u001b[49m\n\u001b[1;32m    488\u001b[0m \u001b[43m    \u001b[49m\u001b[38;5;28;43mself\u001b[39;49m\u001b[43m,\u001b[49m\u001b[43m \u001b[49m\u001b[43mgradient\u001b[49m\u001b[43m,\u001b[49m\u001b[43m \u001b[49m\u001b[43mretain_graph\u001b[49m\u001b[43m,\u001b[49m\u001b[43m \u001b[49m\u001b[43mcreate_graph\u001b[49m\u001b[43m,\u001b[49m\u001b[43m \u001b[49m\u001b[43minputs\u001b[49m\u001b[38;5;241;43m=\u001b[39;49m\u001b[43minputs\u001b[49m\n\u001b[1;32m    489\u001b[0m \u001b[43m\u001b[49m\u001b[43m)\u001b[49m\n",
      "File \u001b[0;32m/opt/conda/lib/python3.10/site-packages/torch/autograd/__init__.py:200\u001b[0m, in \u001b[0;36mbackward\u001b[0;34m(tensors, grad_tensors, retain_graph, create_graph, grad_variables, inputs)\u001b[0m\n\u001b[1;32m    195\u001b[0m     retain_graph \u001b[38;5;241m=\u001b[39m create_graph\n\u001b[1;32m    197\u001b[0m \u001b[38;5;66;03m# The reason we repeat same the comment below is that\u001b[39;00m\n\u001b[1;32m    198\u001b[0m \u001b[38;5;66;03m# some Python versions print out the first line of a multi-line function\u001b[39;00m\n\u001b[1;32m    199\u001b[0m \u001b[38;5;66;03m# calls in the traceback and some print out the last line\u001b[39;00m\n\u001b[0;32m--> 200\u001b[0m \u001b[43mVariable\u001b[49m\u001b[38;5;241;43m.\u001b[39;49m\u001b[43m_execution_engine\u001b[49m\u001b[38;5;241;43m.\u001b[39;49m\u001b[43mrun_backward\u001b[49m\u001b[43m(\u001b[49m\u001b[43m  \u001b[49m\u001b[38;5;66;43;03m# Calls into the C++ engine to run the backward pass\u001b[39;49;00m\n\u001b[1;32m    201\u001b[0m \u001b[43m    \u001b[49m\u001b[43mtensors\u001b[49m\u001b[43m,\u001b[49m\u001b[43m \u001b[49m\u001b[43mgrad_tensors_\u001b[49m\u001b[43m,\u001b[49m\u001b[43m \u001b[49m\u001b[43mretain_graph\u001b[49m\u001b[43m,\u001b[49m\u001b[43m \u001b[49m\u001b[43mcreate_graph\u001b[49m\u001b[43m,\u001b[49m\u001b[43m \u001b[49m\u001b[43minputs\u001b[49m\u001b[43m,\u001b[49m\n\u001b[1;32m    202\u001b[0m \u001b[43m    \u001b[49m\u001b[43mallow_unreachable\u001b[49m\u001b[38;5;241;43m=\u001b[39;49m\u001b[38;5;28;43;01mTrue\u001b[39;49;00m\u001b[43m,\u001b[49m\u001b[43m \u001b[49m\u001b[43maccumulate_grad\u001b[49m\u001b[38;5;241;43m=\u001b[39;49m\u001b[38;5;28;43;01mTrue\u001b[39;49;00m\u001b[43m)\u001b[49m\n",
      "\u001b[0;31mKeyboardInterrupt\u001b[0m: "
     ]
    }
   ],
   "source": [
    "model = AutoModelForSequenceClassification.from_pretrained(\n",
    "    \"distilbert-base-uncased\", num_labels=2, id2label=id2label, label2id=label2id\n",
    ")\n",
    "\n",
    "training_args = TrainingArguments(\n",
    "    output_dir=\"text_classifier\",\n",
    "    learning_rate=2e-5,\n",
    "    per_device_train_batch_size=16,\n",
    "    per_device_eval_batch_size=16,\n",
    "    num_train_epochs=4,\n",
    "    weight_decay=0.01,\n",
    "    evaluation_strategy=\"steps\",  # Change evaluation strategy to \"steps\"\n",
    "    eval_steps=100,  # Set the evaluation frequency to every 100 steps\n",
    "    save_strategy=\"steps\",\n",
    "    load_best_model_at_end=True,\n",
    ")\n",
    "\n",
    "trainer = Trainer(\n",
    "    model=model,\n",
    "    args=training_args,\n",
    "    train_dataset=tokenized_imdb['train'],\n",
    "    eval_dataset=tokenized_imdb['test'],\n",
    "    tokenizer=tokenizer,\n",
    "    data_collator=data_collator,\n",
    "    compute_metrics=compute_metrics,\n",
    ")\n",
    "\n",
    "trainer.train()"
   ]
  },
  {
   "cell_type": "code",
   "execution_count": 6,
   "id": "a43b6f34-f549-4510-a53d-0f6ca7b258b3",
   "metadata": {
    "tags": []
   },
   "outputs": [
    {
     "name": "stdout",
     "output_type": "stream",
     "text": [
      "cudatoolkit               11.8.0              h4ba93d1_12    conda-forge\n",
      "\n",
      "Note: you may need to restart the kernel to use updated packages.\n"
     ]
    }
   ],
   "source": [
    "conda list | grep cudatoolkit"
   ]
  },
  {
   "cell_type": "code",
   "execution_count": null,
   "id": "7d635108-9a58-4bda-a224-26e69920ab78",
   "metadata": {},
   "outputs": [],
   "source": [
    "#11.8.0"
   ]
  },
  {
   "cell_type": "code",
   "execution_count": null,
   "id": "a5c0ec1e-b9e9-498f-ac6d-8b89466585b3",
   "metadata": {},
   "outputs": [],
   "source": []
  }
 ],
 "metadata": {
  "availableInstances": [
   {
    "_defaultOrder": 0,
    "_isFastLaunch": true,
    "category": "General purpose",
    "gpuNum": 0,
    "hideHardwareSpecs": false,
    "memoryGiB": 4,
    "name": "ml.t3.medium",
    "vcpuNum": 2
   },
   {
    "_defaultOrder": 1,
    "_isFastLaunch": false,
    "category": "General purpose",
    "gpuNum": 0,
    "hideHardwareSpecs": false,
    "memoryGiB": 8,
    "name": "ml.t3.large",
    "vcpuNum": 2
   },
   {
    "_defaultOrder": 2,
    "_isFastLaunch": false,
    "category": "General purpose",
    "gpuNum": 0,
    "hideHardwareSpecs": false,
    "memoryGiB": 16,
    "name": "ml.t3.xlarge",
    "vcpuNum": 4
   },
   {
    "_defaultOrder": 3,
    "_isFastLaunch": false,
    "category": "General purpose",
    "gpuNum": 0,
    "hideHardwareSpecs": false,
    "memoryGiB": 32,
    "name": "ml.t3.2xlarge",
    "vcpuNum": 8
   },
   {
    "_defaultOrder": 4,
    "_isFastLaunch": true,
    "category": "General purpose",
    "gpuNum": 0,
    "hideHardwareSpecs": false,
    "memoryGiB": 8,
    "name": "ml.m5.large",
    "vcpuNum": 2
   },
   {
    "_defaultOrder": 5,
    "_isFastLaunch": false,
    "category": "General purpose",
    "gpuNum": 0,
    "hideHardwareSpecs": false,
    "memoryGiB": 16,
    "name": "ml.m5.xlarge",
    "vcpuNum": 4
   },
   {
    "_defaultOrder": 6,
    "_isFastLaunch": false,
    "category": "General purpose",
    "gpuNum": 0,
    "hideHardwareSpecs": false,
    "memoryGiB": 32,
    "name": "ml.m5.2xlarge",
    "vcpuNum": 8
   },
   {
    "_defaultOrder": 7,
    "_isFastLaunch": false,
    "category": "General purpose",
    "gpuNum": 0,
    "hideHardwareSpecs": false,
    "memoryGiB": 64,
    "name": "ml.m5.4xlarge",
    "vcpuNum": 16
   },
   {
    "_defaultOrder": 8,
    "_isFastLaunch": false,
    "category": "General purpose",
    "gpuNum": 0,
    "hideHardwareSpecs": false,
    "memoryGiB": 128,
    "name": "ml.m5.8xlarge",
    "vcpuNum": 32
   },
   {
    "_defaultOrder": 9,
    "_isFastLaunch": false,
    "category": "General purpose",
    "gpuNum": 0,
    "hideHardwareSpecs": false,
    "memoryGiB": 192,
    "name": "ml.m5.12xlarge",
    "vcpuNum": 48
   },
   {
    "_defaultOrder": 10,
    "_isFastLaunch": false,
    "category": "General purpose",
    "gpuNum": 0,
    "hideHardwareSpecs": false,
    "memoryGiB": 256,
    "name": "ml.m5.16xlarge",
    "vcpuNum": 64
   },
   {
    "_defaultOrder": 11,
    "_isFastLaunch": false,
    "category": "General purpose",
    "gpuNum": 0,
    "hideHardwareSpecs": false,
    "memoryGiB": 384,
    "name": "ml.m5.24xlarge",
    "vcpuNum": 96
   },
   {
    "_defaultOrder": 12,
    "_isFastLaunch": false,
    "category": "General purpose",
    "gpuNum": 0,
    "hideHardwareSpecs": false,
    "memoryGiB": 8,
    "name": "ml.m5d.large",
    "vcpuNum": 2
   },
   {
    "_defaultOrder": 13,
    "_isFastLaunch": false,
    "category": "General purpose",
    "gpuNum": 0,
    "hideHardwareSpecs": false,
    "memoryGiB": 16,
    "name": "ml.m5d.xlarge",
    "vcpuNum": 4
   },
   {
    "_defaultOrder": 14,
    "_isFastLaunch": false,
    "category": "General purpose",
    "gpuNum": 0,
    "hideHardwareSpecs": false,
    "memoryGiB": 32,
    "name": "ml.m5d.2xlarge",
    "vcpuNum": 8
   },
   {
    "_defaultOrder": 15,
    "_isFastLaunch": false,
    "category": "General purpose",
    "gpuNum": 0,
    "hideHardwareSpecs": false,
    "memoryGiB": 64,
    "name": "ml.m5d.4xlarge",
    "vcpuNum": 16
   },
   {
    "_defaultOrder": 16,
    "_isFastLaunch": false,
    "category": "General purpose",
    "gpuNum": 0,
    "hideHardwareSpecs": false,
    "memoryGiB": 128,
    "name": "ml.m5d.8xlarge",
    "vcpuNum": 32
   },
   {
    "_defaultOrder": 17,
    "_isFastLaunch": false,
    "category": "General purpose",
    "gpuNum": 0,
    "hideHardwareSpecs": false,
    "memoryGiB": 192,
    "name": "ml.m5d.12xlarge",
    "vcpuNum": 48
   },
   {
    "_defaultOrder": 18,
    "_isFastLaunch": false,
    "category": "General purpose",
    "gpuNum": 0,
    "hideHardwareSpecs": false,
    "memoryGiB": 256,
    "name": "ml.m5d.16xlarge",
    "vcpuNum": 64
   },
   {
    "_defaultOrder": 19,
    "_isFastLaunch": false,
    "category": "General purpose",
    "gpuNum": 0,
    "hideHardwareSpecs": false,
    "memoryGiB": 384,
    "name": "ml.m5d.24xlarge",
    "vcpuNum": 96
   },
   {
    "_defaultOrder": 20,
    "_isFastLaunch": false,
    "category": "General purpose",
    "gpuNum": 0,
    "hideHardwareSpecs": true,
    "memoryGiB": 0,
    "name": "ml.geospatial.interactive",
    "supportedImageNames": [
     "sagemaker-geospatial-v1-0"
    ],
    "vcpuNum": 0
   },
   {
    "_defaultOrder": 21,
    "_isFastLaunch": true,
    "category": "Compute optimized",
    "gpuNum": 0,
    "hideHardwareSpecs": false,
    "memoryGiB": 4,
    "name": "ml.c5.large",
    "vcpuNum": 2
   },
   {
    "_defaultOrder": 22,
    "_isFastLaunch": false,
    "category": "Compute optimized",
    "gpuNum": 0,
    "hideHardwareSpecs": false,
    "memoryGiB": 8,
    "name": "ml.c5.xlarge",
    "vcpuNum": 4
   },
   {
    "_defaultOrder": 23,
    "_isFastLaunch": false,
    "category": "Compute optimized",
    "gpuNum": 0,
    "hideHardwareSpecs": false,
    "memoryGiB": 16,
    "name": "ml.c5.2xlarge",
    "vcpuNum": 8
   },
   {
    "_defaultOrder": 24,
    "_isFastLaunch": false,
    "category": "Compute optimized",
    "gpuNum": 0,
    "hideHardwareSpecs": false,
    "memoryGiB": 32,
    "name": "ml.c5.4xlarge",
    "vcpuNum": 16
   },
   {
    "_defaultOrder": 25,
    "_isFastLaunch": false,
    "category": "Compute optimized",
    "gpuNum": 0,
    "hideHardwareSpecs": false,
    "memoryGiB": 72,
    "name": "ml.c5.9xlarge",
    "vcpuNum": 36
   },
   {
    "_defaultOrder": 26,
    "_isFastLaunch": false,
    "category": "Compute optimized",
    "gpuNum": 0,
    "hideHardwareSpecs": false,
    "memoryGiB": 96,
    "name": "ml.c5.12xlarge",
    "vcpuNum": 48
   },
   {
    "_defaultOrder": 27,
    "_isFastLaunch": false,
    "category": "Compute optimized",
    "gpuNum": 0,
    "hideHardwareSpecs": false,
    "memoryGiB": 144,
    "name": "ml.c5.18xlarge",
    "vcpuNum": 72
   },
   {
    "_defaultOrder": 28,
    "_isFastLaunch": false,
    "category": "Compute optimized",
    "gpuNum": 0,
    "hideHardwareSpecs": false,
    "memoryGiB": 192,
    "name": "ml.c5.24xlarge",
    "vcpuNum": 96
   },
   {
    "_defaultOrder": 29,
    "_isFastLaunch": true,
    "category": "Accelerated computing",
    "gpuNum": 1,
    "hideHardwareSpecs": false,
    "memoryGiB": 16,
    "name": "ml.g4dn.xlarge",
    "vcpuNum": 4
   },
   {
    "_defaultOrder": 30,
    "_isFastLaunch": false,
    "category": "Accelerated computing",
    "gpuNum": 1,
    "hideHardwareSpecs": false,
    "memoryGiB": 32,
    "name": "ml.g4dn.2xlarge",
    "vcpuNum": 8
   },
   {
    "_defaultOrder": 31,
    "_isFastLaunch": false,
    "category": "Accelerated computing",
    "gpuNum": 1,
    "hideHardwareSpecs": false,
    "memoryGiB": 64,
    "name": "ml.g4dn.4xlarge",
    "vcpuNum": 16
   },
   {
    "_defaultOrder": 32,
    "_isFastLaunch": false,
    "category": "Accelerated computing",
    "gpuNum": 1,
    "hideHardwareSpecs": false,
    "memoryGiB": 128,
    "name": "ml.g4dn.8xlarge",
    "vcpuNum": 32
   },
   {
    "_defaultOrder": 33,
    "_isFastLaunch": false,
    "category": "Accelerated computing",
    "gpuNum": 4,
    "hideHardwareSpecs": false,
    "memoryGiB": 192,
    "name": "ml.g4dn.12xlarge",
    "vcpuNum": 48
   },
   {
    "_defaultOrder": 34,
    "_isFastLaunch": false,
    "category": "Accelerated computing",
    "gpuNum": 1,
    "hideHardwareSpecs": false,
    "memoryGiB": 256,
    "name": "ml.g4dn.16xlarge",
    "vcpuNum": 64
   },
   {
    "_defaultOrder": 35,
    "_isFastLaunch": false,
    "category": "Accelerated computing",
    "gpuNum": 1,
    "hideHardwareSpecs": false,
    "memoryGiB": 61,
    "name": "ml.p3.2xlarge",
    "vcpuNum": 8
   },
   {
    "_defaultOrder": 36,
    "_isFastLaunch": false,
    "category": "Accelerated computing",
    "gpuNum": 4,
    "hideHardwareSpecs": false,
    "memoryGiB": 244,
    "name": "ml.p3.8xlarge",
    "vcpuNum": 32
   },
   {
    "_defaultOrder": 37,
    "_isFastLaunch": false,
    "category": "Accelerated computing",
    "gpuNum": 8,
    "hideHardwareSpecs": false,
    "memoryGiB": 488,
    "name": "ml.p3.16xlarge",
    "vcpuNum": 64
   },
   {
    "_defaultOrder": 38,
    "_isFastLaunch": false,
    "category": "Accelerated computing",
    "gpuNum": 8,
    "hideHardwareSpecs": false,
    "memoryGiB": 768,
    "name": "ml.p3dn.24xlarge",
    "vcpuNum": 96
   },
   {
    "_defaultOrder": 39,
    "_isFastLaunch": false,
    "category": "Memory Optimized",
    "gpuNum": 0,
    "hideHardwareSpecs": false,
    "memoryGiB": 16,
    "name": "ml.r5.large",
    "vcpuNum": 2
   },
   {
    "_defaultOrder": 40,
    "_isFastLaunch": false,
    "category": "Memory Optimized",
    "gpuNum": 0,
    "hideHardwareSpecs": false,
    "memoryGiB": 32,
    "name": "ml.r5.xlarge",
    "vcpuNum": 4
   },
   {
    "_defaultOrder": 41,
    "_isFastLaunch": false,
    "category": "Memory Optimized",
    "gpuNum": 0,
    "hideHardwareSpecs": false,
    "memoryGiB": 64,
    "name": "ml.r5.2xlarge",
    "vcpuNum": 8
   },
   {
    "_defaultOrder": 42,
    "_isFastLaunch": false,
    "category": "Memory Optimized",
    "gpuNum": 0,
    "hideHardwareSpecs": false,
    "memoryGiB": 128,
    "name": "ml.r5.4xlarge",
    "vcpuNum": 16
   },
   {
    "_defaultOrder": 43,
    "_isFastLaunch": false,
    "category": "Memory Optimized",
    "gpuNum": 0,
    "hideHardwareSpecs": false,
    "memoryGiB": 256,
    "name": "ml.r5.8xlarge",
    "vcpuNum": 32
   },
   {
    "_defaultOrder": 44,
    "_isFastLaunch": false,
    "category": "Memory Optimized",
    "gpuNum": 0,
    "hideHardwareSpecs": false,
    "memoryGiB": 384,
    "name": "ml.r5.12xlarge",
    "vcpuNum": 48
   },
   {
    "_defaultOrder": 45,
    "_isFastLaunch": false,
    "category": "Memory Optimized",
    "gpuNum": 0,
    "hideHardwareSpecs": false,
    "memoryGiB": 512,
    "name": "ml.r5.16xlarge",
    "vcpuNum": 64
   },
   {
    "_defaultOrder": 46,
    "_isFastLaunch": false,
    "category": "Memory Optimized",
    "gpuNum": 0,
    "hideHardwareSpecs": false,
    "memoryGiB": 768,
    "name": "ml.r5.24xlarge",
    "vcpuNum": 96
   },
   {
    "_defaultOrder": 47,
    "_isFastLaunch": false,
    "category": "Accelerated computing",
    "gpuNum": 1,
    "hideHardwareSpecs": false,
    "memoryGiB": 16,
    "name": "ml.g5.xlarge",
    "vcpuNum": 4
   },
   {
    "_defaultOrder": 48,
    "_isFastLaunch": false,
    "category": "Accelerated computing",
    "gpuNum": 1,
    "hideHardwareSpecs": false,
    "memoryGiB": 32,
    "name": "ml.g5.2xlarge",
    "vcpuNum": 8
   },
   {
    "_defaultOrder": 49,
    "_isFastLaunch": false,
    "category": "Accelerated computing",
    "gpuNum": 1,
    "hideHardwareSpecs": false,
    "memoryGiB": 64,
    "name": "ml.g5.4xlarge",
    "vcpuNum": 16
   },
   {
    "_defaultOrder": 50,
    "_isFastLaunch": false,
    "category": "Accelerated computing",
    "gpuNum": 1,
    "hideHardwareSpecs": false,
    "memoryGiB": 128,
    "name": "ml.g5.8xlarge",
    "vcpuNum": 32
   },
   {
    "_defaultOrder": 51,
    "_isFastLaunch": false,
    "category": "Accelerated computing",
    "gpuNum": 1,
    "hideHardwareSpecs": false,
    "memoryGiB": 256,
    "name": "ml.g5.16xlarge",
    "vcpuNum": 64
   },
   {
    "_defaultOrder": 52,
    "_isFastLaunch": false,
    "category": "Accelerated computing",
    "gpuNum": 4,
    "hideHardwareSpecs": false,
    "memoryGiB": 192,
    "name": "ml.g5.12xlarge",
    "vcpuNum": 48
   },
   {
    "_defaultOrder": 53,
    "_isFastLaunch": false,
    "category": "Accelerated computing",
    "gpuNum": 4,
    "hideHardwareSpecs": false,
    "memoryGiB": 384,
    "name": "ml.g5.24xlarge",
    "vcpuNum": 96
   },
   {
    "_defaultOrder": 54,
    "_isFastLaunch": false,
    "category": "Accelerated computing",
    "gpuNum": 8,
    "hideHardwareSpecs": false,
    "memoryGiB": 768,
    "name": "ml.g5.48xlarge",
    "vcpuNum": 192
   },
   {
    "_defaultOrder": 55,
    "_isFastLaunch": false,
    "category": "Accelerated computing",
    "gpuNum": 8,
    "hideHardwareSpecs": false,
    "memoryGiB": 1152,
    "name": "ml.p4d.24xlarge",
    "vcpuNum": 96
   },
   {
    "_defaultOrder": 56,
    "_isFastLaunch": false,
    "category": "Accelerated computing",
    "gpuNum": 8,
    "hideHardwareSpecs": false,
    "memoryGiB": 1152,
    "name": "ml.p4de.24xlarge",
    "vcpuNum": 96
   },
   {
    "_defaultOrder": 57,
    "_isFastLaunch": false,
    "category": "Accelerated computing",
    "gpuNum": 0,
    "hideHardwareSpecs": false,
    "memoryGiB": 32,
    "name": "ml.trn1.2xlarge",
    "vcpuNum": 8
   },
   {
    "_defaultOrder": 58,
    "_isFastLaunch": false,
    "category": "Accelerated computing",
    "gpuNum": 0,
    "hideHardwareSpecs": false,
    "memoryGiB": 512,
    "name": "ml.trn1.32xlarge",
    "vcpuNum": 128
   },
   {
    "_defaultOrder": 59,
    "_isFastLaunch": false,
    "category": "Accelerated computing",
    "gpuNum": 0,
    "hideHardwareSpecs": false,
    "memoryGiB": 512,
    "name": "ml.trn1n.32xlarge",
    "vcpuNum": 128
   }
  ],
  "instance_type": "ml.g4dn.xlarge",
  "kernelspec": {
   "display_name": "Python 3",
   "language": "python",
   "name": "python3"
  },
  "language_info": {
   "codemirror_mode": {
    "name": "ipython",
    "version": 3
   },
   "file_extension": ".py",
   "mimetype": "text/x-python",
   "name": "python",
   "nbconvert_exporter": "python",
   "pygments_lexer": "ipython3",
   "version": "3.8.8"
  }
 },
 "nbformat": 4,
 "nbformat_minor": 5
}
